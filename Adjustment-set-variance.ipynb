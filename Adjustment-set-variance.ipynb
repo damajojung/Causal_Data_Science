{
 "cells": [
  {
   "cell_type": "code",
   "execution_count": null,
   "id": "7ddafba3-6ea6-4c8f-96d7-b8d041f609f2",
   "metadata": {},
   "outputs": [],
   "source": [
    "import numpy as np\n",
    "from numpy.random import randn\n",
    "import pandas as pd\n",
    "import seaborn as sns\n",
    "from sklearn.linear_model import LinearRegression\n",
    "\n",
    "# We need a lot of samples to plot the conditional distribution:\n",
    "n_samples=1000\n",
    "\n",
    "def simulate(seed):   \n",
    "    np.random.default_rng=seed\n",
    "    x1 = randn(n_samples)\n",
    "    x2 = randn(n_samples)\n",
    "    x3 = randn(n_samples)\n",
    "    x5 = x1 + x2 + randn(n_samples)\n",
    "    x4 = x5 + randn(n_samples)\n",
    "    x6 = 0.8*x5 + x2 + x3 + randn(n_samples)\n",
    "    x7 = 2 * x6 + randn(n_samples)\n",
    "    return pd.DataFrame({ \"x1\": x1, \"x2\": x2, \"x3\": x3,\"x4\": x4, \"x5\":x5, \"x6\":x6, \"x7\":x7})\n",
    "\n",
    "def linear_coeff(X,Y):\n",
    "    linear_regressor = LinearRegression() \n",
    "    linear_regressor.fit(X, Y)\n",
    "    return linear_regressor.coef_\n"
   ]
  },
  {
   "cell_type": "code",
   "execution_count": 121,
   "id": "adbab01f-b5b0-4542-aafa-da0b2051cbbd",
   "metadata": {},
   "outputs": [],
   "source": [
    "unadjusted_coeff = []\n",
    "parents_coeff = []\n",
    "X2X3_coeff = []\n",
    "X2X3X4_coeff = []\n",
    "\n",
    "for i in range(1,1000):\n",
    "    df = simulate(i)\n",
    "    Y = df[\"x7\"].values.reshape(-1, 1)\n",
    "    # Estimate the effect without any adjustment\n",
    "    unadjusted_coeff.append(linear_coeff(df[\"x5\"].values.reshape(n_samples, 1),Y))\n",
    "    X5_parents = df.iloc[:, [0,1,4]].values.reshape(n_samples, 3)\n",
    "    # Use parents of X5 as adjustment, so X1 and X2\n",
    "    parents_coeff.append(linear_coeff(X5_parents,Y)[:,2])\n",
    "    # Use X2 and X3 as adjustment\n",
    "    X235 = df.iloc[:, [1,2,4]].values.reshape(n_samples, 3)\n",
    "    X2X3_coeff.append(linear_coeff(X235,Y)[:,2])\n",
    "    # Use X2, X3 and X4 as adjustment\n",
    "    X2345 = df.iloc[:, 1:5].values.reshape(n_samples, 4)\n",
    "    X2X3X4_coeff.append(linear_coeff(X2345,Y)[:,3])"
   ]
  },
  {
   "cell_type": "code",
   "execution_count": 122,
   "id": "7a609971-ed74-4984-b850-838ae29f1c9f",
   "metadata": {},
   "outputs": [
    {
     "name": "stdout",
     "output_type": "stream",
     "text": [
      "2.2705492081250083 0.06224298552474189\n"
     ]
    }
   ],
   "source": [
    "# Mean and variance of unadjusted estimation\n",
    "print(np.mean(unadjusted_coeff), np.std(unadjusted_coeff))"
   ]
  },
  {
   "cell_type": "code",
   "execution_count": 123,
   "id": "601cecfc-82a3-4969-bc4c-6bb0e1fa5dc6",
   "metadata": {},
   "outputs": [
    {
     "name": "stdout",
     "output_type": "stream",
     "text": [
      "1.6046955308327764 0.09475652355644011\n"
     ]
    }
   ],
   "source": [
    "# Use parents of X5 as adjustment, so X1 and X2\n",
    "print(np.mean(parents_coeff), np.std(parents_coeff))"
   ]
  },
  {
   "cell_type": "code",
   "execution_count": 118,
   "id": "a8c99eae-60ab-4c92-b714-dd2d85a0f2c8",
   "metadata": {},
   "outputs": [
    {
     "name": "stdout",
     "output_type": "stream",
     "text": [
      "1.5992266833778408 0.05020348490675183\n"
     ]
    }
   ],
   "source": [
    "# Use X2 and X3 as adjustment\n",
    "print(np.mean(X2X3_coeff), np.std(X2X3_coeff))"
   ]
  },
  {
   "cell_type": "code",
   "execution_count": 120,
   "id": "f6a02b71-2f31-415b-bc4e-9952f0c307e8",
   "metadata": {},
   "outputs": [
    {
     "name": "stdout",
     "output_type": "stream",
     "text": [
      "1.596606679171312 0.0866883931867985\n"
     ]
    }
   ],
   "source": [
    "# Use X2, X3 and X4 as adjustment\n",
    "print(np.mean(X2X3X4_coeff), np.std(X2X3X4_coeff))"
   ]
  }
 ],
 "metadata": {
  "kernelspec": {
   "display_name": "Python 3 (ipykernel)",
   "language": "python",
   "name": "python3"
  },
  "language_info": {
   "codemirror_mode": {
    "name": "ipython",
    "version": 3
   },
   "file_extension": ".py",
   "mimetype": "text/x-python",
   "name": "python",
   "nbconvert_exporter": "python",
   "pygments_lexer": "ipython3",
   "version": "3.9.10"
  }
 },
 "nbformat": 4,
 "nbformat_minor": 5
}
