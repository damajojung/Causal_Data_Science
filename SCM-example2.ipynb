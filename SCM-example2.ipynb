{
 "cells": [
  {
   "cell_type": "code",
   "execution_count": 149,
   "id": "7ddafba3-6ea6-4c8f-96d7-b8d041f609f2",
   "metadata": {},
   "outputs": [],
   "source": [
    "#pip install scikit-learn\n",
    "import numpy as np\n",
    "from numpy.random import randn\n",
    "import pandas as pd\n",
    "import seaborn as sns\n",
    "from sklearn.linear_model import LinearRegression\n",
    "\n",
    "n_samples=10000"
   ]
  },
  {
   "cell_type": "markdown",
   "id": "5a47f648-143e-4c9f-839f-43d55f940b7d",
   "metadata": {
    "tags": []
   },
   "source": [
    "We are trying to learn the effect of X1 on X3, let's start by simulating the mean after setting X1 to 1 and 0:"
   ]
  },
  {
   "cell_type": "code",
   "execution_count": 150,
   "id": "d9b6330a-6c5b-48a8-a693-53ab3be6bd14",
   "metadata": {},
   "outputs": [
    {
     "name": "stdout",
     "output_type": "stream",
     "text": [
      "30.514748479180785\n"
     ]
    }
   ],
   "source": [
    "x2_1 = randn(n_samples)\n",
    "x1_1 =  1\n",
    "x3_1 = 5 * x1_1 + 4 * x2_1 + randn(n_samples)\n",
    "x4_1 = 6 * x3_1 + randn(n_samples) \n",
    "\n",
    "x2_0 = randn(n_samples)\n",
    "x1_0 =  0\n",
    "x3_0 = 5 * x1_0 + 4 * x2_0 + randn(n_samples)\n",
    "x4_0 = 6 * x3_0 + randn(n_samples)\n",
    "diff = np.mean(x4_1) - np.mean(x4_0)\n",
    "print(diff)"
   ]
  },
  {
   "cell_type": "markdown",
   "id": "57eb8c78-42a3-48ad-8600-7841b51a5927",
   "metadata": {},
   "source": [
    "We can also try to check if the effect predicted by the path method for the total average causal effect of X2 on X4 (114) is correct:"
   ]
  },
  {
   "cell_type": "code",
   "execution_count": 147,
   "id": "277bde97-9f6e-46aa-9f8c-463865f3ee71",
   "metadata": {},
   "outputs": [
    {
     "name": "stdout",
     "output_type": "stream",
     "text": [
      "115.57450550736193\n"
     ]
    }
   ],
   "source": [
    "x2_1 = 1\n",
    "x1_1 =  3 * x2_1 + randn(n_samples) \n",
    "x3_1 = 5 * x1_1 + 4 * x2_1 + randn(n_samples)\n",
    "x4_1 = 6 * x3_1 + randn(n_samples) \n",
    "\n",
    "x2_0 = 0\n",
    "x1_0 = 3 * x2_0 + randn(n_samples) \n",
    "x3_0 = 5 * x1_0 + 4 * x2_0 + randn(n_samples)\n",
    "x4_0 = 6 * x3_0 + randn(n_samples)\n",
    "diff = np.mean(x4_1) - np.mean(x4_0)\n",
    "print(diff)"
   ]
  },
  {
   "cell_type": "markdown",
   "id": "e0fdf1ff-457a-4a41-9fb9-1559273b64c4",
   "metadata": {},
   "source": [
    "We now show that we can also learn empirically the effect of X1 on X4 without simulating interventions. We simulate observational samples from the SCM from the example:"
   ]
  },
  {
   "cell_type": "code",
   "execution_count": 148,
   "id": "164881e5-45dd-4057-a6b8-ecdce96fea01",
   "metadata": {},
   "outputs": [],
   "source": [
    "x2 = randn(n_samples) \n",
    "x1 = 3 * x2 + randn(n_samples) \n",
    "x3 = 5 * x1 + 4 * x2 + randn(n_samples)\n",
    "x4 = 6 * x3 + randn(n_samples) \n",
    "\n",
    "df = pd.DataFrame({ \"x2\": x2, \"x1\": x1, \"x3\": x3,\"x4\": x4})\n",
    "Y = df.iloc[:, 3].values.reshape(-1, 1)\n",
    "X1 = df.iloc[:, 1].values.reshape(n_samples, 1)\n",
    "X21 = df.iloc[:, 0:2].values.reshape(n_samples, 2)\n",
    "X13 = df.iloc[:, 1:3].values.reshape(n_samples, 2)\n",
    "X = df.iloc[:, 0:3].values.reshape(n_samples, 3)"
   ]
  },
  {
   "cell_type": "markdown",
   "id": "b79803cf-94b2-4cd6-9b18-5f5368f5902f",
   "metadata": {
    "tags": []
   },
   "source": [
    "We start by regressing X4 on X1:"
   ]
  },
  {
   "cell_type": "code",
   "execution_count": 155,
   "id": "9ad0a0b4-9ef3-44ef-a6b3-ae6bf1059677",
   "metadata": {},
   "outputs": [
    {
     "data": {
      "text/plain": [
       "array([[37.15893506]])"
      ]
     },
     "execution_count": 155,
     "metadata": {},
     "output_type": "execute_result"
    }
   ],
   "source": [
    "linear_regressor = LinearRegression() \n",
    "linear_regressor.fit(X1, Y)\n",
    "linear_regressor.coef_"
   ]
  },
  {
   "cell_type": "markdown",
   "id": "4fccbb04-1036-42e8-bbb8-1766def2b064",
   "metadata": {},
   "source": [
    "The linear coefficient is far from the prediction for X1 (which is 30 = 5*6)"
   ]
  },
  {
   "cell_type": "markdown",
   "id": "37e66e7d-9801-4e3c-9319-05a2450d339a",
   "metadata": {},
   "source": [
    "We try something different and consider using both X1 and X3 as covariates in the regression:"
   ]
  },
  {
   "cell_type": "code",
   "execution_count": 151,
   "id": "ddcba9f8-d316-429f-9d5b-05c4cba4f0b0",
   "metadata": {},
   "outputs": [
    {
     "data": {
      "text/plain": [
       "array([0.14289015])"
      ]
     },
     "execution_count": 151,
     "metadata": {},
     "output_type": "execute_result"
    }
   ],
   "source": [
    "linear_regressorX13 = LinearRegression() \n",
    "linear_regressorX13.fit(X13, Y)\n",
    "linear_regressorX13.coef_[:,0]"
   ]
  },
  {
   "cell_type": "markdown",
   "id": "37a7b60c-7757-4312-9537-4a8babc8f5a6",
   "metadata": {},
   "source": [
    "The result for X1 are even worse. We now consider X1 and X2 as covariates in the regression:"
   ]
  },
  {
   "cell_type": "code",
   "execution_count": 154,
   "id": "1cdced87-713c-4bd6-b2ab-a9c121b10dca",
   "metadata": {},
   "outputs": [
    {
     "data": {
      "text/plain": [
       "array([29.87150906])"
      ]
     },
     "execution_count": 154,
     "metadata": {},
     "output_type": "execute_result"
    }
   ],
   "source": [
    "linear_regressorX12 = LinearRegression() \n",
    "linear_regressorX12.fit(X21, Y)\n",
    "linear_regressorX12.coef_[:,1]"
   ]
  },
  {
   "cell_type": "markdown",
   "id": "2239f02f-ab2f-4157-88c2-14ae997ec955",
   "metadata": {},
   "source": [
    "We consider X1, X2 and X3 in the regression:"
   ]
  },
  {
   "cell_type": "code",
   "execution_count": 153,
   "id": "4a977b70-2991-4182-af18-986a44f88932",
   "metadata": {},
   "outputs": [
    {
     "data": {
      "text/plain": [
       "array([0.15806091])"
      ]
     },
     "execution_count": 153,
     "metadata": {},
     "output_type": "execute_result"
    }
   ],
   "source": [
    "linear_regressorX123 = LinearRegression() \n",
    "linear_regressorX123.fit(X, Y)\n",
    "linear_regressorX123.coef_[:,1]"
   ]
  },
  {
   "cell_type": "markdown",
   "id": "ed3390e2-e582-4309-8002-aadf18024775",
   "metadata": {
    "tags": []
   },
   "source": [
    "The only correct estimate of the causal effect of X1 on X4 is when we also use X2 in the regression, which fits the adjustment formula we will see in the next slides."
   ]
  },
  {
   "cell_type": "code",
   "execution_count": null,
   "id": "236ec911-c8bd-47ed-a6e2-cd6193949686",
   "metadata": {},
   "outputs": [],
   "source": []
  }
 ],
 "metadata": {
  "kernelspec": {
   "display_name": "Python 3 (ipykernel)",
   "language": "python",
   "name": "python3"
  },
  "language_info": {
   "codemirror_mode": {
    "name": "ipython",
    "version": 3
   },
   "file_extension": ".py",
   "mimetype": "text/x-python",
   "name": "python",
   "nbconvert_exporter": "python",
   "pygments_lexer": "ipython3",
   "version": "3.9.10"
  }
 },
 "nbformat": 4,
 "nbformat_minor": 5
}
