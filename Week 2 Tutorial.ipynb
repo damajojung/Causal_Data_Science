{
 "cells": [
  {
   "cell_type": "markdown",
   "id": "85f83cae",
   "metadata": {},
   "source": [
    "# Causal Data Science Week 2 Tutorial\n",
    "\n",
    "In this toturial, you will learn:\n",
    "- how to use the package networkX to design causal graphs of your own and import them into the DoWhy package;\n",
    "- how to test independence and correlation on linear and non-linear data."
   ]
  },
  {
   "cell_type": "markdown",
   "id": "371ed153",
   "metadata": {},
   "source": [
    "## 1 NetworkX\n",
    "\n",
    "NetworkX is a Python package for the creation, manipulation, and study of the structure, dynamics, and functions of complex networks. \n",
    "\n",
    "With NetworkX you can load and store networks in standard and nonstandard data formats, generate many types of random and classic networks, analyze network structure, build network models, design new network algorithms, draw networks, and much more.\n",
    "\n",
    "Here is the documentation of how to use NetworkX: https://networkx.org/documentation/stable/reference/introduction.html."
   ]
  },
  {
   "cell_type": "markdown",
   "id": "0ab4bf45",
   "metadata": {},
   "source": [
    "We show a step-by-step example of creating and manipulating graphs. There are many ways of adding nodes and edges either individually and/or from a list."
   ]
  },
  {
   "cell_type": "markdown",
   "id": "6171fc6f",
   "metadata": {},
   "source": [
    "We first initialize the Graph object:"
   ]
  },
  {
   "cell_type": "code",
   "execution_count": 31,
   "id": "21ff8794",
   "metadata": {},
   "outputs": [],
   "source": [
    "import networkx as nx\n",
    "G = nx.Graph()"
   ]
  },
  {
   "cell_type": "markdown",
   "id": "32f22be4",
   "metadata": {},
   "source": [
    "We use the following function draw the Graph (which currently is empty):"
   ]
  },
  {
   "cell_type": "code",
   "execution_count": 32,
   "id": "c5dfb3f9",
   "metadata": {},
   "outputs": [
    {
     "data": {
      "image/png": "[encoded data removed]",
      "text/plain": [
       "<Figure size 252x252 with 1 Axes>"
      ]
     },
     "metadata": {},
     "output_type": "display_data"
    }
   ],
   "source": [
    "import matplotlib.pyplot as plt\n",
    "fig, ax = plt.subplots(figsize=(3.5,3.5)) # change the plot size\n",
    "nx.draw(G, with_labels=True, ax=ax)"
   ]
  },
  {
   "cell_type": "markdown",
   "id": "4541c651",
   "metadata": {},
   "source": [
    "We first add a node to the graph, labelled '1'"
   ]
  },
  {
   "cell_type": "code",
   "execution_count": 33,
   "id": "69c2cce0",
   "metadata": {},
   "outputs": [],
   "source": [
    "G.add_node(1)"
   ]
  },
  {
   "cell_type": "markdown",
   "id": "4cd81c9e",
   "metadata": {},
   "source": [
    "and then draw the graph again:"
   ]
  },
  {
   "cell_type": "code",
   "execution_count": 34,
   "id": "f314efb3",
   "metadata": {},
   "outputs": [
    {
     "data": {
      "image/png": "[encoded data removed]",
      "text/plain": [
       "<Figure size 432x288 with 1 Axes>"
      ]
     },
     "metadata": {},
     "output_type": "display_data"
    }
   ],
   "source": [
    "nx.draw(G, with_labels=True)"
   ]
  },
  {
   "cell_type": "markdown",
   "id": "cde19d01",
   "metadata": {},
   "source": [
    "We can also add nodes from a list."
   ]
  },
  {
   "cell_type": "code",
   "execution_count": 35,
   "id": "ab60660f",
   "metadata": {},
   "outputs": [
    {
     "data": {
      "image/png": "[encoded data removed]",
      "text/plain": [
       "<Figure size 432x288 with 1 Axes>"
      ]
     },
     "metadata": {},
     "output_type": "display_data"
    }
   ],
   "source": [
    "G.add_nodes_from([2, 3])\n",
    "nx.draw(G, with_labels=True)"
   ]
  },
  {
   "cell_type": "markdown",
   "id": "09b9e2e8",
   "metadata": {},
   "source": [
    "Next, we add an edge between node 1 and node 2."
   ]
  },
  {
   "cell_type": "code",
   "execution_count": 36,
   "id": "e3e13c28",
   "metadata": {},
   "outputs": [
    {
     "data": {
      "image/png": "[encoded data removed]",
      "text/plain": [
       "<Figure size 432x288 with 1 Axes>"
      ]
     },
     "metadata": {},
     "output_type": "display_data"
    }
   ],
   "source": [
    "# then we add edges\n",
    "G.add_edge(1, 2)\n",
    "nx.draw(G, with_labels=True)"
   ]
  },
  {
   "cell_type": "markdown",
   "id": "2fd1e4fa",
   "metadata": {},
   "source": [
    "Finally we add an edge from node 2 to node 3."
   ]
  },
  {
   "cell_type": "code",
   "execution_count": 37,
   "id": "e293b92d",
   "metadata": {},
   "outputs": [
    {
     "data": {
      "image/png": "[encoded data removed]",
      "text/plain": [
       "<Figure size 432x288 with 1 Axes>"
      ]
     },
     "metadata": {},
     "output_type": "display_data"
    }
   ],
   "source": [
    "e = (2, 3)\n",
    "G.add_edge(*e)  # unpack edge tuple*\n",
    "nx.draw(G, with_labels=True)"
   ]
  },
  {
   "cell_type": "markdown",
   "id": "aa2e6e05",
   "metadata": {},
   "source": [
    "We can check the current number of nodes and edges in the graph by calling:"
   ]
  },
  {
   "cell_type": "code",
   "execution_count": 38,
   "id": "9dfd8116",
   "metadata": {},
   "outputs": [
    {
     "name": "stdout",
     "output_type": "stream",
     "text": [
      "Current number of nodes in the graph is  3\n",
      "Current number of edges in the graph is  2\n"
     ]
    }
   ],
   "source": [
    "print(\"Current number of nodes in the graph is \", G.number_of_nodes())\n",
    "print(\"Current number of edges in the graph is \", G.number_of_edges())"
   ]
  },
  {
   "cell_type": "markdown",
   "id": "5742c288",
   "metadata": {},
   "source": [
    "NetworkX is not primarily a graph drawing package but basic drawing with Matplotlib as well as an interface to use the open source Graphviz software package are included. These are part of the networkx.drawing module and will be imported if possible.\n"
   ]
  },
  {
   "cell_type": "markdown",
   "id": "392de769",
   "metadata": {},
   "source": [
    "One use case of NetworkX is to design the causal graphs that we assumed and export them to .dot file or .gml file so that we can load into DoWhy package for further estimation.\n",
    "\n",
    "We can export the graph we draw to a .gml file named 'networkx' by using the following commands."
   ]
  },
  {
   "cell_type": "code",
   "execution_count": 39,
   "id": "e9d11f75",
   "metadata": {},
   "outputs": [],
   "source": [
    "nx.write_gml(G, \"networkx.gml\")"
   ]
  },
  {
   "cell_type": "markdown",
   "id": "5f4f1f28",
   "metadata": {},
   "source": [
    "We can also read .gml file and parse it to a Graph object in NetworkX."
   ]
  },
  {
   "cell_type": "code",
   "execution_count": 40,
   "id": "1905c442",
   "metadata": {},
   "outputs": [
    {
     "data": {
      "image/png": "[encoded data removed]",
      "text/plain": [
       "<Figure size 432x288 with 1 Axes>"
      ]
     },
     "metadata": {},
     "output_type": "display_data"
    }
   ],
   "source": [
    "H = nx.read_gml(\"networkx.gml\")\n",
    "nx.draw(H, with_labels=True)"
   ]
  },
  {
   "cell_type": "markdown",
   "id": "93638b1d",
   "metadata": {},
   "source": [
    "We can also read the .gml file and parse it to string using the utility function below. This is the format the graph needs to be provided in to DoWhy."
   ]
  },
  {
   "cell_type": "code",
   "execution_count": 41,
   "id": "81e9935b",
   "metadata": {},
   "outputs": [],
   "source": [
    "# a utility function to parse the .gml file to string\n",
    "def gml_to_string(file):\n",
    "    gml_str = ''\n",
    "    with open(file, 'r') as file:\n",
    "        for line in file:\n",
    "            gml_str += line.rstrip()\n",
    "    return gml_str"
   ]
  },
  {
   "cell_type": "code",
   "execution_count": 42,
   "id": "8ce0939b",
   "metadata": {},
   "outputs": [
    {
     "name": "stdout",
     "output_type": "stream",
     "text": [
      "graph [  node [    id 0    label \"1\"  ]  node [    id 1    label \"2\"  ]  node [    id 2    label \"3\"  ]  edge [    source 0    target 1  ]  edge [    source 1    target 2  ]]\n"
     ]
    }
   ],
   "source": [
    "print(gml_to_string(\"networkx.gml\"))"
   ]
  },
  {
   "cell_type": "markdown",
   "id": "afcba45e",
   "metadata": {},
   "source": [
    "## 2 Confounding Example: Finding causal effects from observed data using assumed causal graph\n",
    "\n",
    "Suppose you are given some data with treatment, outcome and common cause. Can you estimate the causal effect with the knowledge of the causal graph?\n",
    "\n",
    "With this example you will learn how to use the causal graph based on your own knowledge and estimate the causal effects with it."
   ]
  },
  {
   "cell_type": "code",
   "execution_count": 43,
   "id": "7785afcf",
   "metadata": {},
   "outputs": [],
   "source": [
    "# we first load useful modules for the example\n",
    "import numpy as np\n",
    "import pandas as pd\n",
    "import matplotlib.pyplot as plt\n",
    "import math\n",
    "import dowhy\n",
    "from dowhy import CausalModel\n",
    "import dowhy.datasets, dowhy.plotter\n",
    "\n",
    "# the code below simple hides some warnings we don't want to see\n",
    "import warnings\n",
    "warnings.filterwarnings(action='ignore', category=FutureWarning)"
   ]
  },
  {
   "cell_type": "markdown",
   "id": "3c321b6b",
   "metadata": {},
   "source": [
    "### Synthetic data creation\n",
    "\n",
    "For the convience of data manipulation, we create a synthetic dataset that is generated from the model: Treatment cause outcome. In this case, we have prior knowledge about the causal graph.\n",
    "\n",
    "We can create and view the dataset as follows."
   ]
  },
  {
   "cell_type": "code",
   "execution_count": 44,
   "id": "316340ab",
   "metadata": {},
   "outputs": [
    {
     "name": "stdout",
     "output_type": "stream",
     "text": [
      "   Treatment    Outcome        w0\n",
      "0   9.401367  19.273998  3.602459\n",
      "1   2.708169   5.320915 -3.358204\n",
      "2   3.950805   7.974536 -2.149803\n",
      "3   2.018579   3.748464 -4.262046\n",
      "4   3.445629   6.810231 -2.821976\n"
     ]
    }
   ],
   "source": [
    "# we assume the effect of treatment for outcome is 1\n",
    "effect = 1\n",
    "\n",
    "data_dict = dowhy.datasets.xy_dataset(10000, effect=effect,\n",
    "                                      num_common_causes=1,\n",
    "                                      sd_error=0.2)\n",
    "df = data_dict['df']\n",
    "print(df[[\"Treatment\", \"Outcome\", \"w0\"]].head())"
   ]
  },
  {
   "cell_type": "markdown",
   "id": "12b7a6f4",
   "metadata": {},
   "source": [
    "We can also plot the treatment and outcome."
   ]
  },
  {
   "cell_type": "code",
   "execution_count": 45,
   "id": "cc7c0f3f",
   "metadata": {},
   "outputs": [
    {
     "data": {
      "image/png": "[encoded data removed]",
      "text/plain": [
       "<Figure size 576x432 with 1 Axes>"
      ]
     },
     "metadata": {
      "needs_background": "light"
     },
     "output_type": "display_data"
    }
   ],
   "source": [
    "dowhy.plotter.plot_treatment_outcome(df[data_dict[\"treatment_name\"]], df[data_dict[\"outcome_name\"]], \n",
    "                                     df[data_dict[\"time_val\"]])"
   ]
  },
  {
   "cell_type": "markdown",
   "id": "1833287d",
   "metadata": {},
   "source": [
    "We follow the 4 steps that we introduced from week 1's tutorial to estimate the causal effect.\n",
    "\n",
    "### STEP 1: Model the problem as a causal graph\n",
    "\n",
    "In this example we show the way to load the assumed causal graph. We first draw a causal graph with NetworkX and then export to a .gml file that can be loaded later for the causal model. It is recommended to use .gml format with the DoWhy package."
   ]
  },
  {
   "cell_type": "code",
   "execution_count": 46,
   "id": "cd47de05",
   "metadata": {},
   "outputs": [
    {
     "data": {
      "image/png": "[encoded data removed]",
      "text/plain": [
       "<Figure size 432x288 with 1 Axes>"
      ]
     },
     "metadata": {},
     "output_type": "display_data"
    }
   ],
   "source": [
    "G = nx.DiGraph() # DiGraph creates a directed graph, which is what we need for causal graphs\n",
    "\n",
    "G.add_nodes_from(['Treatment', 'Outcome', 'w0'])\n",
    "G.add_edges_from([('Treatment', 'Outcome'), ('w0', 'Treatment'), ('w0', 'Outcome')])\n",
    "\n",
    "nx.draw(G, with_labels=True)\n",
    "\n",
    "nx.write_gml(G, \"test.gml\")"
   ]
  },
  {
   "cell_type": "markdown",
   "id": "43d002cf",
   "metadata": {},
   "source": [
    "While creating the causal model, we load the gml string we created and display it with the internal interface in DoWhy."
   ]
  },
  {
   "cell_type": "code",
   "execution_count": 47,
   "id": "25c700ae",
   "metadata": {},
   "outputs": [
    {
     "data": {
      "image/png": "[encoded data removed]",
      "text/plain": [
       "<IPython.core.display.Image object>"
      ]
     },
     "metadata": {
      "image/png": {
       "height": 100,
       "width": 200
      }
     },
     "output_type": "display_data"
    },
    {
     "data": {
      "image/png": "[encoded data removed]",
      "text/plain": [
       "<Figure size 576x432 with 1 Axes>"
      ]
     },
     "metadata": {},
     "output_type": "display_data"
    }
   ],
   "source": [
    "from IPython.display import Image, display\n",
    "\n",
    "gml_graph = gml_to_string('test.gml')\n",
    "# With GML string\n",
    "model=CausalModel(\n",
    "        data = df,\n",
    "        treatment='Treatment',\n",
    "        outcome='Outcome',\n",
    "        graph=gml_graph\n",
    "        )\n",
    "model.view_model()\n",
    "\n",
    "display(Image(filename=\"causal_model.png\", width = 200, height = 100))"
   ]
  },
  {
   "cell_type": "markdown",
   "id": "1d088f5b",
   "metadata": {},
   "source": [
    "### STEP 2: Identify causal effect using properties of the formal causal graph\n"
   ]
  },
  {
   "cell_type": "code",
   "execution_count": 48,
   "id": "001f781e",
   "metadata": {},
   "outputs": [
    {
     "name": "stdout",
     "output_type": "stream",
     "text": [
      "Estimand type: nonparametric-ate\n",
      "\n",
      "### Estimand : 1\n",
      "Estimand name: backdoor\n",
      "Estimand expression:\n",
      "     d                               \n",
      "────────────(Expectation(Outcome|w0))\n",
      "d[Treatment]                         \n",
      "Estimand assumption 1, Unconfoundedness: If U→{Treatment} and U→Outcome then P(Outcome|Treatment,w0,U) = P(Outcome|Treatment,w0)\n",
      "\n",
      "### Estimand : 2\n",
      "Estimand name: iv\n",
      "No such variable(s) found!\n",
      "\n",
      "### Estimand : 3\n",
      "Estimand name: frontdoor\n",
      "No such variable(s) found!\n",
      "\n"
     ]
    }
   ],
   "source": [
    "identified_estimand = model.identify_effect()\n",
    "print(identified_estimand)"
   ]
  },
  {
   "cell_type": "markdown",
   "id": "6c3f9f5c",
   "metadata": {},
   "source": [
    "### STEP 3: Estimate the causal effect"
   ]
  },
  {
   "cell_type": "code",
   "execution_count": 49,
   "id": "da86086a",
   "metadata": {},
   "outputs": [
    {
     "name": "stdout",
     "output_type": "stream",
     "text": [
      "Causal Estimate is 0.9933671498528769\n"
     ]
    },
    {
     "data": {
      "image/png": "[encoded data removed]",
      "text/plain": [
       "<Figure size 576x432 with 1 Axes>"
      ]
     },
     "metadata": {
      "needs_background": "light"
     },
     "output_type": "display_data"
    }
   ],
   "source": [
    "estimate = model.estimate_effect(identified_estimand,\n",
    "        method_name=\"backdoor.linear_regression\")\n",
    "print(\"Causal Estimate is \" + str(estimate.value))\n",
    "\n",
    "# Plot Slope of line between treamtent and outcome =causal effect\n",
    "dowhy.plotter.plot_causal_effect(estimate, df[data_dict[\"treatment_name\"]], df[data_dict[\"outcome_name\"]])"
   ]
  },
  {
   "cell_type": "markdown",
   "id": "9e7e4be9",
   "metadata": {},
   "source": [
    "We can also get confidence intervals of the obtained estimate with bootstrapping."
   ]
  },
  {
   "cell_type": "code",
   "execution_count": 50,
   "id": "7501f278",
   "metadata": {},
   "outputs": [
    {
     "data": {
      "text/plain": [
       "array([[0.97366783, 1.01306647]])"
      ]
     },
     "execution_count": 50,
     "metadata": {},
     "output_type": "execute_result"
    }
   ],
   "source": [
    "estimate.get_confidence_intervals()"
   ]
  },
  {
   "cell_type": "markdown",
   "id": "c9d4715b",
   "metadata": {},
   "source": [
    "Then check if the estimate is correct by comparing with the true effect that we used for creating the synthetic dataset."
   ]
  },
  {
   "cell_type": "code",
   "execution_count": 51,
   "id": "5b45f1dc",
   "metadata": {},
   "outputs": [
    {
     "name": "stdout",
     "output_type": "stream",
     "text": [
      "DoWhy estimate is 0.9933671498528769\n",
      "Actual true causal effect was 1\n"
     ]
    }
   ],
   "source": [
    "print(\"DoWhy estimate is \" + str(estimate.value))\n",
    "print (\"Actual true causal effect was {0}\".format(effect))"
   ]
  },
  {
   "cell_type": "markdown",
   "id": "64526184",
   "metadata": {},
   "source": [
    "### STEP 4: Refuting the estimate"
   ]
  },
  {
   "cell_type": "markdown",
   "id": "9b4e3491",
   "metadata": {},
   "source": [
    "Replacing treatment with a random (placebo) variable."
   ]
  },
  {
   "cell_type": "code",
   "execution_count": 52,
   "id": "4160fb9e",
   "metadata": {},
   "outputs": [
    {
     "name": "stdout",
     "output_type": "stream",
     "text": [
      "Refute: Use a Placebo Treatment\n",
      "Estimated effect:0.9933671498528769\n",
      "New effect:-2.735105165072582e-06\n",
      "p value:0.47\n",
      "\n"
     ]
    }
   ],
   "source": [
    "res_placebo=model.refute_estimate(identified_estimand, estimate,\n",
    "        method_name=\"placebo_treatment_refuter\", placebo_type=\"permute\")\n",
    "print(res_placebo)"
   ]
  },
  {
   "cell_type": "markdown",
   "id": "e6082e3f",
   "metadata": {},
   "source": [
    "Removing a random subset of the data."
   ]
  },
  {
   "cell_type": "code",
   "execution_count": 53,
   "id": "435004c0",
   "metadata": {},
   "outputs": [
    {
     "name": "stdout",
     "output_type": "stream",
     "text": [
      "Refute: Use a subset of data\n",
      "Estimated effect:0.9933671498528769\n",
      "New effect:0.9931081425891248\n",
      "p value:0.42000000000000004\n",
      "\n"
     ]
    }
   ],
   "source": [
    "res_subset=model.refute_estimate(identified_estimand, estimate,\n",
    "        method_name=\"data_subset_refuter\", subset_fraction=0.9)\n",
    "print(res_subset)"
   ]
  },
  {
   "cell_type": "markdown",
   "id": "7c2e149d",
   "metadata": {},
   "source": [
    "## 3 Independence tests\n",
    "\n",
    "In the lecture, we saw the definition of correlation and dependence. Here, we will look at generating data and doing independence tests."
   ]
  },
  {
   "cell_type": "code",
   "execution_count": null,
   "id": "3c697f4b",
   "metadata": {},
   "outputs": [],
   "source": [
    "# WARNING:\n",
    "# The installation takes a few minutes.\n",
    "# Only run during the first time running this notebook and if you don't have these packages installed. \n",
    "# Run in terminal command line instead if it does not work.\n",
    "\n",
    "# !pip install hyppo\n",
    "# !pip install pingouin\n",
    "# !pip install conditional_independence"
   ]
  },
  {
   "cell_type": "markdown",
   "id": "06ed922e",
   "metadata": {},
   "source": [
    "### 3.A Data with marginal distribution\n",
    "\n",
    "We first do correlation and independence tests on data considering only the marginal distributions.\n",
    "\n",
    "### Linearly dependent data\n",
    "\n",
    "First, we generate data samples of two variables that have strong positive correlations. The first variable will be random numbers drawn from a Gaussian distribution with a mean of 100 and a standard deviation of 20. The second variable will be values from the first variable multiplied by 2."
   ]
  },
  {
   "cell_type": "code",
   "execution_count": 54,
   "id": "3b3029e1",
   "metadata": {},
   "outputs": [
    {
     "name": "stdout",
     "output_type": "stream",
     "text": [
      "data1: mean=100.776 stdv=19.620\n",
      "data2: mean=201.552 stdv=39.240\n"
     ]
    },
    {
     "data": {
      "image/png": "[encoded data removed]",
      "text/plain": [
       "<Figure size 432x360 with 1 Axes>"
      ]
     },
     "metadata": {
      "needs_background": "light"
     },
     "output_type": "display_data"
    }
   ],
   "source": [
    "# generate related variables\n",
    "from numpy import mean\n",
    "from numpy import std\n",
    "from numpy.random import randn\n",
    "from numpy.random import seed\n",
    "from matplotlib import pyplot\n",
    "# seed random number generator\n",
    "seed(1)\n",
    "# prepare data\n",
    "data1 = 20 * randn(1000) + 100\n",
    "data2 = data1 * 2\n",
    "# summarize\n",
    "print('data1: mean=%.3f stdv=%.3f' % (mean(data1), std(data1)))\n",
    "print('data2: mean=%.3f stdv=%.3f' % (mean(data2), std(data2)))\n",
    "# plot\n",
    "fig, ax = plt.subplots(figsize=(6,5))\n",
    "pyplot.scatter(data1, data2)\n",
    "pyplot.show()"
   ]
  },
  {
   "cell_type": "markdown",
   "id": "34d64a42",
   "metadata": {},
   "source": [
    "Because of our manipulation, we know there is correlaiton in the data samples. From the scatter plot, we can see the increasing trend of the data.\n",
    "To calculate the correlation between these two variables, we use Pearson's correlation which is the default measurement in the numpy package for the function `numpy.corrcoef()`. The Peason's correlation is calculated as follows:\n"
   ]
  },
  {
   "cell_type": "markdown",
   "id": "5293c74d",
   "metadata": {},
   "source": [
    "<center>Pearson's correlation coefficient = covariance(X, Y) / (stdv(X) * stdv(Y))</center>\n",
    "\n",
    "See more details of implementation are available at: https://numpy.org/doc/stable/reference/generated/numpy.corrcoef.html"
   ]
  },
  {
   "cell_type": "code",
   "execution_count": 55,
   "id": "d5dbdfe7",
   "metadata": {},
   "outputs": [
    {
     "name": "stdout",
     "output_type": "stream",
     "text": [
      "Pearsons correlation: 1.000\n"
     ]
    }
   ],
   "source": [
    "# calculate the Pearson's correlation between two variables\n",
    "import numpy as np\n",
    "# calculate Pearson's correlation\n",
    "corr = np.corrcoef(data1, data2)[0,1]\n",
    "print('Pearsons correlation: %.3f' % corr)"
   ]
  },
  {
   "cell_type": "markdown",
   "id": "d3957e32",
   "metadata": {},
   "source": [
    "The results indicate a perfect positive correlation between the two variables, as we would expect."
   ]
  },
  {
   "cell_type": "markdown",
   "id": "fed51738",
   "metadata": {},
   "source": [
    "### Uncorrelated but dependent data\n",
    "\n",
    "From the lecture we also saw examples of uncorrelated but dependent data. We will demonstrate such data here. \n",
    "\n",
    "We generate 10000 data samples of two variables, $x$ and $y$. $x$ is drawn from a Gaussian distribution with a mean of 0 and a standard deviation of 2 and $y$ is the cosine of $x$ with Gaussian noise added with a mean of 0 and a standard deviation of 0.5."
   ]
  },
  {
   "cell_type": "code",
   "execution_count": 56,
   "id": "c1d4a55e",
   "metadata": {},
   "outputs": [
    {
     "data": {
      "image/png": "[encoded data removed]",
      "text/plain": [
       "<Figure size 504x288 with 1 Axes>"
      ]
     },
     "metadata": {
      "needs_background": "light"
     },
     "output_type": "display_data"
    },
    {
     "name": "stdout",
     "output_type": "stream",
     "text": [
      "CorrCoef:  0.002513542838384999\n"
     ]
    }
   ],
   "source": [
    "import matplotlib.pyplot as plt\n",
    "N_SAMPLES = 10000\n",
    "\n",
    "def genSamples(n):\n",
    "\n",
    "    x = np.random.normal(0,2,size=(n))\n",
    "    y = np.cos(x)+np.random.normal(0,0.5, n)\n",
    "\n",
    "    return x,y\n",
    "\n",
    "x,y = genSamples(N_SAMPLES)\n",
    "\n",
    "fig, ax = plt.subplots(figsize=(7, 4))\n",
    "plt.scatter(x,y)\n",
    "plt.show()\n",
    "\n",
    "print (\"CorrCoef: \", np.corrcoef(x,y)[0,1])"
   ]
  },
  {
   "cell_type": "markdown",
   "id": "1fd3c1ea",
   "metadata": {},
   "source": [
    "From the scatter plot we can see that two variables are uncorrelated because as one variable increases the other one does not increase or decrease. However, from the way we generate the data samples, we know that $y$ is a function of $x$ and they are dependent. \n",
    "\n",
    "Thus, when two variables are independent, the correlation coefficient is zero. However, the inverse is not true. "
   ]
  },
  {
   "cell_type": "markdown",
   "id": "ec7b1858",
   "metadata": {},
   "source": [
    "### Non-parametric test\n",
    "Now, we use Hilbert Schmidt Independence Criterion (Hsic) to test the dependence of the data above.\n",
    "\n",
    "Hsic is a kernel based independence test and is a way to measure multivariate nonlinear associations given a specified kernel [1].\n",
    "\n",
    "[1] Arthur Gretton, Kenji Fukumizu, Choon Teo, Le Song, Bernhard Schölkopf, and Alex Smola. A Kernel Statistical Test of Independence. Advances in Neural Information Processing Systems, 2007.\n",
    "https://proceedings.neurips.cc/paper/2007/file/d5cfead94f5350c12c322b5b664544c1-Paper.pdf"
   ]
  },
  {
   "cell_type": "code",
   "execution_count": 57,
   "id": "f5a28d5c",
   "metadata": {},
   "outputs": [
    {
     "name": "stdout",
     "output_type": "stream",
     "text": [
      "IndependenceTestOutput(stat=0.2796786220993399, pvalue=0.0)\n"
     ]
    }
   ],
   "source": [
    "from hyppo.independence import Hsic\n",
    "\n",
    "c_h = Hsic().test(x, y)\n",
    "print(c_h)"
   ]
  },
  {
   "cell_type": "markdown",
   "id": "e69bed0a",
   "metadata": {},
   "source": [
    "The significant p-value tells us that these two variables are not independent, so the test confirms what we already know."
   ]
  },
  {
   "cell_type": "markdown",
   "id": "ce4ccbc4",
   "metadata": {},
   "source": [
    "### 3.B Data with conditional distribution\n",
    "\n",
    "We then do correlation and independence tests on data with conditional distribution.\n",
    "\n",
    "### Partial correlation with data\n",
    "\n",
    "We use pingouin package to generate data with confoundings and then measure the partial correlation between two variables when conditioning on different covariates.\n",
    "\n",
    "Partial correlation measures the degree of association between x and y, after removing the effect of one or more controlling variables (covar, or 𝑍).\n",
    "For more implementation details see: https://pingouin-stats.org/generated/pingouin.partial_corr.html#pingouin.partial_corr"
   ]
  },
  {
   "cell_type": "markdown",
   "id": "cf86ea77",
   "metadata": {},
   "source": [
    "We generate a standard random normal variable 'z', and then define 'x' and 'y' as 'z' with another standard normal random variable."
   ]
  },
  {
   "cell_type": "code",
   "execution_count": 58,
   "id": "8a4afff2",
   "metadata": {},
   "outputs": [],
   "source": [
    "import pingouin as pg\n",
    "\n",
    "z = np.random.normal(size = 500)\n",
    "x = z + np.random.normal(size = 500)\n",
    "y = z + np.random.normal(size = 500)\n",
    "df = pd.DataFrame({'x': x, 'y': y, 'z': z})"
   ]
  },
  {
   "cell_type": "code",
   "execution_count": 59,
   "id": "8c8cefea",
   "metadata": {},
   "outputs": [
    {
     "data": {
      "text/plain": [
       "<matplotlib.collections.PathCollection at 0x19a2b7b53d0>"
      ]
     },
     "execution_count": 59,
     "metadata": {},
     "output_type": "execute_result"
    },
    {
     "data": {
      "image/png": "[encoded data removed]",
      "text/plain": [
       "<Figure size 504x288 with 1 Axes>"
      ]
     },
     "metadata": {
      "needs_background": "light"
     },
     "output_type": "display_data"
    }
   ],
   "source": [
    "fig, ax = plt.subplots(figsize=(7, 4))\n",
    "plt.scatter(x, y)"
   ]
  },
  {
   "cell_type": "markdown",
   "id": "adc8b611",
   "metadata": {},
   "source": [
    "We first test the correlation between x and y, and we can see that x and y are correlated to some degree."
   ]
  },
  {
   "cell_type": "code",
   "execution_count": 60,
   "id": "9d4db961",
   "metadata": {},
   "outputs": [
    {
     "data": {
      "text/html": [
       "<div>\n",
       "<style scoped>\n",
       "    .dataframe tbody tr th:only-of-type {\n",
       "        vertical-align: middle;\n",
       "    }\n",
       "\n",
       "    .dataframe tbody tr th {\n",
       "        vertical-align: top;\n",
       "    }\n",
       "\n",
       "    .dataframe thead th {\n",
       "        text-align: right;\n",
       "    }\n",
       "</style>\n",
       "<table border=\"1\" class=\"dataframe\">\n",
       "  <thead>\n",
       "    <tr style=\"text-align: right;\">\n",
       "      <th></th>\n",
       "      <th>n</th>\n",
       "      <th>r</th>\n",
       "      <th>CI95%</th>\n",
       "      <th>p-val</th>\n",
       "      <th>BF10</th>\n",
       "      <th>power</th>\n",
       "    </tr>\n",
       "  </thead>\n",
       "  <tbody>\n",
       "    <tr>\n",
       "      <th>pearson</th>\n",
       "      <td>500</td>\n",
       "      <td>0.520047</td>\n",
       "      <td>[0.45, 0.58]</td>\n",
       "      <td>5.439495e-36</td>\n",
       "      <td>5.148e+32</td>\n",
       "      <td>1.0</td>\n",
       "    </tr>\n",
       "  </tbody>\n",
       "</table>\n",
       "</div>"
      ],
      "text/plain": [
       "           n         r         CI95%         p-val       BF10  power\n",
       "pearson  500  0.520047  [0.45, 0.58]  5.439495e-36  5.148e+32    1.0"
      ]
     },
     "execution_count": 60,
     "metadata": {},
     "output_type": "execute_result"
    }
   ],
   "source": [
    "pg.corr(x, y)"
   ]
  },
  {
   "cell_type": "markdown",
   "id": "54513c36",
   "metadata": {},
   "source": [
    "Then we test the partial correlation with conditioning on one covariate. We can see that the correlation is gone when conditioning on z."
   ]
  },
  {
   "cell_type": "code",
   "execution_count": 61,
   "id": "cd2ed64b",
   "metadata": {},
   "outputs": [
    {
     "data": {
      "text/html": [
       "<div>\n",
       "<style scoped>\n",
       "    .dataframe tbody tr th:only-of-type {\n",
       "        vertical-align: middle;\n",
       "    }\n",
       "\n",
       "    .dataframe tbody tr th {\n",
       "        vertical-align: top;\n",
       "    }\n",
       "\n",
       "    .dataframe thead th {\n",
       "        text-align: right;\n",
       "    }\n",
       "</style>\n",
       "<table border=\"1\" class=\"dataframe\">\n",
       "  <thead>\n",
       "    <tr style=\"text-align: right;\">\n",
       "      <th></th>\n",
       "      <th>n</th>\n",
       "      <th>r</th>\n",
       "      <th>CI95%</th>\n",
       "      <th>p-val</th>\n",
       "    </tr>\n",
       "  </thead>\n",
       "  <tbody>\n",
       "    <tr>\n",
       "      <th>pearson</th>\n",
       "      <td>500</td>\n",
       "      <td>0.04598</td>\n",
       "      <td>[-0.04, 0.13]</td>\n",
       "      <td>0.30531</td>\n",
       "    </tr>\n",
       "  </tbody>\n",
       "</table>\n",
       "</div>"
      ],
      "text/plain": [
       "           n        r          CI95%    p-val\n",
       "pearson  500  0.04598  [-0.04, 0.13]  0.30531"
      ]
     },
     "execution_count": 61,
     "metadata": {},
     "output_type": "execute_result"
    }
   ],
   "source": [
    "pg.partial_corr(data=df, x='x', y='y', covar='z').round(5)"
   ]
  },
  {
   "cell_type": "markdown",
   "id": "29df25de",
   "metadata": {},
   "source": [
    "The results indicate that correlation between variables may be solely the result of another variable(s). When we condition on different covariates, the partial correlation changes (and may even disappear), which give us useful information for modelling the data."
   ]
  },
  {
   "cell_type": "markdown",
   "id": "7751e7a9",
   "metadata": {},
   "source": [
    "### Conditional independence tests with data\n",
    "\n",
    "Finally, we would like to test the conditional independence of the data. We use the conditional version of Hsic from the package `conditional_independence`.\n",
    "\n",
    "**Caution!** This package is not very well documented yet; however, there are a few well documented implementations in R and Matlab. Those who are comfortable with R and Matlab can check here: https://github.com/garydoranjr/kcipt/ and \n",
    "https://github.com/ericstrobl/RCIT.\n",
    "\n",
    "We use the same dataset as before and then run the conditional independence test on them."
   ]
  },
  {
   "cell_type": "code",
   "execution_count": 62,
   "id": "fd2b2a4a",
   "metadata": {},
   "outputs": [
    {
     "name": "stdout",
     "output_type": "stream",
     "text": [
      "{'statistic': 0.0006070713907561201, 'p_value': 0.4031656785644113, 'reject': False, 'mean_approx': 0.000581990295731129, 'var_approx': 7.000971471403151e-08}\n"
     ]
    }
   ],
   "source": [
    "import conditional_independence.ci_tests.nonparametric.hsic as cond_hsic\n",
    "\n",
    "res = cond_hsic.hsic_test(df.to_numpy(), 0, 1, [2])\n",
    "print(res)"
   ]
  },
  {
   "cell_type": "markdown",
   "id": "1e437aa7",
   "metadata": {},
   "source": [
    "The non-significant p-value tells us that these data are independent when we condition on $z$."
   ]
  }
 ],
 "metadata": {
  "kernelspec": {
   "display_name": "Python 3",
   "language": "python",
   "name": "python3"
  },
  "language_info": {
   "codemirror_mode": {
    "name": "ipython",
    "version": 3
   },
   "file_extension": ".py",
   "mimetype": "text/x-python",
   "name": "python",
   "nbconvert_exporter": "python",
   "pygments_lexer": "ipython3",
   "version": "3.8.8"
  }
 },
 "nbformat": 4,
 "nbformat_minor": 5
}
