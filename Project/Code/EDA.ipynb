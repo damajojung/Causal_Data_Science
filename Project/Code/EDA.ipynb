{
 "cells": [
  {
   "cell_type": "code",
   "execution_count": 123,
   "metadata": {},
   "outputs": [],
   "source": [
    "import numpy as np\n",
    "import pandas as pd\n",
    "import matplotlib.pyplot as plt\n",
    "\n",
    "import networkx as nx"
   ]
  },
  {
   "cell_type": "code",
   "execution_count": 74,
   "metadata": {},
   "outputs": [],
   "source": [
    "path = \"/Users/dj/Documents/GitHub/Causal_Data_Science/Project/Data/lucas0_text/\"\n",
    "names = ['Smoking', 'Yellow_Fingers', 'Anxiety', 'Peer_Pressure', 'Genetics', 'Attention_Disorder','Born_an_Even_Day', 'Car_Accident', 'Fatigue', 'Allergy', 'Coughing']"
   ]
  },
  {
   "cell_type": "code",
   "execution_count": 82,
   "metadata": {},
   "outputs": [],
   "source": [
    "# reading csv files\n",
    "train =  pd.read_csv(path + 'lucas0_train.data', sep=\" \", header = None)\n",
    "train.drop(11, inplace = True, axis = 1)\n",
    "train.columns = names\n",
    "test =  pd.read_csv(path + 'lucas0_test.data', sep=\" \", header = None)\n",
    "test.drop(11, inplace = True, axis = 1)\n",
    "test.columns = names\n",
    "target =  pd.read_csv(path + 'lucas0_train.targets', sep=\" \", header = None)\n",
    "# param =  pd.read_csv(path + 'lucas0.param', sep=\" \")"
   ]
  },
  {
   "cell_type": "code",
   "execution_count": 83,
   "metadata": {},
   "outputs": [
    {
     "name": "stdout",
     "output_type": "stream",
     "text": [
      "11923\n",
      "60290\n"
     ]
    }
   ],
   "source": [
    "print(train.sum().sum())\n",
    "print(test.sum().sum())"
   ]
  },
  {
   "cell_type": "code",
   "execution_count": 84,
   "metadata": {},
   "outputs": [
    {
     "name": "stdout",
     "output_type": "stream",
     "text": [
      "(2000, 11)\n",
      "(10000, 11)\n",
      "(2000, 1)\n"
     ]
    }
   ],
   "source": [
    "print(train.shape)\n",
    "print(test.shape)\n",
    "print(target.shape)"
   ]
  },
  {
   "cell_type": "code",
   "execution_count": 85,
   "metadata": {},
   "outputs": [
    {
     "data": {
      "text/html": [
       "<div>\n",
       "<style scoped>\n",
       "    .dataframe tbody tr th:only-of-type {\n",
       "        vertical-align: middle;\n",
       "    }\n",
       "\n",
       "    .dataframe tbody tr th {\n",
       "        vertical-align: top;\n",
       "    }\n",
       "\n",
       "    .dataframe thead th {\n",
       "        text-align: right;\n",
       "    }\n",
       "</style>\n",
       "<table border=\"1\" class=\"dataframe\">\n",
       "  <thead>\n",
       "    <tr style=\"text-align: right;\">\n",
       "      <th></th>\n",
       "      <th>Smoking</th>\n",
       "      <th>Yellow_Fingers</th>\n",
       "      <th>Anxiety</th>\n",
       "      <th>Peer_Pressure</th>\n",
       "      <th>Genetics</th>\n",
       "      <th>Attention_Disorder</th>\n",
       "      <th>Born_an_Even_Day</th>\n",
       "      <th>Car_Accident</th>\n",
       "      <th>Fatigue</th>\n",
       "      <th>Allergy</th>\n",
       "      <th>Coughing</th>\n",
       "    </tr>\n",
       "  </thead>\n",
       "  <tbody>\n",
       "    <tr>\n",
       "      <th>0</th>\n",
       "      <td>0</td>\n",
       "      <td>0</td>\n",
       "      <td>1</td>\n",
       "      <td>0</td>\n",
       "      <td>0</td>\n",
       "      <td>1</td>\n",
       "      <td>0</td>\n",
       "      <td>1</td>\n",
       "      <td>0</td>\n",
       "      <td>1</td>\n",
       "      <td>0</td>\n",
       "    </tr>\n",
       "    <tr>\n",
       "      <th>1</th>\n",
       "      <td>0</td>\n",
       "      <td>1</td>\n",
       "      <td>0</td>\n",
       "      <td>0</td>\n",
       "      <td>0</td>\n",
       "      <td>0</td>\n",
       "      <td>1</td>\n",
       "      <td>0</td>\n",
       "      <td>1</td>\n",
       "      <td>0</td>\n",
       "      <td>1</td>\n",
       "    </tr>\n",
       "    <tr>\n",
       "      <th>2</th>\n",
       "      <td>1</td>\n",
       "      <td>1</td>\n",
       "      <td>1</td>\n",
       "      <td>0</td>\n",
       "      <td>1</td>\n",
       "      <td>1</td>\n",
       "      <td>1</td>\n",
       "      <td>1</td>\n",
       "      <td>1</td>\n",
       "      <td>1</td>\n",
       "      <td>1</td>\n",
       "    </tr>\n",
       "    <tr>\n",
       "      <th>3</th>\n",
       "      <td>0</td>\n",
       "      <td>0</td>\n",
       "      <td>0</td>\n",
       "      <td>1</td>\n",
       "      <td>0</td>\n",
       "      <td>0</td>\n",
       "      <td>1</td>\n",
       "      <td>0</td>\n",
       "      <td>0</td>\n",
       "      <td>0</td>\n",
       "      <td>0</td>\n",
       "    </tr>\n",
       "    <tr>\n",
       "      <th>4</th>\n",
       "      <td>1</td>\n",
       "      <td>1</td>\n",
       "      <td>1</td>\n",
       "      <td>0</td>\n",
       "      <td>0</td>\n",
       "      <td>1</td>\n",
       "      <td>1</td>\n",
       "      <td>1</td>\n",
       "      <td>1</td>\n",
       "      <td>0</td>\n",
       "      <td>0</td>\n",
       "    </tr>\n",
       "  </tbody>\n",
       "</table>\n",
       "</div>"
      ],
      "text/plain": [
       "   Smoking  Yellow_Fingers  Anxiety  Peer_Pressure  Genetics  \\\n",
       "0        0               0        1              0         0   \n",
       "1        0               1        0              0         0   \n",
       "2        1               1        1              0         1   \n",
       "3        0               0        0              1         0   \n",
       "4        1               1        1              0         0   \n",
       "\n",
       "   Attention_Disorder  Born_an_Even_Day  Car_Accident  Fatigue  Allergy  \\\n",
       "0                   1                 0             1        0        1   \n",
       "1                   0                 1             0        1        0   \n",
       "2                   1                 1             1        1        1   \n",
       "3                   0                 1             0        0        0   \n",
       "4                   1                 1             1        1        0   \n",
       "\n",
       "   Coughing  \n",
       "0         0  \n",
       "1         1  \n",
       "2         1  \n",
       "3         0  \n",
       "4         0  "
      ]
     },
     "execution_count": 85,
     "metadata": {},
     "output_type": "execute_result"
    }
   ],
   "source": [
    "train.head()"
   ]
  },
  {
   "cell_type": "code",
   "execution_count": 121,
   "metadata": {},
   "outputs": [],
   "source": [
    "avgs = train[names].mean()"
   ]
  },
  {
   "cell_type": "code",
   "execution_count": 122,
   "metadata": {},
   "outputs": [
    {
     "data": {
      "text/plain": [
       "Smoking               0.7525\n",
       "Yellow_Fingers        0.7820\n",
       "Anxiety               0.6305\n",
       "Peer_Pressure         0.3415\n",
       "Genetics              0.1395\n",
       "Attention_Disorder    0.3225\n",
       "Born_an_Even_Day      0.4895\n",
       "Car_Accident          0.7230\n",
       "Fatigue               0.7370\n",
       "Allergy               0.3430\n",
       "Coughing              0.7005\n",
       "dtype: float64"
      ]
     },
     "execution_count": 122,
     "metadata": {},
     "output_type": "execute_result"
    }
   ],
   "source": [
    "avgs"
   ]
  },
  {
   "cell_type": "code",
   "execution_count": null,
   "metadata": {},
   "outputs": [],
   "source": []
  },
  {
   "cell_type": "code",
   "execution_count": null,
   "metadata": {},
   "outputs": [],
   "source": []
  },
  {
   "cell_type": "code",
   "execution_count": null,
   "metadata": {},
   "outputs": [],
   "source": []
  },
  {
   "cell_type": "markdown",
   "metadata": {},
   "source": [
    "# Graph "
   ]
  },
  {
   "cell_type": "code",
   "execution_count": 143,
   "metadata": {},
   "outputs": [
    {
     "data": {
      "image/png": "[encoded data removed]",
      "text/plain": [
       "<Figure size 432x288 with 1 Axes>"
      ]
     },
     "metadata": {},
     "output_type": "display_data"
    }
   ],
   "source": [
    "# we import networkx and create a directed graph\n",
    "G = nx.DiGraph()\n",
    "\n",
    "G.add_nodes_from(['Smoking', 'Yellow_Fingers', 'Anxiety', 'Peer_Pressure', 'Genetics', 'Attention_Disorder','Born_an_Even_Day', 'Car_Accident', 'Fatigue', 'Allergy', 'Coughing', 'Lung_Cancer'])\n",
    "\n",
    "G.add_edges_from([('Anxiety','Smoking'), ('Peer_Pressure','Smoking'), ('Smoking','Yellow_Fingers'), ('Smoking','Lung_Cancer'), \n",
    "                  ('Allergy','Coughing'), ('Lung_Cancer','Coughing'), ('Coughing','Fatigue'), ('Lung_Cancer','Fatigue'),\n",
    "                 ('Genetics','Lung_Cancer'), ('Genetics','Attention_Disorder'), ('Attention_Disorder', 'Car_Accident'), ('Fatigue', 'Car_Accident')])\n",
    "\n",
    "# we can visualise this graph (choosing node positions, colours, and sizes to make it more clear) \n",
    "# and save it to a .gml format (for using DoWhy later)\n",
    "pos = {'Anxiety': (-2, 3),              'Yellow_Fingers': (-2.5, 1.8),\n",
    "         'Peer_Pressure': (0, 3), 'Smoking': (-1, 1.5), 'Allergy': (-2, 0),\n",
    "         'Coughing': (-2, -2), 'Lung_Cancer': (0, 0), 'Genetics': (2, 1.5), 'Attention_Disorder': (2, -1),\n",
    "         'Fatigue': (0, -2),'Car_Accident': (2, -3), 'Born_an_Even_Day' : (3.5,3.5)}\n",
    "\n",
    "nx.draw(G, pos = pos,with_labels=True, node_size=1000, node_color='w', edgecolors ='black')\n",
    "nx.write_gml(G, \"backdoor_criterion_graph.gml\")"
   ]
  },
  {
   "cell_type": "code",
   "execution_count": null,
   "metadata": {},
   "outputs": [],
   "source": []
  },
  {
   "cell_type": "code",
   "execution_count": null,
   "metadata": {},
   "outputs": [],
   "source": []
  },
  {
   "cell_type": "code",
   "execution_count": null,
   "metadata": {},
   "outputs": [],
   "source": []
  }
 ],
 "metadata": {
  "interpreter": {
   "hash": "40d3a090f54c6569ab1632332b64b2c03c39dcf918b08424e98f38b5ae0af88f"
  },
  "kernelspec": {
   "display_name": "Python 3.7.10 ('base')",
   "language": "python",
   "name": "python3"
  },
  "language_info": {
   "codemirror_mode": {
    "name": "ipython",
    "version": 3
   },
   "file_extension": ".py",
   "mimetype": "text/x-python",
   "name": "python",
   "nbconvert_exporter": "python",
   "pygments_lexer": "ipython3",
   "version": "3.9.7"
  },
  "orig_nbformat": 4
 },
 "nbformat": 4,
 "nbformat_minor": 2
}
