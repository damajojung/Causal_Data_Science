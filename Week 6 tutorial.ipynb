{
 "cells": [
  {
   "cell_type": "markdown",
   "id": "95d51adc",
   "metadata": {},
   "source": [
    "# Causal Data Science Week 6 Tutorial\n",
    "\n",
    "In this tutorial we will practice how to learn a causal graph using score based structure learning with the GES algorithm. We will use the python implementation of the algorithm from the package GES. You can also choose to use the GES implementation in CDT, which is a python wrapper of an R script."
   ]
  },
  {
   "cell_type": "markdown",
   "id": "aa26f3ea",
   "metadata": {},
   "source": [
    "## GES algorithm\n",
    "\n",
    "Greedy Equivalence Search (GES) (https://www.jmlr.org/papers/volume3/chickering02b/chickering02b.pdf) is a score-based causal discovery algorithm. The algorithm starts with an empty graph, progressively adds potential edges, and then removes unnecessary edges in a pattern. At each step, the decision is measured by a score such as Bayesian Information Criterion (BIC) score. The resulting model at each step is mapped to the corresponding Markov equivalence class.\n",
    "\n",
    "The GES algorithm has two phases:\n",
    "- forward step;\n",
    "- backward step. \n"
   ]
  },
  {
   "cell_type": "code",
   "execution_count": 3,
   "id": "df48c99d",
   "metadata": {},
   "outputs": [
    {
     "name": "stdout",
     "output_type": "stream",
     "text": [
      "Collecting ges\n",
      "  Downloading ges-1.0.6-py3-none-any.whl (47 kB)\n",
      "\u001b[K     |████████████████████████████████| 47 kB 3.1 MB/s eta 0:00:011\n",
      "\u001b[?25hRequirement already satisfied: numpy>=1.15.0 in /opt/anaconda3/envs/CDS/lib/python3.9/site-packages (from ges) (1.19.2)\n",
      "Installing collected packages: ges\n",
      "Successfully installed ges-1.0.6\n"
     ]
    }
   ],
   "source": [
    "# !pip install ges"
   ]
  },
  {
   "cell_type": "code",
   "execution_count": 1,
   "id": "a7291b3c",
   "metadata": {},
   "outputs": [],
   "source": [
    "# import necessary packages\n",
    "import warnings\n",
    "warnings.filterwarnings('ignore')\n",
    "\n",
    "import dowhy\n",
    "from dowhy import CausalModel\n",
    "\n",
    "import networkx as nx\n",
    "import matplotlib.pyplot as plt\n",
    "import pandas as pd\n",
    "\n",
    "import numpy as np\n",
    "from numpy.random import normal"
   ]
  },
  {
   "cell_type": "markdown",
   "id": "2c1e50e0",
   "metadata": {},
   "source": [
    "We use the same synthetic dataset as Tutorial 5, which contains 5 variables and linear dependencies between them. For an easier demonstration of the algorithm later, we re-name the variables. The true underlying causal graph is two cells below."
   ]
  },
  {
   "cell_type": "code",
   "execution_count": 2,
   "id": "d66e847b",
   "metadata": {},
   "outputs": [
    {
     "data": {
      "text/plain": [
       "<matplotlib.collections.PathCollection at 0x7fb4a16e4940>"
      ]
     },
     "execution_count": 2,
     "metadata": {},
     "output_type": "execute_result"
    },
    {
     "data": {
      "image/png": "[encoded data removed]",
      "text/plain": [
       "<Figure size 432x288 with 1 Axes>"
      ]
     },
     "metadata": {
      "needs_background": "light"
     },
     "output_type": "display_data"
    }
   ],
   "source": [
    "n_samples=10000\n",
    "\n",
    "np.random.seed(2022)\n",
    "\n",
    "eps1 = normal(0, 1, n_samples)\n",
    "eps2 = normal(0, 2, n_samples)\n",
    "eps3 = normal(0, 0.7, n_samples)\n",
    "eps4 = normal(0, 1.5, n_samples)\n",
    "eps5 = normal(0, 1, n_samples)\n",
    "\n",
    "x0 = eps1\n",
    "x1 = eps2\n",
    "x2 = x0 + x1 + eps3\n",
    "x3 = 2 * x0 + eps4\n",
    "x4 = 3 * x2 + eps5\n",
    "\n",
    "# we can plot scatter plots between any two variables \n",
    "plt.scatter(x0, x1)"
   ]
  },
  {
   "cell_type": "code",
   "execution_count": 3,
   "id": "10ee3d43",
   "metadata": {},
   "outputs": [
    {
     "data": {
      "image/png": "[encoded data removed]",
      "text/plain": [
       "<Figure size 432x288 with 1 Axes>"
      ]
     },
     "metadata": {},
     "output_type": "display_data"
    }
   ],
   "source": [
    "nodes = [\"x0\", \"x1\", \"x2\", \"x3\", \"x4\"]\n",
    "pos = {'x1': (-1, 1),              'x0': (1, 1),\n",
    "       'x2': (0, 0.5),          'x3': (1, -1), \n",
    "       'x4': (-1, -1),}\n",
    "\n",
    "df = pd.DataFrame({'x0': x0,'x1': x1,'x2': x2,'x3': x3,'x4': x4})\n",
    "df.head()\n",
    "\n",
    "true_graph = nx.DiGraph()\n",
    "true_graph.add_nodes_from(nodes)\n",
    "true_graph.add_edges_from([('x0', 'x2'), ('x1', 'x2'), ('x0', 'x3'), ('x2', 'x4')])\n",
    "\n",
    "nx.draw(true_graph, with_labels=True, node_size=500, node_color='w', edgecolors ='black', pos=pos)"
   ]
  },
  {
   "cell_type": "markdown",
   "id": "efe7eeeb",
   "metadata": {},
   "source": [
    "Below, we prepare the data for GES, which requires a numpy array format."
   ]
  },
  {
   "cell_type": "code",
   "execution_count": 4,
   "id": "683d7d29",
   "metadata": {},
   "outputs": [
    {
     "name": "stdout",
     "output_type": "stream",
     "text": [
      "[[-5.27899086e-04  1.28782841e-01  6.23842409e-01  4.15232953e-01\n",
      "   1.18332586e+00]\n",
      " [-2.74901425e-01  1.46282129e+00  2.31066417e+00 -1.10149468e+00\n",
      "   6.47029429e+00]\n",
      " [-1.39285562e-01  2.39096009e+00  1.34831950e+00  1.33079236e-01\n",
      "   4.57545917e+00]\n",
      " ...\n",
      " [ 3.11093990e-01 -8.64769580e-01 -3.29712589e-01 -3.83444934e-01\n",
      "  -3.17489328e-01]\n",
      " [ 6.99104311e-02 -2.60389299e+00 -3.49076589e+00  1.08980604e+00\n",
      "  -1.05456551e+01]\n",
      " [-2.45055084e-01  1.44412299e+00  1.16498160e+00 -2.27416937e+00\n",
      "   4.51736564e+00]]\n"
     ]
    }
   ],
   "source": [
    "import ges\n",
    "\n",
    "data = df.to_numpy()\n",
    "print(data)"
   ]
  },
  {
   "cell_type": "markdown",
   "id": "f1857133",
   "metadata": {},
   "source": [
    "We check the final learned graph from calling ```fit_bic()```. GES contains forward phase and backward phase. It can be improved by including a \"turning phase\" (https://www.jmlr.org/papers/volume13/hauser12a/hauser12a.pdf), which is implemented in the GES package too. In this tutorial, we do not cover the turning phase (you can try exploring it yourself). \n",
    "\n",
    "The debug parameter controls the printing of the intermediate results. Changing debug to a different level (<5) will show different levels of output for debugging (0 for no output and 4 for the most specific outputs). "
   ]
  },
  {
   "cell_type": "code",
   "execution_count": 5,
   "id": "8a01792f",
   "metadata": {},
   "outputs": [],
   "source": [
    "def get_colors(G):\n",
    "    edges = G.edges()\n",
    "    for (x, y) in G.edges():\n",
    "        if (y, x) in edges:\n",
    "            # bi-directional edge\n",
    "            nx.set_edge_attributes(G, {(x, y): {\"directed\": False}})\n",
    "        else:\n",
    "            nx.set_edge_attributes(G, {(x, y): {\"directed\": True}})\n",
    "    colors = ['black' if G[u][v]['directed']==True else 'r' for u,v in G.edges()]\n",
    "    return colors"
   ]
  },
  {
   "cell_type": "code",
   "execution_count": 6,
   "id": "2f390d65",
   "metadata": {},
   "outputs": [
    {
     "data": {
      "image/png": "[encoded data removed]",
      "text/plain": [
       "<Figure size 432x288 with 1 Axes>"
      ]
     },
     "metadata": {},
     "output_type": "display_data"
    }
   ],
   "source": [
    "estimate, score = ges.fit_bic(data, phases=['forward', 'backward'], debug=0) # debug = 0-4 for intermediate results\n",
    "H = nx.DiGraph()\n",
    "H = nx.from_numpy_array(estimate, create_using=nx.DiGraph)\n",
    "mapping = dict(zip(H.nodes, nodes))\n",
    "H = nx.relabel_nodes(H, mapping)\n",
    "colors = get_colors(H)\n",
    "nx.draw(H, with_labels=True, node_size=500, node_color='w', \n",
    "        edgecolors ='black', pos=pos, edge_color=colors)"
   ]
  },
  {
   "cell_type": "markdown",
   "id": "61e88d2e",
   "metadata": {},
   "source": [
    "Now, we look at the learning process step-by-step. \n",
    "We first initalize a Gaussian BIC score object. This object will pre-compute and cache l0-penalized gaussian likelihood scores. By default, we use the 'scatter' method and the empirical covariance matrix to compute the likelihood."
   ]
  },
  {
   "cell_type": "code",
   "execution_count": 7,
   "id": "26584aa8",
   "metadata": {},
   "outputs": [
    {
     "name": "stdout",
     "output_type": "stream",
     "text": [
      "[[ 9.90781856e-01  9.80207368e-04  9.90358505e-01  1.95521060e+00\n",
      "   2.96214912e+00]\n",
      " [ 9.80207368e-04  4.05715808e+00  4.04194358e+00 -1.50336848e-02\n",
      "   1.21190014e+01]\n",
      " [ 9.90358505e-01  4.04194358e+00  5.50153053e+00  1.92819036e+00\n",
      "   1.64898587e+01]\n",
      " [ 1.95521060e+00 -1.50336848e-02  1.92819036e+00  6.09701974e+00\n",
      "   5.75794521e+00]\n",
      " [ 2.96214912e+00  1.21190014e+01  1.64898587e+01  5.75794521e+00\n",
      "   5.04505860e+01]]\n"
     ]
    }
   ],
   "source": [
    "from ges.scores.gauss_obs_l0_pen import GaussObsL0Pen\n",
    "# initalize the Gaussian BIC score\n",
    "cache = GaussObsL0Pen(data)\n",
    "print(cache._scatter)"
   ]
  },
  {
   "cell_type": "markdown",
   "id": "46d70420",
   "metadata": {},
   "source": [
    "Following this, we run the learning process that includes the forward phase and backward phase. In the forward phase, an edge is added at each step, while edges are removed for the backward phase.\n",
    "\n",
    "The graph is stored in an adjacency matrix A where ```A[i][j] = 1``` indicates the existence of a directed edge going from i to j, and ```A[i][j] = 0``` otherwise.\n",
    "\n",
    "Because we are searching the Markov Equivalence Class, every step we will validate if the operation meets two conditons (see paper) and therefore is a valid operation."
   ]
  },
  {
   "cell_type": "code",
   "execution_count": 8,
   "id": "2f72e3c9",
   "metadata": {},
   "outputs": [],
   "source": [
    "# define parameters\n",
    "phases = ['forward', 'backward']\n",
    "debug = 3 # with 3 we can see the results \n",
    "iterate = False\n",
    "score_class = cache"
   ]
  },
  {
   "cell_type": "code",
   "execution_count": 9,
   "id": "325eba14",
   "metadata": {
    "scrolled": false
   },
   "outputs": [
    {
     "name": "stdout",
     "output_type": "stream",
     "text": [
      "\n",
      "GES forward phase start\n",
      "-------------------------\n",
      "  20 candidate edges\n",
      "    insert(0,1,[]) -> -4.6039750811414706\n",
      "    insert(0,2,[]) -> 987.2725238463699498\n",
      "    insert(0,3,[]) -> 5005.1334009327219974\n",
      "    insert(0,4,[]) -> 960.5121131798005081\n",
      "    insert(1,0,[]) -> -4.6039750811423801\n",
      "    insert(1,2,[]) -> 6578.1030353265787198\n",
      "    insert(1,3,[]) -> -4.5594862682046369\n",
      "    insert(1,4,[]) -> 6316.4692165751293942\n",
      "    insert(2,0,[]) -> 987.2725238463699498\n",
      "    insert(2,1,[]) -> 6578.1030353265787198\n",
      "    insert(2,3,[]) -> 582.7883504783785611\n",
      "    insert(2,4,[]) -> 19476.0789899168994452\n",
      "    insert(3,0,[]) -> 5005.1334009327201784\n",
      "    insert(3,1,[]) -> -4.5594862682082749\n",
      "    insert(3,2,[]) -> 582.7883504783785611\n",
      "    insert(3,4,[]) -> 565.6256945400673430\n",
      "    insert(4,0,[]) -> 960.5121131798041461\n",
      "    insert(4,1,[]) -> 6316.4692165751330322\n",
      "    insert(4,2,[]) -> 19476.0789899169176351\n",
      "    insert(4,3,[]) -> 565.6256945400746190\n",
      "  Best operator: insert(4, 2, []) -> (19476.0790)\n",
      "  18 candidate edges\n",
      "    insert(0,1,[]) -> -4.6039750811414706\n",
      "    insert(0,2,[]) -> 987.2725238463699498\n",
      "    insert(0,2,[4]) -> 22.3915517764162360\n",
      "    insert(0,3,[]) -> 5005.1334009327219974\n",
      "    insert(0,4,[]) -> 960.5121131798005081\n",
      "    insert(0,4,[2]) -> -4.3688588901486582\n",
      "    insert(1,0,[]) -> -4.6039750811423801\n",
      "    insert(1,2,[]) -> 6578.1030353265787198\n",
      "    insert(1,2,[4]) -> 257.1002165205018173\n",
      "    insert(1,3,[]) -> -4.5594862682046369\n",
      "    insert(1,4,[]) -> 6316.4692165751293942\n",
      "    insert(1,4,[2]) -> -4.5336022309766122\n",
      "    insert(2,0,[]) -> 987.2725238463699498\n",
      "    insert(2,1,[]) -> 6578.1030353265787198\n",
      "    insert(2,3,[]) -> 582.7883504783785611\n",
      "    insert(3,0,[]) -> 5005.1334009327201784\n",
      "    insert(3,1,[]) -> -4.5594862682082749\n",
      "    insert(3,2,[]) -> 582.7883504783785611\n",
      "    insert(3,2,[4]) -> 12.9719101453556505\n",
      "    insert(3,4,[]) -> 565.6256945400673430\n",
      "    insert(3,4,[2]) -> -4.1907457929519296\n",
      "    insert(4,0,[]) -> 960.5121131798041461\n",
      "    insert(4,1,[]) -> 6316.4692165751330322\n",
      "    insert(4,3,[]) -> 565.6256945400746190\n",
      "  Best operator: insert(1, 2, []) -> (6578.1030)\n",
      "  16 candidate edges\n",
      "    insert(0,1,[]) -> -4.6039750811414706\n",
      "    insert(0,1,[2]) -> 4545.8611941648168795\n",
      "    insert(0,2,[]) -> 987.2725238463699498\n",
      "    insert(0,2,[4]) -> 22.3915517764162360\n",
      "    insert(0,2,[1]) -> 5537.7376930923328473\n",
      "    insert(0,3,[]) -> 5005.1334009327219974\n",
      "    insert(0,4,[]) -> 960.5121131798005081\n",
      "    insert(0,4,[2]) -> -4.3688588901486582\n",
      "    insert(1,0,[]) -> -4.6039750811423801\n",
      "    insert(1,3,[]) -> -4.5594862682046369\n",
      "    insert(1,4,[]) -> -4.5336022309766122\n",
      "    insert(2,0,[]) -> 987.2725238463699498\n",
      "    insert(2,3,[]) -> 582.7883504783785611\n",
      "    insert(3,0,[]) -> 5005.1334009327201784\n",
      "    insert(3,1,[]) -> -4.5594862682082749\n",
      "    insert(3,1,[2]) -> 2131.1899516294329260\n",
      "    insert(3,2,[]) -> 582.7883504783785611\n",
      "    insert(3,2,[4]) -> 12.9719101453556505\n",
      "    insert(3,2,[1]) -> 2718.5377883760202167\n",
      "    insert(3,4,[]) -> 565.6256945400673430\n",
      "    insert(3,4,[2]) -> -4.1907457929519296\n",
      "    insert(4,0,[]) -> 960.5121131798041461\n",
      "    insert(4,1,[]) -> -4.5336022309338659\n",
      "    insert(4,3,[]) -> 565.6256945400746190\n",
      "  Best operator: insert(0, 2, [1]) -> (5537.7377)\n",
      "  14 candidate edges\n",
      "    insert(0,1,[]) -> -4.6039750811414706\n",
      "    insert(0,3,[]) -> 5005.1334009327219974\n",
      "    insert(0,4,[]) -> -4.3688588901486582\n",
      "    insert(1,0,[]) -> -4.6039750811423801\n",
      "    insert(1,3,[]) -> -4.5594862682046369\n",
      "    insert(1,4,[]) -> -4.5336022309766122\n",
      "    insert(2,3,[]) -> 582.7883504783785611\n",
      "    insert(3,0,[]) -> 5005.1334009327201784\n",
      "    insert(3,1,[]) -> -4.5594862682082749\n",
      "    insert(3,2,[]) -> -4.2095978105739960\n",
      "    insert(3,4,[]) -> -4.1907457929519296\n",
      "    insert(4,3,[]) -> 565.6256945400746190\n",
      "  Best operator: insert(0, 3, []) -> (5005.1334)\n",
      "  12 candidate edges\n",
      "    insert(0,1,[]) -> -4.6039750811414706\n",
      "    insert(0,4,[]) -> -4.3688588901486582\n",
      "    insert(1,0,[]) -> -4.6039750811423801\n",
      "    insert(1,0,[3]) -> -4.4911548788847782\n",
      "    insert(1,3,[]) -> -4.5594862682046369\n",
      "    insert(1,3,[0]) -> -4.4466660659509216\n",
      "    insert(1,4,[]) -> -4.5336022309766122\n",
      "    insert(2,3,[]) -> -4.2657199807435973\n",
      "    insert(3,1,[]) -> -4.5594862682082749\n",
      "    insert(3,2,[]) -> -4.2095978105739960\n",
      "    insert(3,4,[]) -> -4.1907457929519296\n",
      "    insert(4,3,[0]) -> -4.1934201622079854\n",
      "  Best operator: insert(3, 4, []) -> (-4.1907)\n",
      "-----------------------\n",
      "GES forward phase end\n",
      "Total score: 36597.0531\n",
      "[0 0 1 1 0]\n",
      "[0 0 1 0 0]\n",
      "[0 0 0 0 1]\n",
      "[1 0 0 0 0]\n",
      "[0 0 0 0 0]\n",
      "\n",
      "GES backward phase start\n",
      "-------------------------\n",
      "  4 candidate edges\n",
      "    delete(0,2,[]) -> -5537.7376930923328473\n",
      "    delete(1,2,[]) -> -11128.5682045725425269\n",
      "    delete(2,4,[]) -> -19476.0789899168994452\n",
      "    delete(3,0,[]) -> -5005.1334009327201784\n",
      "  Best operator: delete(3, 0, []) -> (-5005.1334)\n",
      "-----------------------\n",
      "GES backward phase end\n",
      "Total score: 36597.0531\n",
      "[0 0 1 1 0]\n",
      "[0 0 1 0 0]\n",
      "[0 0 0 0 1]\n",
      "[1 0 0 0 0]\n",
      "[0 0 0 0 0]\n"
     ]
    }
   ],
   "source": [
    "# The code below is taken directly from the GES library\n",
    "from ges import forward_step, backward_step, turning_step\n",
    "import ges.utils as utils\n",
    "\n",
    "# Unless indicated otherwise, initialize to the empty graph\n",
    "A0 = np.zeros((cache.p, cache.p))\n",
    "# initialize the score and adjacency matrix\n",
    "A, score_change = A0, np.Inf\n",
    "\n",
    "# Set the completion algorithm\n",
    "completion_algorithm = utils.pdag_to_cpdag\n",
    "# GES procedure\n",
    "total_score = 0\n",
    "\n",
    "inter_adjs = []\n",
    "inter_scores = []\n",
    "# Run each phase\n",
    "while True:\n",
    "    last_total_score = total_score\n",
    "    for phase in phases:\n",
    "        if phase == 'forward':\n",
    "            fun = forward_step\n",
    "        elif phase == 'backward':\n",
    "            fun = backward_step\n",
    "        elif phase == 'turning':\n",
    "            fun = turning_step\n",
    "        else:\n",
    "            raise ValueError('Invalid phase \"%s\" specified' % phase)\n",
    "        print(\"\\nGES %s phase start\" % phase) if debug else None\n",
    "        print(\"-------------------------\") if debug else None\n",
    "        while True:\n",
    "            score_change, new_A = fun(A, score_class, max(0, debug - 1))\n",
    "            if score_change > 0:\n",
    "                A = completion_algorithm(new_A)\n",
    "                inter_adjs.append(A)\n",
    "                total_score += score_change\n",
    "                inter_scores.append(total_score)\n",
    "            else:\n",
    "                break\n",
    "        print(\"-----------------------\") if debug else None\n",
    "        print(\"GES %s phase end\" % phase) if debug else None\n",
    "        print(\"Total score: %0.4f\" % total_score) if debug else None\n",
    "        [print(row) for row in A] if debug else None\n",
    "    if total_score <= last_total_score or not iterate:\n",
    "        break"
   ]
  },
  {
   "cell_type": "markdown",
   "id": "8a15bed1",
   "metadata": {},
   "source": [
    "From the output, we can see that at each step in each phase, a set of candidate edges that we can insert/delete is considered, and the score change of the insertion or deletion is calculated. \n",
    "\n",
    "Considering all edge candidates and a set of potential variables that might form a v-structure (all possible subsets of neighbors of y which are NOT adjacent to x), the algorithm chooses the best operation for the highest score gain. \n",
    "\n",
    "We keep inserting/deleting edges until no action will result in a positive score gain."
   ]
  },
  {
   "cell_type": "markdown",
   "id": "30d0748e",
   "metadata": {},
   "source": [
    "We can also visualize the whole process and each step by drawing the current graph. We can see how the graph changes while we are adding more edges and how the addition of certain edges orients other edges."
   ]
  },
  {
   "cell_type": "code",
   "execution_count": 10,
   "id": "8b012897",
   "metadata": {},
   "outputs": [],
   "source": [
    "def draw_from_adj(Adj):\n",
    "    print(Adj)\n",
    "    H = nx.MultiGraph()\n",
    "    H = nx.from_numpy_array(Adj, create_using=nx.DiGraph)\n",
    "    mapping = dict(zip(H.nodes, nodes))\n",
    "    H = nx.relabel_nodes(H, mapping)\n",
    "    colors = get_colors(H)\n",
    "    nx.draw(H, with_labels=True, node_size=500, node_color='w', \n",
    "            edgecolors ='black', pos=pos, edge_color=colors)\n",
    "    return H"
   ]
  },
  {
   "cell_type": "code",
   "execution_count": 11,
   "id": "2ea327cc",
   "metadata": {
    "scrolled": false
   },
   "outputs": [
    {
     "name": "stdout",
     "output_type": "stream",
     "text": [
      "Total_score:  0\n",
      "--------Step: 1--------\n",
      "Total_score:  19476.078989916918\n",
      "[[0 0 0 0 0]\n",
      " [0 0 0 0 0]\n",
      " [0 0 0 0 1]\n",
      " [0 0 0 0 0]\n",
      " [0 0 1 0 0]]\n"
     ]
    },
    {
     "data": {
      "image/png": "[encoded data removed]",
      "text/plain": [
       "<Figure size 432x288 with 1 Axes>"
      ]
     },
     "metadata": {},
     "output_type": "display_data"
    },
    {
     "name": "stdout",
     "output_type": "stream",
     "text": [
      "--------Step: 2--------\n",
      "Total_score:  26054.182025243495\n",
      "[[0 0 0 0 0]\n",
      " [0 0 1 0 0]\n",
      " [0 1 0 0 1]\n",
      " [0 0 0 0 0]\n",
      " [0 0 1 0 0]]\n"
     ]
    },
    {
     "data": {
      "image/png": "[encoded data removed]",
      "text/plain": [
       "<Figure size 432x288 with 1 Axes>"
      ]
     },
     "metadata": {},
     "output_type": "display_data"
    },
    {
     "name": "stdout",
     "output_type": "stream",
     "text": [
      "--------Step: 3--------\n",
      "Total_score:  31591.919718335826\n",
      "[[0 0 1 0 0]\n",
      " [0 0 1 0 0]\n",
      " [0 0 0 0 1]\n",
      " [0 0 0 0 0]\n",
      " [0 0 0 0 0]]\n"
     ]
    },
    {
     "data": {
      "image/png": "[encoded data removed]",
      "text/plain": [
       "<Figure size 432x288 with 1 Axes>"
      ]
     },
     "metadata": {},
     "output_type": "display_data"
    },
    {
     "name": "stdout",
     "output_type": "stream",
     "text": [
      "--------Step: 4--------\n",
      "Total_score:  36597.053119268545\n",
      "[[0 0 1 1 0]\n",
      " [0 0 1 0 0]\n",
      " [0 0 0 0 1]\n",
      " [1 0 0 0 0]\n",
      " [0 0 0 0 0]]\n"
     ]
    },
    {
     "data": {
      "image/png": "[encoded data removed]",
      "text/plain": [
       "<Figure size 432x288 with 1 Axes>"
      ]
     },
     "metadata": {},
     "output_type": "display_data"
    }
   ],
   "source": [
    "import matplotlib.pyplot as plt\n",
    "i = 1\n",
    "print(\"Total_score: \", 0)\n",
    "for key, adj in enumerate(inter_adjs):\n",
    "    fig = plt.figure(i)   \n",
    "    print(\"--------Step: {}--------\".format(i))\n",
    "    print(\"Total_score: \", inter_scores[key])\n",
    "    _ = draw_from_adj(adj)\n",
    "    display(fig)\n",
    "    i += 1\n",
    "    plt.close()"
   ]
  },
  {
   "cell_type": "markdown",
   "id": "f2efbf37",
   "metadata": {},
   "source": [
    "Here we use GES package for a clearer demonstration. This package contains only a gaussian score calculating method. If your data is (partly) categorical, we suggest using the CDT package. You can use GES algorithm for exclusively categorical data, or Bayesion Network learn (BNlearn) when your data is mixed (continuous and categorical variables)."
   ]
  },
  {
   "cell_type": "markdown",
   "id": "0bd1cdfd",
   "metadata": {},
   "source": [
    "The GES implementation in DoWhy is wrapper for the GES package, which you can call as follows. Note that we need a DAG for DoWhy to do further estimation."
   ]
  },
  {
   "cell_type": "code",
   "execution_count": 12,
   "id": "3e160587",
   "metadata": {},
   "outputs": [],
   "source": [
    "# You might need to install this package for proper graph display\n",
    "# !pip install graphviz "
   ]
  },
  {
   "cell_type": "code",
   "execution_count": 13,
   "id": "92966192",
   "metadata": {},
   "outputs": [
    {
     "ename": "ModuleNotFoundError",
     "evalue": "No module named 'graphviz'",
     "output_type": "error",
     "traceback": [
      "\u001b[0;31m---------------------------------------------------------------------------\u001b[0m",
      "\u001b[0;31mModuleNotFoundError\u001b[0m                       Traceback (most recent call last)",
      "\u001b[1;32m/Users/dj/Documents/GitHub/Causal_Data_Science/Week 6 tutorial.ipynb Cell 25'\u001b[0m in \u001b[0;36m<module>\u001b[0;34m\u001b[0m\n\u001b[1;32m      <a href='vscode-notebook-cell:/Users/dj/Documents/GitHub/Causal_Data_Science/Week%206%20tutorial.ipynb#ch0000024?line=0'>1</a>\u001b[0m \u001b[39mfrom\u001b[39;00m \u001b[39mdowhy\u001b[39;00m\u001b[39m.\u001b[39;00m\u001b[39mgraph_learners\u001b[39;00m\u001b[39m.\u001b[39;00m\u001b[39mges\u001b[39;00m \u001b[39mimport\u001b[39;00m GES\n\u001b[1;32m      <a href='vscode-notebook-cell:/Users/dj/Documents/GitHub/Causal_Data_Science/Week%206%20tutorial.ipynb#ch0000024?line=2'>3</a>\u001b[0m learner \u001b[39m=\u001b[39m GES(df, \u001b[39m'\u001b[39m\u001b[39mges\u001b[39m\u001b[39m'\u001b[39m)\n\u001b[0;32m----> <a href='vscode-notebook-cell:/Users/dj/Documents/GitHub/Causal_Data_Science/Week%206%20tutorial.ipynb#ch0000024?line=3'>4</a>\u001b[0m _ \u001b[39m=\u001b[39m learner\u001b[39m.\u001b[39;49mlearn_graph()\n\u001b[1;32m      <a href='vscode-notebook-cell:/Users/dj/Documents/GitHub/Causal_Data_Science/Week%206%20tutorial.ipynb#ch0000024?line=4'>5</a>\u001b[0m adj \u001b[39m=\u001b[39m learner\u001b[39m.\u001b[39m_adjacency_matrix\n\u001b[1;32m      <a href='vscode-notebook-cell:/Users/dj/Documents/GitHub/Causal_Data_Science/Week%206%20tutorial.ipynb#ch0000024?line=5'>6</a>\u001b[0m G \u001b[39m=\u001b[39m draw_from_adj(adj)\n",
      "File \u001b[0;32m/opt/anaconda3/envs/CDS/lib/python3.9/site-packages/dowhy/graph_learners/ges.py:31\u001b[0m, in \u001b[0;36mGES.learn_graph\u001b[0;34m(self, labels)\u001b[0m\n\u001b[1;32m     <a href='file:///opt/anaconda3/envs/CDS/lib/python3.9/site-packages/dowhy/graph_learners/ges.py?line=27'>28</a>\u001b[0m \u001b[39mif\u001b[39;00m labels \u001b[39mis\u001b[39;00m \u001b[39mnot\u001b[39;00m \u001b[39mNone\u001b[39;00m:\n\u001b[1;32m     <a href='file:///opt/anaconda3/envs/CDS/lib/python3.9/site-packages/dowhy/graph_learners/ges.py?line=28'>29</a>\u001b[0m \t\u001b[39mself\u001b[39m\u001b[39m.\u001b[39m_labels \u001b[39m=\u001b[39m labels\n\u001b[0;32m---> <a href='file:///opt/anaconda3/envs/CDS/lib/python3.9/site-packages/dowhy/graph_learners/ges.py?line=30'>31</a>\u001b[0m \u001b[39mself\u001b[39m\u001b[39m.\u001b[39m_graph_dot \u001b[39m=\u001b[39m adjacency_matrix_to_graph(\u001b[39mself\u001b[39;49m\u001b[39m.\u001b[39;49m_adjacency_matrix, \u001b[39mself\u001b[39;49m\u001b[39m.\u001b[39;49m_labels)\n\u001b[1;32m     <a href='file:///opt/anaconda3/envs/CDS/lib/python3.9/site-packages/dowhy/graph_learners/ges.py?line=32'>33</a>\u001b[0m \u001b[39m# Return in valid DOT format\u001b[39;00m\n\u001b[1;32m     <a href='file:///opt/anaconda3/envs/CDS/lib/python3.9/site-packages/dowhy/graph_learners/ges.py?line=33'>34</a>\u001b[0m \u001b[39mself\u001b[39m\u001b[39m.\u001b[39m_graph_dot \u001b[39m=\u001b[39m str_to_dot(\u001b[39mself\u001b[39m\u001b[39m.\u001b[39m_graph_dot\u001b[39m.\u001b[39msource)\n",
      "File \u001b[0;32m/opt/anaconda3/envs/CDS/lib/python3.9/site-packages/dowhy/utils/graph_operations.py:35\u001b[0m, in \u001b[0;36madjacency_matrix_to_graph\u001b[0;34m(adjacency_matrix, labels)\u001b[0m\n\u001b[1;32m     <a href='file:///opt/anaconda3/envs/CDS/lib/python3.9/site-packages/dowhy/utils/graph_operations.py?line=32'>33</a>\u001b[0m idx \u001b[39m=\u001b[39m np\u001b[39m.\u001b[39mabs(adjacency_matrix) \u001b[39m>\u001b[39m \u001b[39m0.01\u001b[39m\n\u001b[1;32m     <a href='file:///opt/anaconda3/envs/CDS/lib/python3.9/site-packages/dowhy/utils/graph_operations.py?line=33'>34</a>\u001b[0m dirs \u001b[39m=\u001b[39m np\u001b[39m.\u001b[39mwhere(idx)\n\u001b[0;32m---> <a href='file:///opt/anaconda3/envs/CDS/lib/python3.9/site-packages/dowhy/utils/graph_operations.py?line=34'>35</a>\u001b[0m \u001b[39mimport\u001b[39;00m \u001b[39mgraphviz\u001b[39;00m\n\u001b[1;32m     <a href='file:///opt/anaconda3/envs/CDS/lib/python3.9/site-packages/dowhy/utils/graph_operations.py?line=35'>36</a>\u001b[0m d \u001b[39m=\u001b[39m graphviz\u001b[39m.\u001b[39mDigraph(engine\u001b[39m=\u001b[39m\u001b[39m'\u001b[39m\u001b[39mdot\u001b[39m\u001b[39m'\u001b[39m)\n\u001b[1;32m     <a href='file:///opt/anaconda3/envs/CDS/lib/python3.9/site-packages/dowhy/utils/graph_operations.py?line=36'>37</a>\u001b[0m names \u001b[39m=\u001b[39m labels \u001b[39mif\u001b[39;00m labels \u001b[39melse\u001b[39;00m [\u001b[39mf\u001b[39m\u001b[39m'\u001b[39m\u001b[39mx\u001b[39m\u001b[39m{\u001b[39;00mi\u001b[39m}\u001b[39;00m\u001b[39m'\u001b[39m \u001b[39mfor\u001b[39;00m i \u001b[39min\u001b[39;00m \u001b[39mrange\u001b[39m(\u001b[39mlen\u001b[39m(adjacency_matrix))]\n",
      "\u001b[0;31mModuleNotFoundError\u001b[0m: No module named 'graphviz'"
     ]
    }
   ],
   "source": [
    "from dowhy.graph_learners.ges import GES\n",
    "\n",
    "learner = GES(df, 'ges')\n",
    "_ = learner.learn_graph()\n",
    "adj = learner._adjacency_matrix\n",
    "G = draw_from_adj(adj)"
   ]
  },
  {
   "cell_type": "code",
   "execution_count": null,
   "id": "157b3680",
   "metadata": {},
   "outputs": [],
   "source": []
  }
 ],
 "metadata": {
  "interpreter": {
   "hash": "34d7d7721f0477721de4e9b22685ddef832fd9dea0e23f8e06aa09513dc810b8"
  },
  "kernelspec": {
   "display_name": "cds",
   "language": "python",
   "name": "python3"
  },
  "language_info": {
   "codemirror_mode": {
    "name": "ipython",
    "version": 3
   },
   "file_extension": ".py",
   "mimetype": "text/x-python",
   "name": "python",
   "nbconvert_exporter": "python",
   "pygments_lexer": "ipython3",
   "version": "3.9.7"
  }
 },
 "nbformat": 4,
 "nbformat_minor": 5
}
