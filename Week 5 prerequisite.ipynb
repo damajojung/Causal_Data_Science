{
 "cells": [
  {
   "cell_type": "markdown",
   "id": "7a22840f",
   "metadata": {},
   "source": [
    "# Causal Data Science Week 5 Tutorial Prerequisite\n",
    "\n"
   ]
  },
  {
   "cell_type": "markdown",
   "id": "090c7650",
   "metadata": {},
   "source": [
    "Week 5 tutorial requires installation of CausalDiscoveryToolbox, R and R-related packages. The installation may take some time, so we suggest you to install before the turotial. Following code will install the necessary pakcages and test if the installation works."
   ]
  },
  {
   "cell_type": "markdown",
   "id": "c0511084",
   "metadata": {},
   "source": [
    "First download install R based on your own operation system from:\n",
    "\n",
    "https://cran.r-project.org/\n",
    "\n",
    "You can also install RStudio:\n",
    "\n",
    "https://www.rstudio.com/products/rstudio/#rstudio-desktop"
   ]
  },
  {
   "cell_type": "markdown",
   "id": "40b09d02",
   "metadata": {},
   "source": [
    "Then install cdt package."
   ]
  },
  {
   "cell_type": "code",
   "execution_count": 1,
   "id": "69045d23",
   "metadata": {},
   "outputs": [
    {
     "name": "stdout",
     "output_type": "stream",
     "text": [
      "Requirement already satisfied: cdt in /opt/anaconda3/envs/CDS/lib/python3.9/site-packages (0.5.23)\n",
      "Requirement already satisfied: numpy in /opt/anaconda3/envs/CDS/lib/python3.9/site-packages (from cdt) (1.21.2)\n",
      "Requirement already satisfied: scikit-learn in /opt/anaconda3/envs/CDS/lib/python3.9/site-packages (from cdt) (1.0.2)\n",
      "Requirement already satisfied: pandas in /opt/anaconda3/envs/CDS/lib/python3.9/site-packages (from cdt) (1.3.5)\n",
      "Requirement already satisfied: networkx in /opt/anaconda3/envs/CDS/lib/python3.9/site-packages (from cdt) (2.6.3)\n",
      "Requirement already satisfied: skrebate in /opt/anaconda3/envs/CDS/lib/python3.9/site-packages (from cdt) (0.62)\n",
      "Requirement already satisfied: scipy in /opt/anaconda3/envs/CDS/lib/python3.9/site-packages (from cdt) (1.8.0)\n",
      "Requirement already satisfied: GPUtil in /opt/anaconda3/envs/CDS/lib/python3.9/site-packages (from cdt) (1.4.0)\n",
      "Requirement already satisfied: tqdm in /opt/anaconda3/envs/CDS/lib/python3.9/site-packages (from cdt) (4.63.0)\n",
      "Requirement already satisfied: joblib in /opt/anaconda3/envs/CDS/lib/python3.9/site-packages (from cdt) (1.1.0)\n",
      "Requirement already satisfied: statsmodels in /opt/anaconda3/envs/CDS/lib/python3.9/site-packages (from cdt) (0.13.2)\n",
      "Requirement already satisfied: requests in /opt/anaconda3/envs/CDS/lib/python3.9/site-packages (from cdt) (2.27.1)\n",
      "Requirement already satisfied: python-dateutil>=2.7.3 in /opt/anaconda3/envs/CDS/lib/python3.9/site-packages (from pandas->cdt) (2.8.2)\n",
      "Requirement already satisfied: pytz>=2017.3 in /opt/anaconda3/envs/CDS/lib/python3.9/site-packages (from pandas->cdt) (2021.3)\n",
      "Requirement already satisfied: six>=1.5 in /opt/anaconda3/envs/CDS/lib/python3.9/site-packages (from python-dateutil>=2.7.3->pandas->cdt) (1.16.0)\n",
      "Requirement already satisfied: urllib3<1.27,>=1.21.1 in /opt/anaconda3/envs/CDS/lib/python3.9/site-packages (from requests->cdt) (1.26.8)\n",
      "Requirement already satisfied: idna<4,>=2.5 in /opt/anaconda3/envs/CDS/lib/python3.9/site-packages (from requests->cdt) (3.3)\n",
      "Requirement already satisfied: charset-normalizer~=2.0.0 in /opt/anaconda3/envs/CDS/lib/python3.9/site-packages (from requests->cdt) (2.0.12)\n",
      "Requirement already satisfied: certifi>=2017.4.17 in /opt/anaconda3/envs/CDS/lib/python3.9/site-packages (from requests->cdt) (2021.10.8)\n",
      "Requirement already satisfied: threadpoolctl>=2.0.0 in /opt/anaconda3/envs/CDS/lib/python3.9/site-packages (from scikit-learn->cdt) (3.1.0)\n",
      "Requirement already satisfied: patsy>=0.5.2 in /opt/anaconda3/envs/CDS/lib/python3.9/site-packages (from statsmodels->cdt) (0.5.2)\n",
      "Requirement already satisfied: packaging>=21.3 in /opt/anaconda3/envs/CDS/lib/python3.9/site-packages (from statsmodels->cdt) (21.3)\n",
      "Requirement already satisfied: pyparsing!=3.0.5,>=2.0.2 in /opt/anaconda3/envs/CDS/lib/python3.9/site-packages (from packaging>=21.3->statsmodels->cdt) (3.0.4)\n",
      "Collecting package metadata (current_repodata.json): done\n",
      "Solving environment: done\n",
      "\n",
      "\n",
      "==> WARNING: A newer version of conda exists. <==\n",
      "  current version: 4.10.3\n",
      "  latest version: 4.11.0\n",
      "\n",
      "Please update conda by running\n",
      "\n",
      "    $ conda update -n base -c defaults conda\n",
      "\n",
      "\n",
      "\n",
      "# All requested packages already installed.\n",
      "\n"
     ]
    }
   ],
   "source": [
    "!pip install cdt\n",
    "!conda install r-RCurl"
   ]
  },
  {
   "cell_type": "markdown",
   "id": "d2c45b91",
   "metadata": {},
   "source": [
    "Install packages ```pcalg```, ```kpcalg```, ```devtools``` and \n",
    "a variation of ```RCIT``` package from Diviyan-Kalainathan/RCIT\n",
    "\n",
    "Use following commands in R (or RStudio if you have) only \n",
    "\n",
    "```\n",
    "install.packages(\"pcalg\")\n",
    "install.packages(\"kpcalg\")\n",
    "install.packages(\"devtools\")\n",
    "library(devtools)\n",
    "install_github(\"Diviyan-Kalainathan/RCIT\")\n",
    "```"
   ]
  },
  {
   "cell_type": "markdown",
   "id": "c41fb2b7",
   "metadata": {},
   "source": [
    "After installation, run the following cell to test. You should not receive any errors if everything has been installed correctly."
   ]
  },
  {
   "cell_type": "code",
   "execution_count": 5,
   "id": "94232360",
   "metadata": {},
   "outputs": [
    {
     "name": "stdout",
     "output_type": "stream",
     "text": [
      "R Call errored, is R available ?\n"
     ]
    },
    {
     "ename": "PermissionError",
     "evalue": "[Errno 13] Permission denied: '/Users/dj'",
     "output_type": "error",
     "traceback": [
      "\u001b[0;31m---------------------------------------------------------------------------\u001b[0m",
      "\u001b[0;31mPermissionError\u001b[0m                           Traceback (most recent call last)",
      "\u001b[1;32m/Users/dj/Documents/GitHub/Causal_Data_Science/Week 5 prerequisite.ipynb Cell 8'\u001b[0m in \u001b[0;36m<module>\u001b[0;34m\u001b[0m\n\u001b[1;32m      <a href='vscode-notebook-cell:/Users/dj/Documents/GitHub/Causal_Data_Science/Week%205%20prerequisite.ipynb#ch0000008?line=2'>3</a>\u001b[0m cdt\u001b[39m.\u001b[39mSETTINGS\u001b[39m.\u001b[39mrpath \u001b[39m=\u001b[39m \u001b[39m'\u001b[39m\u001b[39m/Users/dj\u001b[39m\u001b[39m'\u001b[39m\n\u001b[1;32m      <a href='vscode-notebook-cell:/Users/dj/Documents/GitHub/Causal_Data_Science/Week%205%20prerequisite.ipynb#ch0000008?line=3'>4</a>\u001b[0m \u001b[39m# cdt.SETTINGS.rpath = '/var/folders/9r/pl8035cn4cjb59msrdwcrvhr0000gn/T//RtmpwBGzZi/downloaded_packages'\u001b[39;00m\n\u001b[1;32m      <a href='vscode-notebook-cell:/Users/dj/Documents/GitHub/Causal_Data_Science/Week%205%20prerequisite.ipynb#ch0000008?line=4'>5</a>\u001b[0m \u001b[39m# cdt.SETTINGS.rpath = 'C:/Program Files/R/R-4.0.3/bin/Rscript' # for Windows\u001b[39;00m\n\u001b[0;32m----> <a href='vscode-notebook-cell:/Users/dj/Documents/GitHub/Causal_Data_Science/Week%205%20prerequisite.ipynb#ch0000008?line=6'>7</a>\u001b[0m model_pc \u001b[39m=\u001b[39m cdt\u001b[39m.\u001b[39;49mcausality\u001b[39m.\u001b[39;49mgraph\u001b[39m.\u001b[39;49mPC()\n",
      "File \u001b[0;32m/opt/anaconda3/envs/CDS/lib/python3.9/site-packages/cdt/causality/graph/PC.py:175\u001b[0m, in \u001b[0;36mPC.__init__\u001b[0;34m(self, CItest, method_indep, alpha, njobs, verbose)\u001b[0m\n\u001b[1;32m    <a href='file:///opt/anaconda3/envs/CDS/lib/python3.9/site-packages/cdt/causality/graph/PC.py?line=171'>172</a>\u001b[0m \u001b[39mdef\u001b[39;00m \u001b[39m__init__\u001b[39m(\u001b[39mself\u001b[39m, CItest\u001b[39m=\u001b[39m\u001b[39m\"\u001b[39m\u001b[39mgaussian\u001b[39m\u001b[39m\"\u001b[39m, method_indep\u001b[39m=\u001b[39m\u001b[39m'\u001b[39m\u001b[39mcorr\u001b[39m\u001b[39m'\u001b[39m, alpha\u001b[39m=\u001b[39m\u001b[39m0.01\u001b[39m,\n\u001b[1;32m    <a href='file:///opt/anaconda3/envs/CDS/lib/python3.9/site-packages/cdt/causality/graph/PC.py?line=172'>173</a>\u001b[0m              njobs\u001b[39m=\u001b[39m\u001b[39mNone\u001b[39;00m, verbose\u001b[39m=\u001b[39m\u001b[39mNone\u001b[39;00m):\n\u001b[1;32m    <a href='file:///opt/anaconda3/envs/CDS/lib/python3.9/site-packages/cdt/causality/graph/PC.py?line=173'>174</a>\u001b[0m     \u001b[39m\"\"\"Init the model and its available arguments.\"\"\"\u001b[39;00m\n\u001b[0;32m--> <a href='file:///opt/anaconda3/envs/CDS/lib/python3.9/site-packages/cdt/causality/graph/PC.py?line=174'>175</a>\u001b[0m     \u001b[39mif\u001b[39;00m \u001b[39mnot\u001b[39;00m (RPackages\u001b[39m.\u001b[39;49mpcalg \u001b[39mand\u001b[39;00m RPackages\u001b[39m.\u001b[39mkpcalg \u001b[39mand\u001b[39;00m RPackages\u001b[39m.\u001b[39mRCIT):\n\u001b[1;32m    <a href='file:///opt/anaconda3/envs/CDS/lib/python3.9/site-packages/cdt/causality/graph/PC.py?line=175'>176</a>\u001b[0m         \u001b[39mraise\u001b[39;00m \u001b[39mImportError\u001b[39;00m(\u001b[39m\"\u001b[39m\u001b[39mR Package (k)pcalg/RCIT is not available. \u001b[39m\u001b[39m\"\u001b[39m\n\u001b[1;32m    <a href='file:///opt/anaconda3/envs/CDS/lib/python3.9/site-packages/cdt/causality/graph/PC.py?line=176'>177</a>\u001b[0m                           \u001b[39m\"\u001b[39m\u001b[39mRCIT has to be installed from \u001b[39m\u001b[39m\"\u001b[39m\n\u001b[1;32m    <a href='file:///opt/anaconda3/envs/CDS/lib/python3.9/site-packages/cdt/causality/graph/PC.py?line=177'>178</a>\u001b[0m                           \u001b[39m\"\u001b[39m\u001b[39mhttps://github.com/Diviyan-Kalainathan/RCIT\u001b[39m\u001b[39m\"\u001b[39m)\n\u001b[1;32m    <a href='file:///opt/anaconda3/envs/CDS/lib/python3.9/site-packages/cdt/causality/graph/PC.py?line=179'>180</a>\u001b[0m     \u001b[39msuper\u001b[39m(PC, \u001b[39mself\u001b[39m)\u001b[39m.\u001b[39m\u001b[39m__init__\u001b[39m()\n",
      "File \u001b[0;32m/opt/anaconda3/envs/CDS/lib/python3.9/site-packages/cdt/utils/R.py:132\u001b[0m, in \u001b[0;36mDefaultRPackages.__getattribute__\u001b[0;34m(self, name)\u001b[0m\n\u001b[1;32m    <a href='file:///opt/anaconda3/envs/CDS/lib/python3.9/site-packages/cdt/utils/R.py?line=129'>130</a>\u001b[0m out \u001b[39m=\u001b[39m \u001b[39mobject\u001b[39m\u001b[39m.\u001b[39m\u001b[39m__getattribute__\u001b[39m(\u001b[39mself\u001b[39m, name)\n\u001b[1;32m    <a href='file:///opt/anaconda3/envs/CDS/lib/python3.9/site-packages/cdt/utils/R.py?line=130'>131</a>\u001b[0m \u001b[39mif\u001b[39;00m out \u001b[39mis\u001b[39;00m \u001b[39mNone\u001b[39;00m \u001b[39mand\u001b[39;00m \u001b[39mnot\u001b[39;00m \u001b[39mobject\u001b[39m\u001b[39m.\u001b[39m\u001b[39m__getattribute__\u001b[39m(\u001b[39mself\u001b[39m, \u001b[39m'\u001b[39m\u001b[39minit\u001b[39m\u001b[39m'\u001b[39m):\n\u001b[0;32m--> <a href='file:///opt/anaconda3/envs/CDS/lib/python3.9/site-packages/cdt/utils/R.py?line=131'>132</a>\u001b[0m     availability \u001b[39m=\u001b[39m \u001b[39mself\u001b[39;49m\u001b[39m.\u001b[39;49mcheck_R_package(name)\n\u001b[1;32m    <a href='file:///opt/anaconda3/envs/CDS/lib/python3.9/site-packages/cdt/utils/R.py?line=132'>133</a>\u001b[0m     \u001b[39msetattr\u001b[39m(\u001b[39mself\u001b[39m, name, availability)\n\u001b[1;32m    <a href='file:///opt/anaconda3/envs/CDS/lib/python3.9/site-packages/cdt/utils/R.py?line=133'>134</a>\u001b[0m     \u001b[39mreturn\u001b[39;00m availability\n",
      "File \u001b[0;32m/opt/anaconda3/envs/CDS/lib/python3.9/site-packages/cdt/utils/R.py:146\u001b[0m, in \u001b[0;36mDefaultRPackages.check_R_package\u001b[0;34m(self, package)\u001b[0m\n\u001b[1;32m    <a href='file:///opt/anaconda3/envs/CDS/lib/python3.9/site-packages/cdt/utils/R.py?line=136'>137</a>\u001b[0m \u001b[39mdef\u001b[39;00m \u001b[39mcheck_R_package\u001b[39m(\u001b[39mself\u001b[39m, package):\n\u001b[1;32m    <a href='file:///opt/anaconda3/envs/CDS/lib/python3.9/site-packages/cdt/utils/R.py?line=137'>138</a>\u001b[0m     \u001b[39m\"\"\"Execute a subprocess to check the package's availability.\u001b[39;00m\n\u001b[1;32m    <a href='file:///opt/anaconda3/envs/CDS/lib/python3.9/site-packages/cdt/utils/R.py?line=138'>139</a>\u001b[0m \n\u001b[1;32m    <a href='file:///opt/anaconda3/envs/CDS/lib/python3.9/site-packages/cdt/utils/R.py?line=139'>140</a>\u001b[0m \u001b[39m    Args:\u001b[39;00m\n\u001b[0;32m   (...)\u001b[0m\n\u001b[1;32m    <a href='file:///opt/anaconda3/envs/CDS/lib/python3.9/site-packages/cdt/utils/R.py?line=143'>144</a>\u001b[0m \u001b[39m        bool: `True` if the package is available, `False` otherwise\u001b[39;00m\n\u001b[1;32m    <a href='file:///opt/anaconda3/envs/CDS/lib/python3.9/site-packages/cdt/utils/R.py?line=144'>145</a>\u001b[0m \u001b[39m    \"\"\"\u001b[39;00m\n\u001b[0;32m--> <a href='file:///opt/anaconda3/envs/CDS/lib/python3.9/site-packages/cdt/utils/R.py?line=145'>146</a>\u001b[0m     test_package \u001b[39m=\u001b[39m \u001b[39mnot\u001b[39;00m \u001b[39mbool\u001b[39m(launch_R_script(Path(\u001b[39m\"\u001b[39;49m\u001b[39m{}\u001b[39;49;00m\u001b[39m/R_templates/test_import.R\u001b[39;49m\u001b[39m\"\u001b[39;49m\u001b[39m.\u001b[39;49mformat(os\u001b[39m.\u001b[39;49mpath\u001b[39m.\u001b[39;49mdirname(os\u001b[39m.\u001b[39;49mpath\u001b[39m.\u001b[39;49mrealpath(\u001b[39m__file__\u001b[39;49m)))),\n\u001b[1;32m    <a href='file:///opt/anaconda3/envs/CDS/lib/python3.9/site-packages/cdt/utils/R.py?line=146'>147</a>\u001b[0m                                                  {\u001b[39m\"\u001b[39;49m\u001b[39m{package}\u001b[39;49;00m\u001b[39m\"\u001b[39;49m: package}, verbose\u001b[39m=\u001b[39;49m\u001b[39mTrue\u001b[39;49;00m))\n\u001b[1;32m    <a href='file:///opt/anaconda3/envs/CDS/lib/python3.9/site-packages/cdt/utils/R.py?line=147'>148</a>\u001b[0m     \u001b[39mreturn\u001b[39;00m test_package\n",
      "File \u001b[0;32m/opt/anaconda3/envs/CDS/lib/python3.9/site-packages/cdt/utils/R.py:197\u001b[0m, in \u001b[0;36mlaunch_R_script\u001b[0;34m(template, arguments, output_function, verbose, debug)\u001b[0m\n\u001b[1;32m    <a href='file:///opt/anaconda3/envs/CDS/lib/python3.9/site-packages/cdt/utils/R.py?line=194'>195</a>\u001b[0m     \u001b[39mexcept\u001b[39;00m \u001b[39mException\u001b[39;00m \u001b[39mas\u001b[39;00m e:\n\u001b[1;32m    <a href='file:///opt/anaconda3/envs/CDS/lib/python3.9/site-packages/cdt/utils/R.py?line=195'>196</a>\u001b[0m         \u001b[39mprint\u001b[39m(\u001b[39m\"\u001b[39m\u001b[39mR Call errored, is R available ?\u001b[39m\u001b[39m\"\u001b[39m)\n\u001b[0;32m--> <a href='file:///opt/anaconda3/envs/CDS/lib/python3.9/site-packages/cdt/utils/R.py?line=196'>197</a>\u001b[0m         \u001b[39mraise\u001b[39;00m e\n\u001b[1;32m    <a href='file:///opt/anaconda3/envs/CDS/lib/python3.9/site-packages/cdt/utils/R.py?line=198'>199</a>\u001b[0m \u001b[39melse\u001b[39;00m:\n\u001b[1;32m    <a href='file:///opt/anaconda3/envs/CDS/lib/python3.9/site-packages/cdt/utils/R.py?line=199'>200</a>\u001b[0m     \u001b[39mtry\u001b[39;00m:\n",
      "File \u001b[0;32m/opt/anaconda3/envs/CDS/lib/python3.9/site-packages/cdt/utils/R.py:192\u001b[0m, in \u001b[0;36mlaunch_R_script\u001b[0;34m(template, arguments, output_function, verbose, debug)\u001b[0m\n\u001b[1;32m    <a href='file:///opt/anaconda3/envs/CDS/lib/python3.9/site-packages/cdt/utils/R.py?line=189'>190</a>\u001b[0m \u001b[39mif\u001b[39;00m output_function \u001b[39mis\u001b[39;00m \u001b[39mNone\u001b[39;00m:\n\u001b[1;32m    <a href='file:///opt/anaconda3/envs/CDS/lib/python3.9/site-packages/cdt/utils/R.py?line=190'>191</a>\u001b[0m     \u001b[39mtry\u001b[39;00m:\n\u001b[0;32m--> <a href='file:///opt/anaconda3/envs/CDS/lib/python3.9/site-packages/cdt/utils/R.py?line=191'>192</a>\u001b[0m         output \u001b[39m=\u001b[39m subprocess\u001b[39m.\u001b[39;49mcall([\u001b[39mstr\u001b[39;49m(rpath), \u001b[39m\"\u001b[39;49m\u001b[39m--vanilla\u001b[39;49m\u001b[39m\"\u001b[39;49m, \u001b[39mstr\u001b[39;49m(scriptpath)],\n\u001b[1;32m    <a href='file:///opt/anaconda3/envs/CDS/lib/python3.9/site-packages/cdt/utils/R.py?line=192'>193</a>\u001b[0m                                 stdout\u001b[39m=\u001b[39;49msubprocess\u001b[39m.\u001b[39;49mDEVNULL,\n\u001b[1;32m    <a href='file:///opt/anaconda3/envs/CDS/lib/python3.9/site-packages/cdt/utils/R.py?line=193'>194</a>\u001b[0m                                 stderr\u001b[39m=\u001b[39;49msubprocess\u001b[39m.\u001b[39;49mDEVNULL)\n\u001b[1;32m    <a href='file:///opt/anaconda3/envs/CDS/lib/python3.9/site-packages/cdt/utils/R.py?line=194'>195</a>\u001b[0m     \u001b[39mexcept\u001b[39;00m \u001b[39mException\u001b[39;00m \u001b[39mas\u001b[39;00m e:\n\u001b[1;32m    <a href='file:///opt/anaconda3/envs/CDS/lib/python3.9/site-packages/cdt/utils/R.py?line=195'>196</a>\u001b[0m         \u001b[39mprint\u001b[39m(\u001b[39m\"\u001b[39m\u001b[39mR Call errored, is R available ?\u001b[39m\u001b[39m\"\u001b[39m)\n",
      "File \u001b[0;32m/opt/anaconda3/envs/CDS/lib/python3.9/subprocess.py:349\u001b[0m, in \u001b[0;36mcall\u001b[0;34m(timeout, *popenargs, **kwargs)\u001b[0m\n\u001b[1;32m    <a href='file:///opt/anaconda3/envs/CDS/lib/python3.9/subprocess.py?line=340'>341</a>\u001b[0m \u001b[39mdef\u001b[39;00m \u001b[39mcall\u001b[39m(\u001b[39m*\u001b[39mpopenargs, timeout\u001b[39m=\u001b[39m\u001b[39mNone\u001b[39;00m, \u001b[39m*\u001b[39m\u001b[39m*\u001b[39mkwargs):\n\u001b[1;32m    <a href='file:///opt/anaconda3/envs/CDS/lib/python3.9/subprocess.py?line=341'>342</a>\u001b[0m     \u001b[39m\"\"\"Run command with arguments.  Wait for command to complete or\u001b[39;00m\n\u001b[1;32m    <a href='file:///opt/anaconda3/envs/CDS/lib/python3.9/subprocess.py?line=342'>343</a>\u001b[0m \u001b[39m    timeout, then return the returncode attribute.\u001b[39;00m\n\u001b[1;32m    <a href='file:///opt/anaconda3/envs/CDS/lib/python3.9/subprocess.py?line=343'>344</a>\u001b[0m \n\u001b[0;32m   (...)\u001b[0m\n\u001b[1;32m    <a href='file:///opt/anaconda3/envs/CDS/lib/python3.9/subprocess.py?line=346'>347</a>\u001b[0m \u001b[39m    retcode = call([\"ls\", \"-l\"])\u001b[39;00m\n\u001b[1;32m    <a href='file:///opt/anaconda3/envs/CDS/lib/python3.9/subprocess.py?line=347'>348</a>\u001b[0m \u001b[39m    \"\"\"\u001b[39;00m\n\u001b[0;32m--> <a href='file:///opt/anaconda3/envs/CDS/lib/python3.9/subprocess.py?line=348'>349</a>\u001b[0m     \u001b[39mwith\u001b[39;00m Popen(\u001b[39m*\u001b[39;49mpopenargs, \u001b[39m*\u001b[39;49m\u001b[39m*\u001b[39;49mkwargs) \u001b[39mas\u001b[39;00m p:\n\u001b[1;32m    <a href='file:///opt/anaconda3/envs/CDS/lib/python3.9/subprocess.py?line=349'>350</a>\u001b[0m         \u001b[39mtry\u001b[39;00m:\n\u001b[1;32m    <a href='file:///opt/anaconda3/envs/CDS/lib/python3.9/subprocess.py?line=350'>351</a>\u001b[0m             \u001b[39mreturn\u001b[39;00m p\u001b[39m.\u001b[39mwait(timeout\u001b[39m=\u001b[39mtimeout)\n",
      "File \u001b[0;32m/opt/anaconda3/envs/CDS/lib/python3.9/subprocess.py:951\u001b[0m, in \u001b[0;36mPopen.__init__\u001b[0;34m(self, args, bufsize, executable, stdin, stdout, stderr, preexec_fn, close_fds, shell, cwd, env, universal_newlines, startupinfo, creationflags, restore_signals, start_new_session, pass_fds, user, group, extra_groups, encoding, errors, text, umask)\u001b[0m\n\u001b[1;32m    <a href='file:///opt/anaconda3/envs/CDS/lib/python3.9/subprocess.py?line=946'>947</a>\u001b[0m         \u001b[39mif\u001b[39;00m \u001b[39mself\u001b[39m\u001b[39m.\u001b[39mtext_mode:\n\u001b[1;32m    <a href='file:///opt/anaconda3/envs/CDS/lib/python3.9/subprocess.py?line=947'>948</a>\u001b[0m             \u001b[39mself\u001b[39m\u001b[39m.\u001b[39mstderr \u001b[39m=\u001b[39m io\u001b[39m.\u001b[39mTextIOWrapper(\u001b[39mself\u001b[39m\u001b[39m.\u001b[39mstderr,\n\u001b[1;32m    <a href='file:///opt/anaconda3/envs/CDS/lib/python3.9/subprocess.py?line=948'>949</a>\u001b[0m                     encoding\u001b[39m=\u001b[39mencoding, errors\u001b[39m=\u001b[39merrors)\n\u001b[0;32m--> <a href='file:///opt/anaconda3/envs/CDS/lib/python3.9/subprocess.py?line=950'>951</a>\u001b[0m     \u001b[39mself\u001b[39;49m\u001b[39m.\u001b[39;49m_execute_child(args, executable, preexec_fn, close_fds,\n\u001b[1;32m    <a href='file:///opt/anaconda3/envs/CDS/lib/python3.9/subprocess.py?line=951'>952</a>\u001b[0m                         pass_fds, cwd, env,\n\u001b[1;32m    <a href='file:///opt/anaconda3/envs/CDS/lib/python3.9/subprocess.py?line=952'>953</a>\u001b[0m                         startupinfo, creationflags, shell,\n\u001b[1;32m    <a href='file:///opt/anaconda3/envs/CDS/lib/python3.9/subprocess.py?line=953'>954</a>\u001b[0m                         p2cread, p2cwrite,\n\u001b[1;32m    <a href='file:///opt/anaconda3/envs/CDS/lib/python3.9/subprocess.py?line=954'>955</a>\u001b[0m                         c2pread, c2pwrite,\n\u001b[1;32m    <a href='file:///opt/anaconda3/envs/CDS/lib/python3.9/subprocess.py?line=955'>956</a>\u001b[0m                         errread, errwrite,\n\u001b[1;32m    <a href='file:///opt/anaconda3/envs/CDS/lib/python3.9/subprocess.py?line=956'>957</a>\u001b[0m                         restore_signals,\n\u001b[1;32m    <a href='file:///opt/anaconda3/envs/CDS/lib/python3.9/subprocess.py?line=957'>958</a>\u001b[0m                         gid, gids, uid, umask,\n\u001b[1;32m    <a href='file:///opt/anaconda3/envs/CDS/lib/python3.9/subprocess.py?line=958'>959</a>\u001b[0m                         start_new_session)\n\u001b[1;32m    <a href='file:///opt/anaconda3/envs/CDS/lib/python3.9/subprocess.py?line=959'>960</a>\u001b[0m \u001b[39mexcept\u001b[39;00m:\n\u001b[1;32m    <a href='file:///opt/anaconda3/envs/CDS/lib/python3.9/subprocess.py?line=960'>961</a>\u001b[0m     \u001b[39m# Cleanup if the child failed starting.\u001b[39;00m\n\u001b[1;32m    <a href='file:///opt/anaconda3/envs/CDS/lib/python3.9/subprocess.py?line=961'>962</a>\u001b[0m     \u001b[39mfor\u001b[39;00m f \u001b[39min\u001b[39;00m \u001b[39mfilter\u001b[39m(\u001b[39mNone\u001b[39;00m, (\u001b[39mself\u001b[39m\u001b[39m.\u001b[39mstdin, \u001b[39mself\u001b[39m\u001b[39m.\u001b[39mstdout, \u001b[39mself\u001b[39m\u001b[39m.\u001b[39mstderr)):\n",
      "File \u001b[0;32m/opt/anaconda3/envs/CDS/lib/python3.9/subprocess.py:1821\u001b[0m, in \u001b[0;36mPopen._execute_child\u001b[0;34m(self, args, executable, preexec_fn, close_fds, pass_fds, cwd, env, startupinfo, creationflags, shell, p2cread, p2cwrite, c2pread, c2pwrite, errread, errwrite, restore_signals, gid, gids, uid, umask, start_new_session)\u001b[0m\n\u001b[1;32m   <a href='file:///opt/anaconda3/envs/CDS/lib/python3.9/subprocess.py?line=1818'>1819</a>\u001b[0m     \u001b[39mif\u001b[39;00m errno_num \u001b[39m!=\u001b[39m \u001b[39m0\u001b[39m:\n\u001b[1;32m   <a href='file:///opt/anaconda3/envs/CDS/lib/python3.9/subprocess.py?line=1819'>1820</a>\u001b[0m         err_msg \u001b[39m=\u001b[39m os\u001b[39m.\u001b[39mstrerror(errno_num)\n\u001b[0;32m-> <a href='file:///opt/anaconda3/envs/CDS/lib/python3.9/subprocess.py?line=1820'>1821</a>\u001b[0m     \u001b[39mraise\u001b[39;00m child_exception_type(errno_num, err_msg, err_filename)\n\u001b[1;32m   <a href='file:///opt/anaconda3/envs/CDS/lib/python3.9/subprocess.py?line=1821'>1822</a>\u001b[0m \u001b[39mraise\u001b[39;00m child_exception_type(err_msg)\n",
      "\u001b[0;31mPermissionError\u001b[0m: [Errno 13] Permission denied: '/Users/dj'"
     ]
    }
   ],
   "source": [
    "import cdt\n",
    "# cdt.SETTINGS.rpath = '/usr/local/bin/Rscript' # for macOS\n",
    "cdt.SETTINGS.rpath = '/Users/dj'\n",
    "# cdt.SETTINGS.rpath = '/var/folders/9r/pl8035cn4cjb59msrdwcrvhr0000gn/T//RtmpwBGzZi/downloaded_packages'\n",
    "# cdt.SETTINGS.rpath = 'C:/Program Files/R/R-4.0.3/bin/Rscript' # for Windows\n",
    "\n",
    "model_pc = cdt.causality.graph.PC()"
   ]
  },
  {
   "cell_type": "code",
   "execution_count": null,
   "id": "ecbbf0cf",
   "metadata": {},
   "outputs": [],
   "source": []
  }
 ],
 "metadata": {
  "interpreter": {
   "hash": "34d7d7721f0477721de4e9b22685ddef832fd9dea0e23f8e06aa09513dc810b8"
  },
  "kernelspec": {
   "display_name": "cds",
   "language": "python",
   "name": "python3"
  },
  "language_info": {
   "codemirror_mode": {
    "name": "ipython",
    "version": 3
   },
   "file_extension": ".py",
   "mimetype": "text/x-python",
   "name": "python",
   "nbconvert_exporter": "python",
   "pygments_lexer": "ipython3",
   "version": "3.9.7"
  }
 },
 "nbformat": 4,
 "nbformat_minor": 5
}
