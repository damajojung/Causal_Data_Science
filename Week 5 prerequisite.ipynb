{
 "cells": [
  {
   "cell_type": "markdown",
   "id": "7a22840f",
   "metadata": {},
   "source": [
    "# Causal Data Science Week 5 Tutorial Prerequisite\n",
    "\n"
   ]
  },
  {
   "cell_type": "markdown",
   "id": "090c7650",
   "metadata": {},
   "source": [
    "Week 5 tutorial requires installation of CausalDiscoveryToolbox, R and R-related packages. The installation may take some time, so we suggest you to install before the turotial. Following code will install the necessary pakcages and test if the installation works."
   ]
  },
  {
   "cell_type": "markdown",
   "id": "c0511084",
   "metadata": {},
   "source": [
    "First download install R based on your own operation system from:\n",
    "\n",
    "https://cran.r-project.org/\n",
    "\n",
    "You can also install RStudio:\n",
    "\n",
    "https://www.rstudio.com/products/rstudio/#rstudio-desktop"
   ]
  },
  {
   "cell_type": "markdown",
   "id": "40b09d02",
   "metadata": {},
   "source": [
    "Then install cdt package."
   ]
  },
  {
   "cell_type": "code",
   "execution_count": 1,
   "id": "69045d23",
   "metadata": {},
   "outputs": [
    {
     "name": "stdout",
     "output_type": "stream",
     "text": [
      "Requirement already satisfied: cdt in /opt/anaconda3/envs/CDS/lib/python3.9/site-packages (0.5.23)\n",
      "Requirement already satisfied: numpy in /opt/anaconda3/envs/CDS/lib/python3.9/site-packages (from cdt) (1.21.2)\n",
      "Requirement already satisfied: scikit-learn in /opt/anaconda3/envs/CDS/lib/python3.9/site-packages (from cdt) (1.0.2)\n",
      "Requirement already satisfied: pandas in /opt/anaconda3/envs/CDS/lib/python3.9/site-packages (from cdt) (1.3.5)\n",
      "Requirement already satisfied: networkx in /opt/anaconda3/envs/CDS/lib/python3.9/site-packages (from cdt) (2.6.3)\n",
      "Requirement already satisfied: skrebate in /opt/anaconda3/envs/CDS/lib/python3.9/site-packages (from cdt) (0.62)\n",
      "Requirement already satisfied: scipy in /opt/anaconda3/envs/CDS/lib/python3.9/site-packages (from cdt) (1.8.0)\n",
      "Requirement already satisfied: GPUtil in /opt/anaconda3/envs/CDS/lib/python3.9/site-packages (from cdt) (1.4.0)\n",
      "Requirement already satisfied: tqdm in /opt/anaconda3/envs/CDS/lib/python3.9/site-packages (from cdt) (4.63.0)\n",
      "Requirement already satisfied: joblib in /opt/anaconda3/envs/CDS/lib/python3.9/site-packages (from cdt) (1.1.0)\n",
      "Requirement already satisfied: statsmodels in /opt/anaconda3/envs/CDS/lib/python3.9/site-packages (from cdt) (0.13.2)\n",
      "Requirement already satisfied: requests in /opt/anaconda3/envs/CDS/lib/python3.9/site-packages (from cdt) (2.27.1)\n",
      "Requirement already satisfied: python-dateutil>=2.7.3 in /opt/anaconda3/envs/CDS/lib/python3.9/site-packages (from pandas->cdt) (2.8.2)\n",
      "Requirement already satisfied: pytz>=2017.3 in /opt/anaconda3/envs/CDS/lib/python3.9/site-packages (from pandas->cdt) (2021.3)\n",
      "Requirement already satisfied: six>=1.5 in /opt/anaconda3/envs/CDS/lib/python3.9/site-packages (from python-dateutil>=2.7.3->pandas->cdt) (1.16.0)\n",
      "Requirement already satisfied: urllib3<1.27,>=1.21.1 in /opt/anaconda3/envs/CDS/lib/python3.9/site-packages (from requests->cdt) (1.26.8)\n",
      "Requirement already satisfied: idna<4,>=2.5 in /opt/anaconda3/envs/CDS/lib/python3.9/site-packages (from requests->cdt) (3.3)\n",
      "Requirement already satisfied: charset-normalizer~=2.0.0 in /opt/anaconda3/envs/CDS/lib/python3.9/site-packages (from requests->cdt) (2.0.12)\n",
      "Requirement already satisfied: certifi>=2017.4.17 in /opt/anaconda3/envs/CDS/lib/python3.9/site-packages (from requests->cdt) (2021.10.8)\n",
      "Requirement already satisfied: threadpoolctl>=2.0.0 in /opt/anaconda3/envs/CDS/lib/python3.9/site-packages (from scikit-learn->cdt) (3.1.0)\n",
      "Requirement already satisfied: patsy>=0.5.2 in /opt/anaconda3/envs/CDS/lib/python3.9/site-packages (from statsmodels->cdt) (0.5.2)\n",
      "Requirement already satisfied: packaging>=21.3 in /opt/anaconda3/envs/CDS/lib/python3.9/site-packages (from statsmodels->cdt) (21.3)\n",
      "Requirement already satisfied: pyparsing!=3.0.5,>=2.0.2 in /opt/anaconda3/envs/CDS/lib/python3.9/site-packages (from packaging>=21.3->statsmodels->cdt) (3.0.4)\n",
      "Collecting package metadata (current_repodata.json): done\n",
      "Solving environment: done\n",
      "\n",
      "\n",
      "==> WARNING: A newer version of conda exists. <==\n",
      "  current version: 4.10.3\n",
      "  latest version: 4.11.0\n",
      "\n",
      "Please update conda by running\n",
      "\n",
      "    $ conda update -n base -c defaults conda\n",
      "\n",
      "\n",
      "\n",
      "# All requested packages already installed.\n",
      "\n"
     ]
    }
   ],
   "source": [
    "!pip install cdt\n",
    "!conda install r-RCurl"
   ]
  },
  {
   "cell_type": "markdown",
   "id": "d2c45b91",
   "metadata": {},
   "source": [
    "Install packages ```pcalg```, ```kpcalg```, ```devtools``` and \n",
    "a variation of ```RCIT``` package from Diviyan-Kalainathan/RCIT\n",
    "\n",
    "Use following commands in R (or RStudio if you have) only \n",
    "\n",
    "```\n",
    "install.packages(\"pcalg\")\n",
    "install.packages(\"kpcalg\")\n",
    "install.packages(\"devtools\")\n",
    "library(devtools)\n",
    "install_github(\"Diviyan-Kalainathan/RCIT\")\n",
    "```"
   ]
  },
  {
   "cell_type": "markdown",
   "id": "c41fb2b7",
   "metadata": {},
   "source": [
    "After installation, run the following cell to test. You should not receive any errors if everything has been installed correctly."
   ]
  },
  {
   "cell_type": "code",
   "execution_count": 1,
   "id": "94232360",
   "metadata": {},
   "outputs": [
    {
     "ename": "ModuleNotFoundError",
     "evalue": "No module named 'torch'",
     "output_type": "error",
     "traceback": [
      "\u001b[0;31m---------------------------------------------------------------------------\u001b[0m",
      "\u001b[0;31mModuleNotFoundError\u001b[0m                       Traceback (most recent call last)",
      "\u001b[1;32m/Users/dj/Documents/GitHub/Causal_Data_Science/Week 5 prerequisite.ipynb Cell 8'\u001b[0m in \u001b[0;36m<module>\u001b[0;34m\u001b[0m\n\u001b[0;32m----> <a href='vscode-notebook-cell:/Users/dj/Documents/GitHub/Causal_Data_Science/Week%205%20prerequisite.ipynb#ch0000007?line=0'>1</a>\u001b[0m \u001b[39mimport\u001b[39;00m \u001b[39mcdt\u001b[39;00m\n\u001b[1;32m      <a href='vscode-notebook-cell:/Users/dj/Documents/GitHub/Causal_Data_Science/Week%205%20prerequisite.ipynb#ch0000007?line=1'>2</a>\u001b[0m cdt\u001b[39m.\u001b[39mSETTINGS\u001b[39m.\u001b[39mrpath \u001b[39m=\u001b[39m \u001b[39m'\u001b[39m\u001b[39m/usr/local/bin/Rscript\u001b[39m\u001b[39m'\u001b[39m \u001b[39m# for macOS\u001b[39;00m\n\u001b[1;32m      <a href='vscode-notebook-cell:/Users/dj/Documents/GitHub/Causal_Data_Science/Week%205%20prerequisite.ipynb#ch0000007?line=2'>3</a>\u001b[0m \u001b[39m# cdt.SETTINGS.rpath = '/var/folders/9r/pl8035cn4cjb59msrdwcrvhr0000gn/T//RtmpwBGzZi/downloaded_packages'\u001b[39;00m\n\u001b[1;32m      <a href='vscode-notebook-cell:/Users/dj/Documents/GitHub/Causal_Data_Science/Week%205%20prerequisite.ipynb#ch0000007?line=3'>4</a>\u001b[0m \u001b[39m# cdt.SETTINGS.rpath = 'C:/Program Files/R/R-4.0.3/bin/Rscript' # for Windows\u001b[39;00m\n",
      "File \u001b[0;32m/opt/anaconda3/envs/CDS/lib/python3.9/site-packages/cdt/__init__.py:28\u001b[0m, in \u001b[0;36m<module>\u001b[0;34m\u001b[0m\n\u001b[1;32m      <a href='file:///opt/anaconda3/envs/CDS/lib/python3.9/site-packages/cdt/__init__.py?line=0'>1</a>\u001b[0m \u001b[39m\"\"\"The Causal Discovery Toolbox contains various methods for graph structure recovery and causal inference.\u001b[39;00m\n\u001b[1;32m      <a href='file:///opt/anaconda3/envs/CDS/lib/python3.9/site-packages/cdt/__init__.py?line=1'>2</a>\u001b[0m \n\u001b[1;32m      <a href='file:///opt/anaconda3/envs/CDS/lib/python3.9/site-packages/cdt/__init__.py?line=2'>3</a>\u001b[0m \u001b[39mIt is CUDA-compatible for the most computationally expensive algorithms.\u001b[39;00m\n\u001b[0;32m   (...)\u001b[0m\n\u001b[1;32m     <a href='file:///opt/anaconda3/envs/CDS/lib/python3.9/site-packages/cdt/__init__.py?line=24'>25</a>\u001b[0m \u001b[39m.. SOFTWARE.\u001b[39;00m\n\u001b[1;32m     <a href='file:///opt/anaconda3/envs/CDS/lib/python3.9/site-packages/cdt/__init__.py?line=25'>26</a>\u001b[0m \u001b[39m\"\"\"\u001b[39;00m\n\u001b[0;32m---> <a href='file:///opt/anaconda3/envs/CDS/lib/python3.9/site-packages/cdt/__init__.py?line=27'>28</a>\u001b[0m \u001b[39mimport\u001b[39;00m \u001b[39mcdt\u001b[39;00m\u001b[39m.\u001b[39;00m\u001b[39mcausality\u001b[39;00m\n\u001b[1;32m     <a href='file:///opt/anaconda3/envs/CDS/lib/python3.9/site-packages/cdt/__init__.py?line=28'>29</a>\u001b[0m \u001b[39mimport\u001b[39;00m \u001b[39mcdt\u001b[39;00m\u001b[39m.\u001b[39;00m\u001b[39mindependence\u001b[39;00m\n\u001b[1;32m     <a href='file:///opt/anaconda3/envs/CDS/lib/python3.9/site-packages/cdt/__init__.py?line=29'>30</a>\u001b[0m \u001b[39mimport\u001b[39;00m \u001b[39mcdt\u001b[39;00m\u001b[39m.\u001b[39;00m\u001b[39mdata\u001b[39;00m\n",
      "File \u001b[0;32m/opt/anaconda3/envs/CDS/lib/python3.9/site-packages/cdt/causality/__init__.py:24\u001b[0m, in \u001b[0;36m<module>\u001b[0;34m\u001b[0m\n\u001b[1;32m      <a href='file:///opt/anaconda3/envs/CDS/lib/python3.9/site-packages/cdt/causality/__init__.py?line=0'>1</a>\u001b[0m \u001b[39m\"\"\"\u001b[39;00m\n\u001b[1;32m      <a href='file:///opt/anaconda3/envs/CDS/lib/python3.9/site-packages/cdt/causality/__init__.py?line=1'>2</a>\u001b[0m \u001b[39m.. MIT License\u001b[39;00m\n\u001b[1;32m      <a href='file:///opt/anaconda3/envs/CDS/lib/python3.9/site-packages/cdt/causality/__init__.py?line=2'>3</a>\u001b[0m \u001b[39m..\u001b[39;00m\n\u001b[0;32m   (...)\u001b[0m\n\u001b[1;32m     <a href='file:///opt/anaconda3/envs/CDS/lib/python3.9/site-packages/cdt/causality/__init__.py?line=21'>22</a>\u001b[0m \u001b[39m.. SOFTWARE.\u001b[39;00m\n\u001b[1;32m     <a href='file:///opt/anaconda3/envs/CDS/lib/python3.9/site-packages/cdt/causality/__init__.py?line=22'>23</a>\u001b[0m \u001b[39m\"\"\"\u001b[39;00m\n\u001b[0;32m---> <a href='file:///opt/anaconda3/envs/CDS/lib/python3.9/site-packages/cdt/causality/__init__.py?line=23'>24</a>\u001b[0m \u001b[39mfrom\u001b[39;00m \u001b[39m.\u001b[39;00m\u001b[39mpairwise\u001b[39;00m \u001b[39mimport\u001b[39;00m \u001b[39m__init__\u001b[39m\n\u001b[1;32m     <a href='file:///opt/anaconda3/envs/CDS/lib/python3.9/site-packages/cdt/causality/__init__.py?line=24'>25</a>\u001b[0m \u001b[39mfrom\u001b[39;00m \u001b[39m.\u001b[39;00m\u001b[39mgraph\u001b[39;00m \u001b[39mimport\u001b[39;00m \u001b[39m__init__\u001b[39m\n",
      "File \u001b[0;32m/opt/anaconda3/envs/CDS/lib/python3.9/site-packages/cdt/causality/pairwise/__init__.py:24\u001b[0m, in \u001b[0;36m<module>\u001b[0;34m\u001b[0m\n\u001b[1;32m      <a href='file:///opt/anaconda3/envs/CDS/lib/python3.9/site-packages/cdt/causality/pairwise/__init__.py?line=0'>1</a>\u001b[0m \u001b[39m\"\"\"\u001b[39;00m\n\u001b[1;32m      <a href='file:///opt/anaconda3/envs/CDS/lib/python3.9/site-packages/cdt/causality/pairwise/__init__.py?line=1'>2</a>\u001b[0m \u001b[39m.. MIT License\u001b[39;00m\n\u001b[1;32m      <a href='file:///opt/anaconda3/envs/CDS/lib/python3.9/site-packages/cdt/causality/pairwise/__init__.py?line=2'>3</a>\u001b[0m \u001b[39m..\u001b[39;00m\n\u001b[0;32m   (...)\u001b[0m\n\u001b[1;32m     <a href='file:///opt/anaconda3/envs/CDS/lib/python3.9/site-packages/cdt/causality/pairwise/__init__.py?line=21'>22</a>\u001b[0m \u001b[39m.. SOFTWARE.\u001b[39;00m\n\u001b[1;32m     <a href='file:///opt/anaconda3/envs/CDS/lib/python3.9/site-packages/cdt/causality/pairwise/__init__.py?line=22'>23</a>\u001b[0m \u001b[39m\"\"\"\u001b[39;00m\n\u001b[0;32m---> <a href='file:///opt/anaconda3/envs/CDS/lib/python3.9/site-packages/cdt/causality/pairwise/__init__.py?line=23'>24</a>\u001b[0m \u001b[39mfrom\u001b[39;00m \u001b[39m.\u001b[39;00m\u001b[39mANM\u001b[39;00m \u001b[39mimport\u001b[39;00m ANM\n\u001b[1;32m     <a href='file:///opt/anaconda3/envs/CDS/lib/python3.9/site-packages/cdt/causality/pairwise/__init__.py?line=24'>25</a>\u001b[0m \u001b[39mfrom\u001b[39;00m \u001b[39m.\u001b[39;00m\u001b[39mCDS\u001b[39;00m \u001b[39mimport\u001b[39;00m CDS\n\u001b[1;32m     <a href='file:///opt/anaconda3/envs/CDS/lib/python3.9/site-packages/cdt/causality/pairwise/__init__.py?line=25'>26</a>\u001b[0m \u001b[39mfrom\u001b[39;00m \u001b[39m.\u001b[39;00m\u001b[39mJarfo\u001b[39;00m \u001b[39mimport\u001b[39;00m Jarfo\n",
      "File \u001b[0;32m/opt/anaconda3/envs/CDS/lib/python3.9/site-packages/cdt/causality/pairwise/ANM.py:31\u001b[0m, in \u001b[0;36m<module>\u001b[0;34m\u001b[0m\n\u001b[1;32m     <a href='file:///opt/anaconda3/envs/CDS/lib/python3.9/site-packages/cdt/causality/pairwise/ANM.py?line=28'>29</a>\u001b[0m \u001b[39mfrom\u001b[39;00m \u001b[39msklearn\u001b[39;00m\u001b[39m.\u001b[39;00m\u001b[39mgaussian_process\u001b[39;00m \u001b[39mimport\u001b[39;00m GaussianProcessRegressor\n\u001b[1;32m     <a href='file:///opt/anaconda3/envs/CDS/lib/python3.9/site-packages/cdt/causality/pairwise/ANM.py?line=29'>30</a>\u001b[0m \u001b[39mfrom\u001b[39;00m \u001b[39msklearn\u001b[39;00m\u001b[39m.\u001b[39;00m\u001b[39mpreprocessing\u001b[39;00m \u001b[39mimport\u001b[39;00m scale\n\u001b[0;32m---> <a href='file:///opt/anaconda3/envs/CDS/lib/python3.9/site-packages/cdt/causality/pairwise/ANM.py?line=30'>31</a>\u001b[0m \u001b[39mfrom\u001b[39;00m \u001b[39m.\u001b[39;00m\u001b[39mmodel\u001b[39;00m \u001b[39mimport\u001b[39;00m PairwiseModel\n\u001b[1;32m     <a href='file:///opt/anaconda3/envs/CDS/lib/python3.9/site-packages/cdt/causality/pairwise/ANM.py?line=31'>32</a>\u001b[0m \u001b[39mimport\u001b[39;00m \u001b[39mnumpy\u001b[39;00m \u001b[39mas\u001b[39;00m \u001b[39mnp\u001b[39;00m\n\u001b[1;32m     <a href='file:///opt/anaconda3/envs/CDS/lib/python3.9/site-packages/cdt/causality/pairwise/ANM.py?line=34'>35</a>\u001b[0m \u001b[39mdef\u001b[39;00m \u001b[39mrbf_dot2\u001b[39m(p1, p2, deg):\n",
      "File \u001b[0;32m/opt/anaconda3/envs/CDS/lib/python3.9/site-packages/cdt/causality/pairwise/model.py:31\u001b[0m, in \u001b[0;36m<module>\u001b[0;34m\u001b[0m\n\u001b[1;32m     <a href='file:///opt/anaconda3/envs/CDS/lib/python3.9/site-packages/cdt/causality/pairwise/model.py?line=28'>29</a>\u001b[0m \u001b[39mfrom\u001b[39;00m \u001b[39msklearn\u001b[39;00m\u001b[39m.\u001b[39;00m\u001b[39mpreprocessing\u001b[39;00m \u001b[39mimport\u001b[39;00m scale\n\u001b[1;32m     <a href='file:///opt/anaconda3/envs/CDS/lib/python3.9/site-packages/cdt/causality/pairwise/model.py?line=29'>30</a>\u001b[0m \u001b[39mfrom\u001b[39;00m \u001b[39mpandas\u001b[39;00m \u001b[39mimport\u001b[39;00m DataFrame, Series\n\u001b[0;32m---> <a href='file:///opt/anaconda3/envs/CDS/lib/python3.9/site-packages/cdt/causality/pairwise/model.py?line=30'>31</a>\u001b[0m \u001b[39mfrom\u001b[39;00m \u001b[39m.\u001b[39;00m\u001b[39m.\u001b[39;00m\u001b[39m.\u001b[39;00m\u001b[39mutils\u001b[39;00m\u001b[39m.\u001b[39;00m\u001b[39mSettings\u001b[39;00m \u001b[39mimport\u001b[39;00m SETTINGS\n\u001b[1;32m     <a href='file:///opt/anaconda3/envs/CDS/lib/python3.9/site-packages/cdt/causality/pairwise/model.py?line=33'>34</a>\u001b[0m \u001b[39mclass\u001b[39;00m \u001b[39mPairwiseModel\u001b[39;00m(\u001b[39mobject\u001b[39m):\n\u001b[1;32m     <a href='file:///opt/anaconda3/envs/CDS/lib/python3.9/site-packages/cdt/causality/pairwise/model.py?line=34'>35</a>\u001b[0m     \u001b[39m\"\"\"Base class for all pairwise causal inference models\u001b[39;00m\n\u001b[1;32m     <a href='file:///opt/anaconda3/envs/CDS/lib/python3.9/site-packages/cdt/causality/pairwise/model.py?line=35'>36</a>\u001b[0m \n\u001b[1;32m     <a href='file:///opt/anaconda3/envs/CDS/lib/python3.9/site-packages/cdt/causality/pairwise/model.py?line=36'>37</a>\u001b[0m \u001b[39m    Usage for undirected/directed graphs and CEPC df format.\u001b[39;00m\n\u001b[1;32m     <a href='file:///opt/anaconda3/envs/CDS/lib/python3.9/site-packages/cdt/causality/pairwise/model.py?line=37'>38</a>\u001b[0m \u001b[39m    \"\"\"\u001b[39;00m\n",
      "File \u001b[0;32m/opt/anaconda3/envs/CDS/lib/python3.9/site-packages/cdt/utils/__init__.py:24\u001b[0m, in \u001b[0;36m<module>\u001b[0;34m\u001b[0m\n\u001b[1;32m      <a href='file:///opt/anaconda3/envs/CDS/lib/python3.9/site-packages/cdt/utils/__init__.py?line=0'>1</a>\u001b[0m \u001b[39m\"\"\"\u001b[39;00m\n\u001b[1;32m      <a href='file:///opt/anaconda3/envs/CDS/lib/python3.9/site-packages/cdt/utils/__init__.py?line=1'>2</a>\u001b[0m \u001b[39m.. MIT License\u001b[39;00m\n\u001b[1;32m      <a href='file:///opt/anaconda3/envs/CDS/lib/python3.9/site-packages/cdt/utils/__init__.py?line=2'>3</a>\u001b[0m \u001b[39m..\u001b[39;00m\n\u001b[0;32m   (...)\u001b[0m\n\u001b[1;32m     <a href='file:///opt/anaconda3/envs/CDS/lib/python3.9/site-packages/cdt/utils/__init__.py?line=21'>22</a>\u001b[0m \u001b[39m.. SOFTWARE.\u001b[39;00m\n\u001b[1;32m     <a href='file:///opt/anaconda3/envs/CDS/lib/python3.9/site-packages/cdt/utils/__init__.py?line=22'>23</a>\u001b[0m \u001b[39m\"\"\"\u001b[39;00m\n\u001b[0;32m---> <a href='file:///opt/anaconda3/envs/CDS/lib/python3.9/site-packages/cdt/utils/__init__.py?line=23'>24</a>\u001b[0m \u001b[39mfrom\u001b[39;00m \u001b[39m.\u001b[39;00m\u001b[39mio\u001b[39;00m \u001b[39mimport\u001b[39;00m (read_causal_pairs,\n\u001b[1;32m     <a href='file:///opt/anaconda3/envs/CDS/lib/python3.9/site-packages/cdt/utils/__init__.py?line=24'>25</a>\u001b[0m                  read_adjacency_matrix,\n\u001b[1;32m     <a href='file:///opt/anaconda3/envs/CDS/lib/python3.9/site-packages/cdt/utils/__init__.py?line=25'>26</a>\u001b[0m                  read_list_edges)\n\u001b[1;32m     <a href='file:///opt/anaconda3/envs/CDS/lib/python3.9/site-packages/cdt/utils/__init__.py?line=27'>28</a>\u001b[0m \u001b[39mfrom\u001b[39;00m \u001b[39m.\u001b[39;00m\u001b[39mgraph\u001b[39;00m \u001b[39mimport\u001b[39;00m (remove_indirect_links,\n\u001b[1;32m     <a href='file:///opt/anaconda3/envs/CDS/lib/python3.9/site-packages/cdt/utils/__init__.py?line=28'>29</a>\u001b[0m                     dagify_min_edge,\n\u001b[1;32m     <a href='file:///opt/anaconda3/envs/CDS/lib/python3.9/site-packages/cdt/utils/__init__.py?line=29'>30</a>\u001b[0m                     clr,\n\u001b[1;32m     <a href='file:///opt/anaconda3/envs/CDS/lib/python3.9/site-packages/cdt/utils/__init__.py?line=30'>31</a>\u001b[0m                     aracne,\n\u001b[1;32m     <a href='file:///opt/anaconda3/envs/CDS/lib/python3.9/site-packages/cdt/utils/__init__.py?line=31'>32</a>\u001b[0m                     network_deconvolution)\n\u001b[1;32m     <a href='file:///opt/anaconda3/envs/CDS/lib/python3.9/site-packages/cdt/utils/__init__.py?line=33'>34</a>\u001b[0m \u001b[39mfrom\u001b[39;00m \u001b[39m.\u001b[39;00m\u001b[39mloss\u001b[39;00m \u001b[39mimport\u001b[39;00m (TTestCriterion,\n\u001b[1;32m     <a href='file:///opt/anaconda3/envs/CDS/lib/python3.9/site-packages/cdt/utils/__init__.py?line=34'>35</a>\u001b[0m                    notears_constr,\n\u001b[1;32m     <a href='file:///opt/anaconda3/envs/CDS/lib/python3.9/site-packages/cdt/utils/__init__.py?line=35'>36</a>\u001b[0m                    MMDloss, MomentMatchingLoss)\n",
      "File \u001b[0;32m/opt/anaconda3/envs/CDS/lib/python3.9/site-packages/cdt/utils/io.py:32\u001b[0m, in \u001b[0;36m<module>\u001b[0;34m\u001b[0m\n\u001b[1;32m     <a href='file:///opt/anaconda3/envs/CDS/lib/python3.9/site-packages/cdt/utils/io.py?line=29'>30</a>\u001b[0m \u001b[39mfrom\u001b[39;00m \u001b[39msklearn\u001b[39;00m\u001b[39m.\u001b[39;00m\u001b[39mpreprocessing\u001b[39;00m \u001b[39mimport\u001b[39;00m scale \u001b[39mas\u001b[39;00m scaler\n\u001b[1;32m     <a href='file:///opt/anaconda3/envs/CDS/lib/python3.9/site-packages/cdt/utils/io.py?line=30'>31</a>\u001b[0m \u001b[39mimport\u001b[39;00m \u001b[39mnetworkx\u001b[39;00m \u001b[39mas\u001b[39;00m \u001b[39mnx\u001b[39;00m\n\u001b[0;32m---> <a href='file:///opt/anaconda3/envs/CDS/lib/python3.9/site-packages/cdt/utils/io.py?line=31'>32</a>\u001b[0m \u001b[39mfrom\u001b[39;00m \u001b[39mtorch\u001b[39;00m\u001b[39m.\u001b[39;00m\u001b[39mutils\u001b[39;00m\u001b[39m.\u001b[39;00m\u001b[39mdata\u001b[39;00m \u001b[39mimport\u001b[39;00m Dataset\n\u001b[1;32m     <a href='file:///opt/anaconda3/envs/CDS/lib/python3.9/site-packages/cdt/utils/io.py?line=32'>33</a>\u001b[0m \u001b[39mimport\u001b[39;00m \u001b[39mtorch\u001b[39;00m \u001b[39mas\u001b[39;00m \u001b[39mth\u001b[39;00m\n\u001b[1;32m     <a href='file:///opt/anaconda3/envs/CDS/lib/python3.9/site-packages/cdt/utils/io.py?line=33'>34</a>\u001b[0m \u001b[39mfrom\u001b[39;00m \u001b[39mcollections\u001b[39;00m \u001b[39mimport\u001b[39;00m OrderedDict\n",
      "\u001b[0;31mModuleNotFoundError\u001b[0m: No module named 'torch'"
     ]
    }
   ],
   "source": [
    "import cdt\n",
    "cdt.SETTINGS.rpath = '/usr/local/bin/Rscript' # for macOS\n",
    "# cdt.SETTINGS.rpath = '/var/folders/9r/pl8035cn4cjb59msrdwcrvhr0000gn/T//RtmpwBGzZi/downloaded_packages'\n",
    "# cdt.SETTINGS.rpath = 'C:/Program Files/R/R-4.0.3/bin/Rscript' # for Windows\n",
    "\n",
    "model_pc = cdt.causality.graph.PC()"
   ]
  },
  {
   "cell_type": "code",
   "execution_count": null,
   "id": "dfd6eede",
   "metadata": {},
   "outputs": [],
   "source": []
  }
 ],
 "metadata": {
  "interpreter": {
   "hash": "34d7d7721f0477721de4e9b22685ddef832fd9dea0e23f8e06aa09513dc810b8"
  },
  "kernelspec": {
   "display_name": "cds",
   "language": "python",
   "name": "python3"
  },
  "language_info": {
   "codemirror_mode": {
    "name": "ipython",
    "version": 3
   },
   "file_extension": ".py",
   "mimetype": "text/x-python",
   "name": "python",
   "nbconvert_exporter": "python",
   "pygments_lexer": "ipython3",
   "version": "3.9.7"
  }
 },
 "nbformat": 4,
 "nbformat_minor": 5
}
