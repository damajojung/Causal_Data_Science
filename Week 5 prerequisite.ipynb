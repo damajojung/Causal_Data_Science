{
 "cells": [
  {
   "cell_type": "markdown",
   "id": "7a22840f",
   "metadata": {},
   "source": [
    "# Causal Data Science Week 5 Tutorial Prerequisite\n",
    "\n"
   ]
  },
  {
   "cell_type": "markdown",
   "id": "090c7650",
   "metadata": {},
   "source": [
    "Week 5 tutorial requires installation of CausalDiscoveryToolbox, R and R-related packages. The installation may take some time, so we suggest you to install before the turotial. Following code will install the necessary pakcages and test if the installation works."
   ]
  },
  {
   "cell_type": "markdown",
   "id": "c0511084",
   "metadata": {},
   "source": [
    "First download install R based on your own operation system from:\n",
    "\n",
    "https://cran.r-project.org/\n",
    "\n",
    "You can also install RStudio:\n",
    "\n",
    "https://www.rstudio.com/products/rstudio/#rstudio-desktop"
   ]
  },
  {
   "cell_type": "markdown",
   "id": "40b09d02",
   "metadata": {},
   "source": [
    "Then install cdt package."
   ]
  },
  {
   "cell_type": "code",
   "execution_count": 3,
   "id": "69045d23",
   "metadata": {},
   "outputs": [
    {
     "name": "stdout",
     "output_type": "stream",
     "text": [
      "Collecting package metadata (current_repodata.json): done\n",
      "Solving environment: done\n",
      "\n",
      "\n",
      "==> WARNING: A newer version of conda exists. <==\n",
      "  current version: 4.10.3\n",
      "  latest version: 4.11.0\n",
      "\n",
      "Please update conda by running\n",
      "\n",
      "    $ conda update -n base -c defaults conda\n",
      "\n",
      "\n",
      "\n",
      "# All requested packages already installed.\n",
      "\n"
     ]
    }
   ],
   "source": [
    "# !pip install cdt\n",
    "!conda install r-RCurl"
   ]
  },
  {
   "cell_type": "markdown",
   "id": "d2c45b91",
   "metadata": {},
   "source": [
    "Install packages ```pcalg```, ```kpcalg```, ```devtools``` and \n",
    "a variation of ```RCIT``` package from Diviyan-Kalainathan/RCIT\n",
    "\n",
    "Use following commands in R (or RStudio if you have) only \n",
    "\n",
    "```\n",
    "install.packages(\"pcalg\")\n",
    "install.packages(\"kpcalg\")\n",
    "install.packages(\"devtools\")\n",
    "library(devtools)\n",
    "install_github(\"Diviyan-Kalainathan/RCIT\")\n",
    "```"
   ]
  },
  {
   "cell_type": "markdown",
   "id": "c41fb2b7",
   "metadata": {},
   "source": [
    "After installation, run the following cell to test. You should not receive any errors if everything has been installed correctly."
   ]
  },
  {
   "cell_type": "code",
   "execution_count": 2,
   "id": "94232360",
   "metadata": {},
   "outputs": [],
   "source": [
    "import cdt\n",
    "#cdt.SETTINGS.rpath = '/usr/local/bin/Rscript' # for macOS\n",
    "cdt.SETTINGS.rpath = '/Library/Frameworks/R.framework/Resources/bin/Rscript'\n",
    "# cdt.SETTINGS.rpath = '/var/folders/9r/pl8035cn4cjb59msrdwcrvhr0000gn/T//RtmpwBGzZi/downloaded_packages'\n",
    "\n",
    "model_pc = cdt.causality.graph.PC()"
   ]
  },
  {
   "cell_type": "code",
   "execution_count": null,
   "id": "ecbbf0cf",
   "metadata": {},
   "outputs": [],
   "source": []
  }
 ],
 "metadata": {
  "interpreter": {
   "hash": "34d7d7721f0477721de4e9b22685ddef832fd9dea0e23f8e06aa09513dc810b8"
  },
  "kernelspec": {
   "display_name": "cds",
   "language": "python",
   "name": "python3"
  },
  "language_info": {
   "codemirror_mode": {
    "name": "ipython",
    "version": 3
   },
   "file_extension": ".py",
   "mimetype": "text/x-python",
   "name": "python",
   "nbconvert_exporter": "python",
   "pygments_lexer": "ipython3",
   "version": "3.9.7"
  }
 },
 "nbformat": 4,
 "nbformat_minor": 5
}
