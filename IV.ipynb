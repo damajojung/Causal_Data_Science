{
 "cells": [
  {
   "cell_type": "code",
   "execution_count": 5,
   "id": "7ddafba3-6ea6-4c8f-96d7-b8d041f609f2",
   "metadata": {},
   "outputs": [],
   "source": [
    "import numpy as np\n",
    "from numpy.random import randn\n",
    "import pandas as pd\n",
    "import seaborn as sns\n",
    "from sklearn.linear_model import LinearRegression\n",
    "\n",
    "# We need a lot of samples to plot the conditional distribution:\n",
    "\n",
    "def simulate(s, alpha, beta, gamma, delta, n_samples):   \n",
    "    np.random.default_rng(seed=s)\n",
    "    I = randn(n_samples)\n",
    "    W = randn(n_samples)\n",
    "    X = alpha * I + gamma * W + randn(n_samples)\n",
    "    Y = beta * X + delta * W + randn(n_samples)\n",
    "    return pd.DataFrame({ \"I\": I, \"W\": W, \"X\": X,\"Y\":Y})\n",
    "\n",
    "def linear_coeff(X,Y):\n",
    "    linear_regressor = LinearRegression() \n",
    "    linear_regressor.fit(X, Y)\n",
    "    return linear_regressor.coef_\n"
   ]
  },
  {
   "cell_type": "markdown",
   "id": "70cb767a-1c47-4660-9ac2-c18a62b3b1e3",
   "metadata": {},
   "source": [
    "For given values of alpha, beta, gamma and delta, we can see that the standard regression is always wrong in the prediction of beta, while the Instrumental variable method and the Two Stage Least Squares are close to the true value of beta. Try changing the alpha, beta, gamma and delta parameters and see how the linear regression coefficient varies. What happens if gamma = 0?"
   ]
  },
  {
   "cell_type": "code",
   "execution_count": 34,
   "id": "31e49c3d-b586-43f9-a147-9092802b9aef",
   "metadata": {},
   "outputs": [
    {
     "name": "stdout",
     "output_type": "stream",
     "text": [
      "Estimated beta from linear regression:  2.3552317006216557\n",
      "Theoretical beta from linear regression:  2.342857142857143\n",
      "Beta from Instrumental variable method:  1.9903336922932124\n",
      "True beta:  2\n"
     ]
    }
   ],
   "source": [
    "alpha=5\n",
    "beta=2\n",
    "gamma=3\n",
    "delta=4\n",
    "\n",
    "\n",
    "df = simulate(1, alpha, beta, gamma, delta, 1000)\n",
    "Y = df[\"Y\"].values.reshape(-1, 1)\n",
    "X = df[\"X\"].values.reshape(-1, 1)\n",
    "I = df[\"I\"].values.reshape(-1, 1)\n",
    "\n",
    "# Linear coefficient vs estimated beta^{OLS} vs real beta\n",
    "print (\"Estimated beta from linear regression: \", linear_coeff(X,Y)[:,0][0])\n",
    "beta_ols = beta + delta*gamma/(alpha**2+gamma**2+1)\n",
    "print(\"Theoretical beta from linear regression: \", beta_ols)\n",
    "beta_IV = np.cov(I.T, Y.T)[1,0]/np.cov(I.T, X.T)[1,0]\n",
    "print(\"Beta from Instrumental variable method: \", beta_IV)\n",
    "print(\"True beta: \", beta)"
   ]
  },
  {
   "cell_type": "code",
   "execution_count": 35,
   "id": "45ee049d-afc0-45c0-aa78-78d2a5fae35e",
   "metadata": {},
   "outputs": [
    {
     "name": "stdout",
     "output_type": "stream",
     "text": [
      "Alpha_hat [[4.95393781]]\n",
      "True alpha 5\n",
      "Beta from Two Stage Least Squares:  [[1.99033369]]\n"
     ]
    }
   ],
   "source": [
    "# Simplified 2SLS\n",
    "\n",
    "# Step 1: regress X on I \n",
    "alpha_hat = linear_coeff(I, X)\n",
    "print(\"Alpha_hat\", alpha_hat)\n",
    "print(\"True alpha\", alpha)\n",
    "# Step 2: create X_hat\n",
    "X_hat = alpha_hat * I\n",
    "# Step 3: regress Y on X_hat\n",
    "beta_2SLS = linear_coeff(X_hat, Y)\n",
    "print(\"Beta from Two Stage Least Squares: \", beta_2SLS)"
   ]
  },
  {
   "cell_type": "markdown",
   "id": "4864ef70-7a89-4bad-b6fe-41aaa12a96a3",
   "metadata": {},
   "source": [
    "We can now see that even if the estimated beta with Instrumental Variables and Two Stage Least Squares is unbiased, for small values of alpha, it's variance is usually larger than the variance of the OLS estimator. This is true even in settings with a lot of data (e.g. 10k). Try changing alpha to a larger number (e.g. 100) and see how the variance changes."
   ]
  },
  {
   "cell_type": "code",
   "execution_count": 27,
   "id": "9145411c-ddf3-475e-91c1-aee99069cf0c",
   "metadata": {},
   "outputs": [],
   "source": [
    "beta_ols_list = []\n",
    "beta_IV_list = []\n",
    "beta_2SLS_list = []\n",
    "\n",
    "alpha=5\n",
    "beta=2\n",
    "gamma=3\n",
    "delta=4\n",
    "\n",
    "\n",
    "def run_comparison(nsamples):\n",
    "    for i in range(1,100):\n",
    "        df = simulate(1, alpha, beta, gamma, delta, nsamples)\n",
    "        Y = df[\"Y\"].values.reshape(-1, 1)\n",
    "        X = df[\"X\"].values.reshape(-1, 1)\n",
    "        I = df[\"I\"].values.reshape(-1, 1)\n",
    "        beta_ols_list.append(linear_coeff(X,Y)[:,0][0])\n",
    "        beta_IV_list.append(np.cov(I.T, Y.T)[1,0]/np.cov(I.T, X.T)[1,0])\n",
    "        alpha_hat = linear_coeff(I, X)\n",
    "        beta_2SLS_list.append(linear_coeff(alpha_hat * I, Y))\n",
    "    print(\"OLS \", np.mean(beta_ols_list), np.var(beta_ols_list))\n",
    "    print(\"IV \",np.mean(beta_IV_list), np.var(beta_IV_list))\n",
    "    print(\"2SLS \", np.mean(beta_2SLS_list), np.var(beta_2SLS_list))\n",
    "    print(\"True beta: \", beta)"
   ]
  },
  {
   "cell_type": "code",
   "execution_count": 28,
   "id": "a7fe1afb-5eea-437c-bf98-c1be65cd9165",
   "metadata": {},
   "outputs": [
    {
     "name": "stdout",
     "output_type": "stream",
     "text": [
      "OLS  2.2968682254725588 0.07056795652917784\n",
      "IV  1.8458217635482395 0.19444626705554077\n",
      "2SLS  1.8458217635482395 0.1944462670555408\n",
      "True beta:  2\n"
     ]
    }
   ],
   "source": [
    "run_comparison(10)"
   ]
  },
  {
   "cell_type": "code",
   "execution_count": 30,
   "id": "87e10f52-706e-41b8-908a-d70d859345ac",
   "metadata": {},
   "outputs": [
    {
     "name": "stdout",
     "output_type": "stream",
     "text": [
      "OLS  2.32626060303418 0.03319268679382803\n",
      "IV  1.9290764830731102 0.09450922225457216\n",
      "2SLS  1.9290764830731095 0.09450922225457212\n",
      "True beta:  2\n"
     ]
    }
   ],
   "source": [
    "run_comparison(100)"
   ]
  },
  {
   "cell_type": "code",
   "execution_count": 31,
   "id": "fdf3d205-9058-420d-b375-52b2bf3161d9",
   "metadata": {},
   "outputs": [
    {
     "name": "stdout",
     "output_type": "stream",
     "text": [
      "OLS  2.331579998425101 0.02318344440404382\n",
      "IV  1.9509344131076605 0.06673372264687838\n",
      "2SLS  1.9509344131076605 0.06673372264687837\n",
      "True beta:  2\n"
     ]
    }
   ],
   "source": [
    "run_comparison(1000)"
   ]
  },
  {
   "cell_type": "code",
   "execution_count": 32,
   "id": "54c21c65-c731-462e-9f00-f94be26f63ab",
   "metadata": {},
   "outputs": [
    {
     "name": "stdout",
     "output_type": "stream",
     "text": [
      "OLS  2.3341847821291246 0.01776403055127781\n",
      "IV  1.9624414410920126 0.051492632347677605\n",
      "2SLS  1.9624414410920124 0.0514926323476776\n",
      "True beta:  2\n"
     ]
    }
   ],
   "source": [
    "run_comparison(10000)"
   ]
  },
  {
   "cell_type": "code",
   "execution_count": 33,
   "id": "31f8fdd0-20d7-4a0e-8e21-c96520de6a3b",
   "metadata": {},
   "outputs": [
    {
     "name": "stdout",
     "output_type": "stream",
     "text": [
      "OLS  2.3358716505262422 0.01439484557261064\n",
      "IV  1.9696545316935061 0.04191174809949637\n",
      "2SLS  1.9696545316935057 0.04191174809949634\n",
      "True beta:  2\n"
     ]
    }
   ],
   "source": [
    "run_comparison(100000)"
   ]
  },
  {
   "cell_type": "code",
   "execution_count": null,
   "id": "5d0e7a57-0225-4cf6-90e9-a7ea3a688cc1",
   "metadata": {},
   "outputs": [],
   "source": []
  }
 ],
 "metadata": {
  "kernelspec": {
   "display_name": "Python 3 (ipykernel)",
   "language": "python",
   "name": "python3"
  },
  "language_info": {
   "codemirror_mode": {
    "name": "ipython",
    "version": 3
   },
   "file_extension": ".py",
   "mimetype": "text/x-python",
   "name": "python",
   "nbconvert_exporter": "python",
   "pygments_lexer": "ipython3",
   "version": "3.9.10"
  }
 },
 "nbformat": 4,
 "nbformat_minor": 5
}
