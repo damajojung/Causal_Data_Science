{
 "cells": [
  {
   "cell_type": "markdown",
   "id": "749c9ce3",
   "metadata": {},
   "source": [
    "# Causal Data Science Week 3 Tutorial\n",
    "\n",
    "In this tutorial, we will cover how to identify estimands in your causal graph. We will first apply the backdoor criterion manually to identify the estimands. We will then look at how DoWhy can do this for you automatically."
   ]
  },
  {
   "cell_type": "markdown",
   "id": "82498d16",
   "metadata": {},
   "source": [
    "### Backdoor Criterion\n",
    "\n",
    "The backdoor criterion allows us to identify the variables on which we need to condition to calculate our causal estimates. We identify these variables by looking at 'backwards' paths from the treatment variable.\n",
    "\n",
    "The criterion is given as follows:\\\n",
    "Given an ordered pair of variables ($i$, $j$) in a directed acyclic graph G, a set of variables **Z** satisfies the backdoor criterion relative to ($i$, $j$) if no node in **Z** is a descendant of $i$, and **Z** blocks every path between $i$ and $j$ that contains an arrow into $i$.\n",
    "\n",
    "This definition, and the example below, are taken from: https://medium.data4sci.com/causal-inference-part-xi-backdoor-criterion-e29627a1da0e"
   ]
  },
  {
   "cell_type": "markdown",
   "id": "c0fdbcfd",
   "metadata": {},
   "source": [
    "Let's create a network and manually identify adjustment sets based on the backdoor criterion. We want to find effect of $X$ on $Y$."
   ]
  },
  {
   "cell_type": "code",
   "execution_count": 1,
   "id": "4bcc3dce",
   "metadata": {},
   "outputs": [
    {
     "data": {
      "image/png": "[encoded data removed]",
      "text/plain": [
       "<Figure size 432x288 with 1 Axes>"
      ]
     },
     "metadata": {},
     "output_type": "display_data"
    }
   ],
   "source": [
    "# we import networkx and create a directed graph\n",
    "import networkx as nx\n",
    "G = nx.DiGraph()\n",
    "\n",
    "G.add_nodes_from(['A', 'B', 'C', 'D', 'W', 'X', 'Y', 'Z'])\n",
    "\n",
    "G.add_edges_from([('B','A'), ('B','Z'), ('C','Z'), ('C','D'), \n",
    "                  ('A','X'), ('Z','X'), ('Z','Y'), ('D','Y'),\n",
    "                 ('X','W'), ('W','Y')])\n",
    "\n",
    "# we can visualise this graph (choosing node positions, colours, and sizes to make it more clear) \n",
    "# and save it to a .gml format (for using DoWhy later)\n",
    "pos = {'B': (-1, 1),              'C': (1, 1),\n",
    "         'A': (-1, 0), 'Z': (0, 0), 'D': (1, 0),\n",
    "         'X': (-1, -1), 'W': (0, -1), 'Y': (1, -1),}\n",
    "nx.draw(G, pos= pos, with_labels=True, node_size=500, node_color='w', edgecolors ='black')\n",
    "nx.write_gml(G, \"backdoor_criterion_graph.gml\")"
   ]
  },
  {
   "cell_type": "markdown",
   "id": "318eaa35",
   "metadata": {},
   "source": [
    "We can start by identifying the descendants of $X$, as these must <u>not</u> be in our adjustment set according to the backdoor criterion. The descendants of $X$ are: $X$, $W$, and $Y$."
   ]
  },
  {
   "cell_type": "code",
   "execution_count": 2,
   "id": "9629a4bc",
   "metadata": {},
   "outputs": [
    {
     "data": {
      "text/plain": [
       "{'W', 'X', 'Y'}"
      ]
     },
     "execution_count": 2,
     "metadata": {},
     "output_type": "execute_result"
    }
   ],
   "source": [
    "# this function finds the descendants of node 'X' in graph G\n",
    "# note that in this function they do not include 'X' as a descendant of 'X' - this is not the definition we use, so we add 'X'\n",
    "nx.descendants(G,'X') | {'X'}"
   ]
  },
  {
   "cell_type": "markdown",
   "id": "4af7aa62",
   "metadata": {},
   "source": [
    "We now consider every backdoor path from $X$ to $Y$, and find the variables for which we can/must adjust. We start off by importing the 'backdoor' class from DoWhy. Then, we create an undirected copy of our graph and call it H. This is so we can find all possible undirected paths between 'X' and 'Y'. Finally, we can use the 'is_backdoor' method from backdoor class to check which of these paths are backdoor paths."
   ]
  },
  {
   "cell_type": "code",
   "execution_count": 3,
   "id": "882555a9",
   "metadata": {},
   "outputs": [],
   "source": [
    "# importing the backdoor class from DoWhy\n",
    "from dowhy.causal_identifiers import backdoor\n",
    "\n",
    "# Backfor paths: A->X and Z->x could be two, X bust be at beginning and against stream\n",
    "\n",
    "# creating a copy of our graph G that is undirected\n",
    "H = G.to_undirected() # undirected path"
   ]
  },
  {
   "cell_type": "code",
   "execution_count": 4,
   "id": "e00ed794",
   "metadata": {},
   "outputs": [],
   "source": [
    "# the all_simple_paths function finds all possible undirected paths between 'X' and 'Y' in graph H\n",
    "# the [x for x ...] is simply to get the values from the generator\n",
    "all_possible_paths = [x for x in nx.all_simple_paths(H, 'X', 'Y')] # take undirected graph and say we want to go from y -> y"
   ]
  },
  {
   "cell_type": "code",
   "execution_count": 5,
   "id": "89284622",
   "metadata": {},
   "outputs": [
    {
     "data": {
      "text/plain": [
       "[['X', 'A', 'B', 'Z', 'C', 'D', 'Y'],\n",
       " ['X', 'A', 'B', 'Z', 'Y'],\n",
       " ['X', 'W', 'Y'],\n",
       " ['X', 'Z', 'C', 'D', 'Y'],\n",
       " ['X', 'Z', 'Y']]"
      ]
     },
     "execution_count": 5,
     "metadata": {},
     "output_type": "execute_result"
    }
   ],
   "source": [
    "all_possible_paths"
   ]
  },
  {
   "cell_type": "code",
   "execution_count": 6,
   "id": "ddf0e5a2",
   "metadata": {},
   "outputs": [],
   "source": [
    "# we can create a Backdoor object with G, 'X', and 'Y'\n",
    "# note that we are back to using the directed graph, G, as we only needed the undirected to find the paths\n",
    "graph_nodes = backdoor.Backdoor(G, 'X', 'Y')"
   ]
  },
  {
   "cell_type": "code",
   "execution_count": 7,
   "id": "d7ce2242",
   "metadata": {},
   "outputs": [],
   "source": [
    "# we apply the is_backdoor function to each path to check if a path is a backdoor path\n",
    "backdoor_paths_idx = [graph_nodes.is_backdoor(x) for x in all_possible_paths]\n",
    "\n",
    "# finally, we filter out all non-backdoor paths from the list of all paths\n",
    "backdoor_paths = [i for indx,i in enumerate(all_possible_paths) if backdoor_paths_idx[indx]]"
   ]
  },
  {
   "cell_type": "code",
   "execution_count": 8,
   "id": "6361c3f1",
   "metadata": {},
   "outputs": [
    {
     "data": {
      "text/plain": [
       "[['X', 'A', 'B', 'Z', 'C', 'D', 'Y'],\n",
       " ['X', 'A', 'B', 'Z', 'Y'],\n",
       " ['X', 'Z', 'C', 'D', 'Y'],\n",
       " ['X', 'Z', 'Y']]"
      ]
     },
     "execution_count": 8,
     "metadata": {},
     "output_type": "execute_result"
    }
   ],
   "source": [
    "# we can then view these paths\n",
    "backdoor_paths"
   ]
  },
  {
   "cell_type": "markdown",
   "id": "d8ea3f6e",
   "metadata": {},
   "source": [
    "Now we can find possible adjustment sets for each of these paths."
   ]
  },
  {
   "cell_type": "code",
   "execution_count": 9,
   "id": "baa3f071",
   "metadata": {},
   "outputs": [],
   "source": [
    "# we create a pandas dataframe to track the path and its colliders and non-colliders\n",
    "import pandas as pd\n",
    "import numpy as np\n",
    "adjustment_variables = pd.DataFrame(columns=['path', 'colliders_desc', 'non_colliders'])"
   ]
  },
  {
   "cell_type": "markdown",
   "id": "5badeb93",
   "metadata": {},
   "source": [
    "The first path we consider is $X <- A <- B -> Z <- C -> D - > Y$."
   ]
  },
  {
   "cell_type": "code",
   "execution_count": 10,
   "id": "90401809",
   "metadata": {},
   "outputs": [
    {
     "data": {
      "image/png": "[encoded data removed]",
      "text/plain": [
       "<Figure size 432x288 with 1 Axes>"
      ]
     },
     "metadata": {},
     "output_type": "display_data"
    }
   ],
   "source": [
    "colors = ['r', 'r', 'r', 'r', 'r', 'r', 'black', 'black', 'black', 'black']\n",
    "nx.draw(G, pos= pos, with_labels=True, node_size=500, node_color='w', edgecolors = 'black', edge_color =colors)"
   ]
  },
  {
   "cell_type": "code",
   "execution_count": 11,
   "id": "1413bc25",
   "metadata": {},
   "outputs": [],
   "source": [
    "# this is the path we are testing\n",
    "path = ['X', 'A', 'B', 'Z', 'C', 'D', 'Y']"
   ]
  },
  {
   "cell_type": "code",
   "execution_count": 12,
   "id": "efbf089f",
   "metadata": {},
   "outputs": [],
   "source": [
    "# we create empty (for now) lists for our colliders and non-colliders\n",
    "# we also create a variable for the length of the path\n",
    "colliders_desc = np.array([])\n",
    "non_colliders = []\n",
    "path_len = len(path)"
   ]
  },
  {
   "cell_type": "code",
   "execution_count": 13,
   "id": "b5bf6036",
   "metadata": {},
   "outputs": [
    {
     "name": "stdout",
     "output_type": "stream",
     "text": [
      "['Y' 'W' 'X' 'Z']\n"
     ]
    }
   ],
   "source": [
    "# we loop through adjacent variables on the path, ignoring the source and target variables as potential colliders\n",
    "for node0, node1, node2 in zip(path[0:path_len-2], path[1:path_len-1], path[2:]):\n",
    "    # if there is an arrow pointing into node1 from both sides on the path, it is a collider\n",
    "    if G.has_edge(node0, node1) and G.has_edge(node2, node1):\n",
    "        colliders_desc = np.append(colliders_desc, list(nx.descendants(G,node1)) + [node1]) # so we add it (and all its descendants) to the list\n",
    "# we flatten the list of list\n",
    "colliders_desc = colliders_desc.flatten()\n",
    "print(colliders_desc)\n",
    "\n",
    "# Node1 is the one we want to find out if it is a collider or not\n",
    "\n",
    "# Here we see a list with all colliders and their descendends. Z is collider and the rest is their cescendants"
   ]
  },
  {
   "cell_type": "code",
   "execution_count": 15,
   "id": "8aedabaa",
   "metadata": {},
   "outputs": [
    {
     "name": "stdout",
     "output_type": "stream",
     "text": [
      "['A', 'B', 'C', 'D']\n"
     ]
    }
   ],
   "source": [
    "# any node on the path (excluding the source and target) that is not a collider is a non-collider\n",
    "non_colliders = [x for x in path[1:-1] if x not in colliders_desc]\n",
    "print(non_colliders)\n",
    "\n",
    "# Here are the non colliders"
   ]
  },
  {
   "cell_type": "code",
   "execution_count": 16,
   "id": "2b18d213",
   "metadata": {},
   "outputs": [],
   "source": [
    "# finally, we add the information to our dataframe, with the path, colliders, and non-colliders\n",
    "adjustment_variables = adjustment_variables.append({'path':path, 'colliders_desc': colliders_desc, \n",
    "                                                    'non_colliders': non_colliders}, ignore_index=True)"
   ]
  },
  {
   "cell_type": "code",
   "execution_count": 17,
   "id": "6b6956e4",
   "metadata": {},
   "outputs": [
    {
     "data": {
      "text/html": [
       "<div>\n",
       "<style scoped>\n",
       "    .dataframe tbody tr th:only-of-type {\n",
       "        vertical-align: middle;\n",
       "    }\n",
       "\n",
       "    .dataframe tbody tr th {\n",
       "        vertical-align: top;\n",
       "    }\n",
       "\n",
       "    .dataframe thead th {\n",
       "        text-align: right;\n",
       "    }\n",
       "</style>\n",
       "<table border=\"1\" class=\"dataframe\">\n",
       "  <thead>\n",
       "    <tr style=\"text-align: right;\">\n",
       "      <th></th>\n",
       "      <th>path</th>\n",
       "      <th>colliders_desc</th>\n",
       "      <th>non_colliders</th>\n",
       "    </tr>\n",
       "  </thead>\n",
       "  <tbody>\n",
       "    <tr>\n",
       "      <th>0</th>\n",
       "      <td>[X, A, B, Z, C, D, Y]</td>\n",
       "      <td>[Y, W, X, Z]</td>\n",
       "      <td>[A, B, C, D]</td>\n",
       "    </tr>\n",
       "  </tbody>\n",
       "</table>\n",
       "</div>"
      ],
      "text/plain": [
       "                    path colliders_desc non_colliders\n",
       "0  [X, A, B, Z, C, D, Y]   [Y, W, X, Z]  [A, B, C, D]"
      ]
     },
     "execution_count": 17,
     "metadata": {},
     "output_type": "execute_result"
    }
   ],
   "source": [
    "adjustment_variables\n",
    "\n",
    "# For blocking: not condition on colliders or condition on non-colliders"
   ]
  },
  {
   "cell_type": "markdown",
   "id": "e5208210",
   "metadata": {},
   "source": [
    "We now can see that we need either:\n",
    "\n",
    "1. Not to condition on $Z$ or its descendants ($Y$, $W$, $X$) or\n",
    "2. Condition on at least one of $A$, $B$, $C$, $D$"
   ]
  },
  {
   "cell_type": "markdown",
   "id": "63a38c08",
   "metadata": {},
   "source": [
    "The second path we consider is $X <- A <- B -> Z - > Y$."
   ]
  },
  {
   "cell_type": "code",
   "execution_count": 18,
   "id": "d66435e4",
   "metadata": {},
   "outputs": [
    {
     "data": {
      "image/png": "[encoded data removed]",
      "text/plain": [
       "<Figure size 432x288 with 1 Axes>"
      ]
     },
     "metadata": {},
     "output_type": "display_data"
    }
   ],
   "source": [
    "colors = ['r', 'r', 'r', 'black', 'black', 'black', 'black', 'black', 'black', 'r']\n",
    "nx.draw(G, pos= pos, with_labels=True, node_size=500, node_color='w', edgecolors = 'black', edge_color =colors)"
   ]
  },
  {
   "cell_type": "code",
   "execution_count": 19,
   "id": "38dfaaad",
   "metadata": {},
   "outputs": [
    {
     "name": "stderr",
     "output_type": "stream",
     "text": [
      "/var/folders/9r/pl8035cn4cjb59msrdwcrvhr0000gn/T/ipykernel_2366/1057403811.py:19: FutureWarning: elementwise comparison failed; returning scalar instead, but in the future will perform elementwise comparison\n",
      "  non_colliders = [x for x in path[1:-1] if x not in colliders_desc]\n"
     ]
    },
    {
     "data": {
      "text/html": [
       "<div>\n",
       "<style scoped>\n",
       "    .dataframe tbody tr th:only-of-type {\n",
       "        vertical-align: middle;\n",
       "    }\n",
       "\n",
       "    .dataframe tbody tr th {\n",
       "        vertical-align: top;\n",
       "    }\n",
       "\n",
       "    .dataframe thead th {\n",
       "        text-align: right;\n",
       "    }\n",
       "</style>\n",
       "<table border=\"1\" class=\"dataframe\">\n",
       "  <thead>\n",
       "    <tr style=\"text-align: right;\">\n",
       "      <th></th>\n",
       "      <th>path</th>\n",
       "      <th>colliders_desc</th>\n",
       "      <th>non_colliders</th>\n",
       "    </tr>\n",
       "  </thead>\n",
       "  <tbody>\n",
       "    <tr>\n",
       "      <th>0</th>\n",
       "      <td>[X, A, B, Z, C, D, Y]</td>\n",
       "      <td>[Y, W, X, Z]</td>\n",
       "      <td>[A, B, C, D]</td>\n",
       "    </tr>\n",
       "    <tr>\n",
       "      <th>1</th>\n",
       "      <td>[X, A, B, Z, Y]</td>\n",
       "      <td>[]</td>\n",
       "      <td>[A, B, Z]</td>\n",
       "    </tr>\n",
       "  </tbody>\n",
       "</table>\n",
       "</div>"
      ],
      "text/plain": [
       "                    path colliders_desc non_colliders\n",
       "0  [X, A, B, Z, C, D, Y]   [Y, W, X, Z]  [A, B, C, D]\n",
       "1        [X, A, B, Z, Y]             []     [A, B, Z]"
      ]
     },
     "execution_count": 19,
     "metadata": {},
     "output_type": "execute_result"
    }
   ],
   "source": [
    "# this is the path we are testing\n",
    "path = ['X', 'A', 'B', 'Z', 'Y']\n",
    "\n",
    "# we create empty (for now) lists for our colliders and non-colliders\n",
    "# we also create a variable for the length of the path\n",
    "colliders_desc = np.array([])\n",
    "non_colliders = []\n",
    "path_len = len(path)\n",
    "\n",
    "# we loop through adjacent variables on the path, ignoring the source and target variables as potential colliders\n",
    "for node0, node1, node2 in zip(path[0:path_len-2], path[1:path_len-1], path[2:]):\n",
    "    # if there is an arrow pointing into node1 from both sides on the path, it is a collider\n",
    "    if G.has_edge(node0, node1) and G.has_edge(node2, node1):\n",
    "        colliders_desc = np.append(colliders_desc, list(nx.descendants(G,node1)) + [node1]) # so we add it (and all its descendants) to the list\n",
    "# we flatten the list of list\n",
    "colliders_desc = colliders_desc.flatten()\n",
    "        \n",
    "# any node on the path (excluding the source and target) that is not a collider is a non-collider\n",
    "non_colliders = [x for x in path[1:-1] if x not in colliders_desc]\n",
    "\n",
    "# finally, we add the information to our dataframe, with the path, colliders, and non-colliders\n",
    "adjustment_variables = adjustment_variables.append({'path':path, 'colliders_desc': colliders_desc, \n",
    "                                                    'non_colliders': non_colliders}, ignore_index=True)\n",
    "\n",
    "adjustment_variables"
   ]
  },
  {
   "cell_type": "markdown",
   "id": "2a353cfd",
   "metadata": {},
   "source": [
    " There are no colliders on this path, so we simply need to condition on at least one of $A$, $B$, or $Z$ (you may get some warnings due to there being no colliders)."
   ]
  },
  {
   "cell_type": "markdown",
   "id": "c72d082d",
   "metadata": {},
   "source": [
    "The third path is $X <- Z - > Y$."
   ]
  },
  {
   "cell_type": "code",
   "execution_count": 20,
   "id": "113d776b",
   "metadata": {},
   "outputs": [
    {
     "data": {
      "image/png": "[encoded data removed]",
      "text/plain": [
       "<Figure size 432x288 with 1 Axes>"
      ]
     },
     "metadata": {},
     "output_type": "display_data"
    }
   ],
   "source": [
    "colors = ['black', 'black', 'black', 'black', 'black', 'black', 'black', 'black', 'r', 'r']\n",
    "nx.draw(G, pos= pos, with_labels=True, node_size=500, node_color='w', edgecolors = 'black', edge_color =colors)"
   ]
  },
  {
   "cell_type": "code",
   "execution_count": 21,
   "id": "e68529d6",
   "metadata": {},
   "outputs": [
    {
     "name": "stderr",
     "output_type": "stream",
     "text": [
      "/var/folders/9r/pl8035cn4cjb59msrdwcrvhr0000gn/T/ipykernel_2366/652517836.py:19: FutureWarning: elementwise comparison failed; returning scalar instead, but in the future will perform elementwise comparison\n",
      "  non_colliders = [x for x in path[1:-1] if x not in colliders_desc]\n"
     ]
    },
    {
     "data": {
      "text/html": [
       "<div>\n",
       "<style scoped>\n",
       "    .dataframe tbody tr th:only-of-type {\n",
       "        vertical-align: middle;\n",
       "    }\n",
       "\n",
       "    .dataframe tbody tr th {\n",
       "        vertical-align: top;\n",
       "    }\n",
       "\n",
       "    .dataframe thead th {\n",
       "        text-align: right;\n",
       "    }\n",
       "</style>\n",
       "<table border=\"1\" class=\"dataframe\">\n",
       "  <thead>\n",
       "    <tr style=\"text-align: right;\">\n",
       "      <th></th>\n",
       "      <th>path</th>\n",
       "      <th>colliders_desc</th>\n",
       "      <th>non_colliders</th>\n",
       "    </tr>\n",
       "  </thead>\n",
       "  <tbody>\n",
       "    <tr>\n",
       "      <th>0</th>\n",
       "      <td>[X, A, B, Z, C, D, Y]</td>\n",
       "      <td>[Y, W, X, Z]</td>\n",
       "      <td>[A, B, C, D]</td>\n",
       "    </tr>\n",
       "    <tr>\n",
       "      <th>1</th>\n",
       "      <td>[X, A, B, Z, Y]</td>\n",
       "      <td>[]</td>\n",
       "      <td>[A, B, Z]</td>\n",
       "    </tr>\n",
       "    <tr>\n",
       "      <th>2</th>\n",
       "      <td>[X, Z, Y]</td>\n",
       "      <td>[]</td>\n",
       "      <td>[Z]</td>\n",
       "    </tr>\n",
       "  </tbody>\n",
       "</table>\n",
       "</div>"
      ],
      "text/plain": [
       "                    path colliders_desc non_colliders\n",
       "0  [X, A, B, Z, C, D, Y]   [Y, W, X, Z]  [A, B, C, D]\n",
       "1        [X, A, B, Z, Y]             []     [A, B, Z]\n",
       "2              [X, Z, Y]             []           [Z]"
      ]
     },
     "execution_count": 21,
     "metadata": {},
     "output_type": "execute_result"
    }
   ],
   "source": [
    "# this is the path we are testing\n",
    "path = ['X', 'Z', 'Y']\n",
    "\n",
    "# we create empty (for now) lists for our colliders and non-colliders\n",
    "# we also create a variable for the length of the path\n",
    "colliders_desc = np.array([])\n",
    "non_colliders = []\n",
    "path_len = len(path)\n",
    "\n",
    "# we loop through adjacent variables on the path, ignoring the source and target variables as potential colliders\n",
    "for node0, node1, node2 in zip(path[0:path_len-2], path[1:path_len-1], path[2:]):\n",
    "    # if there is an arrow pointing into node1 from both sides on the path, it is a collider\n",
    "    if G.has_edge(node0, node1) and G.has_edge(node2, node1):\n",
    "        colliders_desc = np.append(colliders_desc, list(nx.descendants(G,node1)) + [node1]) # so we add it (and all its descendants) to the list\n",
    "# we flatten the list of list\n",
    "colliders_desc = colliders_desc.flatten()\n",
    "        \n",
    "# any node on the path (excluding the source and target) that is not a collider is a non-collider\n",
    "non_colliders = [x for x in path[1:-1] if x not in colliders_desc]\n",
    "\n",
    "# finally, we add the information to our dataframe, with the path, colliders, and non-colliders\n",
    "adjustment_variables = adjustment_variables.append({'path':path, 'colliders_desc': colliders_desc, \n",
    "                                                    'non_colliders': non_colliders}, ignore_index=True)\n",
    "\n",
    "adjustment_variables"
   ]
  },
  {
   "cell_type": "markdown",
   "id": "a6286ef3",
   "metadata": {},
   "source": [
    " There are no colliders on this path, so we need to condition on the one remaining variable, $Z$."
   ]
  },
  {
   "cell_type": "markdown",
   "id": "43cbf528",
   "metadata": {},
   "source": [
    "The final path is $X <- Z <- C -> D -> Y$. "
   ]
  },
  {
   "cell_type": "code",
   "execution_count": 22,
   "id": "da2404dd",
   "metadata": {},
   "outputs": [
    {
     "data": {
      "image/png": "[encoded data removed]",
      "text/plain": [
       "<Figure size 432x288 with 1 Axes>"
      ]
     },
     "metadata": {},
     "output_type": "display_data"
    }
   ],
   "source": [
    "colors = ['black', 'black', 'black', 'r', 'r', 'r', 'black', 'black', 'r', 'black']\n",
    "nx.draw(G, pos= pos, with_labels=True, node_size=500, node_color='w', edgecolors = 'black', edge_color =colors)"
   ]
  },
  {
   "cell_type": "code",
   "execution_count": 23,
   "id": "0969d177",
   "metadata": {},
   "outputs": [
    {
     "name": "stderr",
     "output_type": "stream",
     "text": [
      "/var/folders/9r/pl8035cn4cjb59msrdwcrvhr0000gn/T/ipykernel_2366/1260935085.py:19: FutureWarning: elementwise comparison failed; returning scalar instead, but in the future will perform elementwise comparison\n",
      "  non_colliders = [x for x in path[1:-1] if x not in colliders_desc]\n"
     ]
    },
    {
     "data": {
      "text/html": [
       "<div>\n",
       "<style scoped>\n",
       "    .dataframe tbody tr th:only-of-type {\n",
       "        vertical-align: middle;\n",
       "    }\n",
       "\n",
       "    .dataframe tbody tr th {\n",
       "        vertical-align: top;\n",
       "    }\n",
       "\n",
       "    .dataframe thead th {\n",
       "        text-align: right;\n",
       "    }\n",
       "</style>\n",
       "<table border=\"1\" class=\"dataframe\">\n",
       "  <thead>\n",
       "    <tr style=\"text-align: right;\">\n",
       "      <th></th>\n",
       "      <th>path</th>\n",
       "      <th>colliders_desc</th>\n",
       "      <th>non_colliders</th>\n",
       "    </tr>\n",
       "  </thead>\n",
       "  <tbody>\n",
       "    <tr>\n",
       "      <th>0</th>\n",
       "      <td>[X, A, B, Z, C, D, Y]</td>\n",
       "      <td>[Y, W, X, Z]</td>\n",
       "      <td>[A, B, C, D]</td>\n",
       "    </tr>\n",
       "    <tr>\n",
       "      <th>1</th>\n",
       "      <td>[X, A, B, Z, Y]</td>\n",
       "      <td>[]</td>\n",
       "      <td>[A, B, Z]</td>\n",
       "    </tr>\n",
       "    <tr>\n",
       "      <th>2</th>\n",
       "      <td>[X, Z, Y]</td>\n",
       "      <td>[]</td>\n",
       "      <td>[Z]</td>\n",
       "    </tr>\n",
       "    <tr>\n",
       "      <th>3</th>\n",
       "      <td>[X, Z, C, D, Y]</td>\n",
       "      <td>[]</td>\n",
       "      <td>[Z, C, D]</td>\n",
       "    </tr>\n",
       "  </tbody>\n",
       "</table>\n",
       "</div>"
      ],
      "text/plain": [
       "                    path colliders_desc non_colliders\n",
       "0  [X, A, B, Z, C, D, Y]   [Y, W, X, Z]  [A, B, C, D]\n",
       "1        [X, A, B, Z, Y]             []     [A, B, Z]\n",
       "2              [X, Z, Y]             []           [Z]\n",
       "3        [X, Z, C, D, Y]             []     [Z, C, D]"
      ]
     },
     "execution_count": 23,
     "metadata": {},
     "output_type": "execute_result"
    }
   ],
   "source": [
    "# this is the path we are testing\n",
    "path = ['X', 'Z', 'C', 'D', 'Y']\n",
    "\n",
    "# we create empty (for now) lists for our colliders and non-colliders\n",
    "# we also create a variable for the length of the path\n",
    "colliders_desc = np.array([])\n",
    "non_colliders = []\n",
    "path_len = len(path)\n",
    "\n",
    "# we loop through adjacent variables on the path, ignoring the source and target variables as potential colliders\n",
    "for node0, node1, node2 in zip(path[0:path_len-2], path[1:path_len-1], path[2:]):\n",
    "    # if there is an arrow pointing into node1 from both sides on the path, it is a collider\n",
    "    if G.has_edge(node0, node1) and G.has_edge(node2, node1):\n",
    "        colliders_desc = np.append(colliders_desc, list(nx.descendants(G,node1)) + [node1]) # so we add it (and all its descendants) to the list\n",
    "# we flatten the list of list\n",
    "colliders_desc = colliders_desc.flatten()\n",
    "        \n",
    "# any node on the path (excluding the source and target) that is not a collider is a non-collider\n",
    "non_colliders = [x for x in path[1:-1] if x not in colliders_desc]\n",
    "\n",
    "# finally, we add the information to our dataframe, with the path, colliders, and non-colliders\n",
    "adjustment_variables = adjustment_variables.append({'path':path, 'colliders_desc': colliders_desc, \n",
    "                                                    'non_colliders': non_colliders}, ignore_index=True)\n",
    "\n",
    "adjustment_variables"
   ]
  },
  {
   "cell_type": "markdown",
   "id": "414560b1",
   "metadata": {},
   "source": [
    "Once again, there are no colliders on this path, so we can condition on at least one of $C$, $D$, or $Z$. "
   ]
  },
  {
   "cell_type": "markdown",
   "id": "67b6c2d6",
   "metadata": {},
   "source": [
    "Combining all conditions together, we have the following:\n",
    "\n",
    "1. Not condition on $Z$ and its decendants ($Y$) OR condition on at least one of $A$, $B$, $C$, $D$\n",
    "2. Condition on at least one of $A$, $B$, or $Z$\n",
    "3. Condition on $Z$\n",
    "4. Condition on at least one of $C$, $D$, or $Z$\n",
    "\n",
    "So we need to condition on $Z$. This then satisfies conditions 2, 3, and 4. To satisfy 1, we now need to condition on at least one of $A$, $B$, $C$, or $D$. Thus, our possible sets are: {$Z$, $A$}, {$Z$, $B$}, ..., {$Z$, $A$, $B$, $C$, $D$}."
   ]
  },
  {
   "cell_type": "code",
   "execution_count": 24,
   "id": "50d9d92d",
   "metadata": {},
   "outputs": [
    {
     "data": {
      "text/html": [
       "<div>\n",
       "<style scoped>\n",
       "    .dataframe tbody tr th:only-of-type {\n",
       "        vertical-align: middle;\n",
       "    }\n",
       "\n",
       "    .dataframe tbody tr th {\n",
       "        vertical-align: top;\n",
       "    }\n",
       "\n",
       "    .dataframe thead th {\n",
       "        text-align: right;\n",
       "    }\n",
       "</style>\n",
       "<table border=\"1\" class=\"dataframe\">\n",
       "  <thead>\n",
       "    <tr style=\"text-align: right;\">\n",
       "      <th></th>\n",
       "      <th>path</th>\n",
       "      <th>colliders_desc</th>\n",
       "      <th>non_colliders</th>\n",
       "    </tr>\n",
       "  </thead>\n",
       "  <tbody>\n",
       "    <tr>\n",
       "      <th>0</th>\n",
       "      <td>[X, A, B, Z, C, D, Y]</td>\n",
       "      <td>[Y, W, X, Z]</td>\n",
       "      <td>[A, B, C, D]</td>\n",
       "    </tr>\n",
       "    <tr>\n",
       "      <th>1</th>\n",
       "      <td>[X, A, B, Z, Y]</td>\n",
       "      <td>[]</td>\n",
       "      <td>[A, B, Z]</td>\n",
       "    </tr>\n",
       "    <tr>\n",
       "      <th>2</th>\n",
       "      <td>[X, Z, Y]</td>\n",
       "      <td>[]</td>\n",
       "      <td>[Z]</td>\n",
       "    </tr>\n",
       "    <tr>\n",
       "      <th>3</th>\n",
       "      <td>[X, Z, C, D, Y]</td>\n",
       "      <td>[]</td>\n",
       "      <td>[Z, C, D]</td>\n",
       "    </tr>\n",
       "  </tbody>\n",
       "</table>\n",
       "</div>"
      ],
      "text/plain": [
       "                    path colliders_desc non_colliders\n",
       "0  [X, A, B, Z, C, D, Y]   [Y, W, X, Z]  [A, B, C, D]\n",
       "1        [X, A, B, Z, Y]             []     [A, B, Z]\n",
       "2              [X, Z, Y]             []           [Z]\n",
       "3        [X, Z, C, D, Y]             []     [Z, C, D]"
      ]
     },
     "execution_count": 24,
     "metadata": {},
     "output_type": "execute_result"
    }
   ],
   "source": [
    "adjustment_variables"
   ]
  },
  {
   "cell_type": "markdown",
   "id": "ae846192",
   "metadata": {},
   "source": [
    "DoWhy can find sets satisfying the backdoor criterion automatically. We simply provide it with the graph (in .gml format). We also need to provide it with data, but since we are only worried about the backdoor criterion for now, we can give it meaningless data (remember: the estimands are graph-specific, and don't rely on the data)."
   ]
  },
  {
   "cell_type": "code",
   "execution_count": 25,
   "id": "1b3509e5",
   "metadata": {},
   "outputs": [
    {
     "data": {
      "image/png": "[encoded data removed]",
      "text/plain": [
       "<IPython.core.display.Image object>"
      ]
     },
     "metadata": {
      "image/png": {
       "height": 100,
       "width": 200
      }
     },
     "output_type": "display_data"
    },
    {
     "data": {
      "image/png": "[encoded data removed]",
      "text/plain": [
       "<Figure size 576x432 with 1 Axes>"
      ]
     },
     "metadata": {},
     "output_type": "display_data"
    }
   ],
   "source": [
    "import dowhy\n",
    "from dowhy import CausalModel\n",
    "\n",
    "# creating arbitrary data\n",
    "df = pd.DataFrame({'A':[1],'B':[1],'C':[1],'D':[1],'W':[1],'X':[1],\n",
    "                  'Y': [1], 'Z': [1]})\n",
    "\n",
    "# a utility function to parse the .gml file to string\n",
    "def gml_to_string(file):\n",
    "    gml_str = ''\n",
    "    with open(file, 'r') as file:\n",
    "        for line in file:\n",
    "            gml_str += line.rstrip()\n",
    "    return gml_str\n",
    "\n",
    "from IPython.display import Image, display\n",
    "\n",
    "gml_graph = gml_to_string('backdoor_criterion_graph.gml')\n",
    "# With GML string\n",
    "model=CausalModel(\n",
    "        data = df,\n",
    "        treatment='X',\n",
    "        outcome='Y',\n",
    "        graph=gml_graph\n",
    "        )\n",
    "model.view_model()\n",
    "\n",
    "display(Image(filename=\"causal_model.png\", width = 200, height = 100))"
   ]
  },
  {
   "cell_type": "code",
   "execution_count": 26,
   "id": "8eae9be1",
   "metadata": {},
   "outputs": [
    {
     "name": "stdout",
     "output_type": "stream",
     "text": [
      "Estimand type: nonparametric-ate\n",
      "\n",
      "### Estimand : 1\n",
      "Estimand name: backdoor\n",
      "Estimand expression:\n",
      " d                      \n",
      "────(Expectation(Y|D,Z))\n",
      "d[X]                    \n",
      "Estimand assumption 1, Unconfoundedness: If U→{X} and U→Y then P(Y|X,D,Z,U) = P(Y|X,D,Z)\n",
      "\n",
      "### Estimand : 2\n",
      "Estimand name: iv\n",
      "No such variable(s) found!\n",
      "\n",
      "### Estimand : 3\n",
      "Estimand name: frontdoor\n",
      "Estimand expression:\n",
      "Expectation(Derivative(Y, [W])*Derivative([W], [X]))\n",
      "Estimand assumption 1, Full-mediation: W intercepts (blocks) all directed paths from X to Y.\n",
      "Estimand assumption 2, First-stage-unconfoundedness: If U→{X} and U→{W} then P(W|X,U) = P(W|X)\n",
      "Estimand assumption 3, Second-stage-unconfoundedness: If U→{W} and U→Y then P(Y|W, X, U) = P(Y|W, X)\n",
      "\n"
     ]
    }
   ],
   "source": [
    "identified_estimand = model.identify_effect()\n",
    "print(identified_estimand)"
   ]
  },
  {
   "cell_type": "markdown",
   "id": "396a42dd",
   "metadata": {},
   "source": [
    "Under Estimand 1, we can see the adjustment set identified by DoWhy. This set will be one of those we manually found, but can differ from run to run.\n",
    "\n",
    "DoWhy's code for finding the backdoor criterion sets is available at: https://github.com/microsoft/dowhy/blob/master/dowhy/causal_identifiers/backdoor.py. You can look into this a bit if you want to understand better how DoWhy finds the adjustment sets. For example, you can access all the minimum-sized and maximum-sized adjustment sets as follows:"
   ]
  },
  {
   "cell_type": "code",
   "execution_count": 27,
   "id": "3d63e3e7",
   "metadata": {},
   "outputs": [
    {
     "data": {
      "text/plain": [
       "[{'backdoor_set': ('D', 'A', 'B', 'Z', 'C')},\n",
       " {'backdoor_set': ('D', 'Z')},\n",
       " {'backdoor_set': ('A', 'Z')},\n",
       " {'backdoor_set': ('B', 'Z')},\n",
       " {'backdoor_set': ('Z', 'C')}]"
      ]
     },
     "execution_count": 27,
     "metadata": {},
     "output_type": "execute_result"
    }
   ],
   "source": [
    "identifier = model.identifier\n",
    "identifier.identify_backdoor(identifier.treatment_name, identifier.outcome_name) # Here we see all the calid backdoor_sets"
   ]
  },
  {
   "cell_type": "code",
   "execution_count": null,
   "id": "59f965ea",
   "metadata": {},
   "outputs": [],
   "source": []
  }
 ],
 "metadata": {
  "kernelspec": {
   "display_name": "Python 3",
   "language": "python",
   "name": "python3"
  },
  "language_info": {
   "codemirror_mode": {
    "name": "ipython",
    "version": 3
   },
   "file_extension": ".py",
   "mimetype": "text/x-python",
   "name": "python",
   "nbconvert_exporter": "python",
   "pygments_lexer": "ipython3",
   "version": "3.9.7"
  }
 },
 "nbformat": 4,
 "nbformat_minor": 5
}
