{
 "cells": [
  {
   "cell_type": "markdown",
   "id": "36671a74",
   "metadata": {},
   "source": [
    "# Causal Data Science Week 5 Tutorial\n",
    "\n",
    "In this tutorial we will practice how to learn a causal graph from constraint based structure learning with the PC algorithm. We will go through the algorithm both by-hand and with the CausalDiscoveryTool package."
   ]
  },
  {
   "cell_type": "markdown",
   "id": "b00db940",
   "metadata": {},
   "source": [
    "## SGS and PC algorithm\n",
    "\n",
    "The PC algorithm is a constraint based causal discovery algorithm named after its authors **P**eter Spirtes and **C**lark Glymour. The idea of this algorithm is based on conditional independence testing. \n",
    "\n",
    "For the simplicity of coding, we will start with a simpler version called SGS algorithm (https://www.researchgate.net/publication/242448131_Causation_Prediction_and_Search). SGS algorithm has the same input/output relations as the PC algorithm for faithful distributions. The SGS algorithm always considers all possible pairs of nodes in the graph while the PC algorithm considers only adjacent pairs of nodes. SGS has higher complexity since it has to run more conditional independence tests and it is also less reliable since the determination of higher order conditional independence relations is generally less reliable than the determination of lower order conditional independence relations.\n",
    "\n",
    "The implementation below is a naive version of SGS algorithm, where we check the v-structures and direct edges by hands \n",
    "\n",
    "Assuming Markov and faithfulness, a CPDAG (completed partially directed acyclic graph) can be estimated. The algorithm process is as follows:\n",
    "- Determine the skeleton\n",
    "- Determine the v-structures\n",
    "- Direct as many of the remaining edges as possible.\n"
   ]
  },
  {
   "cell_type": "markdown",
   "id": "d9e3d2f3",
   "metadata": {},
   "source": [
    "We go through an example with synthetic dataset. The example graph is taken from: https://stat.ethz.ch/lectures/ss21/causality.php#course_materials."
   ]
  },
  {
   "cell_type": "code",
   "execution_count": 1,
   "id": "1bb9b415",
   "metadata": {},
   "outputs": [],
   "source": [
    "# import necessary packages\n",
    "import warnings\n",
    "warnings.filterwarnings('ignore')\n",
    "\n",
    "import dowhy\n",
    "from dowhy import CausalModel\n",
    "\n",
    "import cdt\n",
    "cdt.SETTINGS.rpath = '/Library/Frameworks/R.framework/Resources/bin/Rscript'# for macOS\n",
    "# cdt.SETTINGS.rpath = 'C:/Program Files/R/R-4.0.3/bin/Rscript' # for Windows\n",
    "\n",
    "import networkx as nx\n",
    "import matplotlib.pyplot as plt\n",
    "import pandas as pd\n",
    "\n",
    "import numpy as np\n",
    "from numpy.random import normal\n",
    "\n",
    "from itertools import combinations"
   ]
  },
  {
   "cell_type": "markdown",
   "id": "109eafe4",
   "metadata": {},
   "source": [
    "We first ceate a synthetic dataset that contains 5 variables with linear dependencies between them. Each noise term is drawn from a Gaussian distribution. We can use scatter plots to plot the relationship between any two variables."
   ]
  },
  {
   "cell_type": "code",
   "execution_count": 2,
   "id": "f038eb8a",
   "metadata": {},
   "outputs": [
    {
     "data": {
      "text/plain": [
       "<matplotlib.collections.PathCollection at 0x7ff428db9f40>"
      ]
     },
     "execution_count": 2,
     "metadata": {},
     "output_type": "execute_result"
    },
    {
     "data": {
      "image/png": "[encoded data removed]",
      "text/plain": [
       "<Figure size 432x288 with 1 Axes>"
      ]
     },
     "metadata": {
      "needs_background": "light"
     },
     "output_type": "display_data"
    }
   ],
   "source": [
    "n_samples=10000\n",
    "\n",
    "eps1 = normal(0, 1, n_samples)\n",
    "eps2 = normal(0, 1, n_samples)\n",
    "eps3 = normal(0, 0.7, n_samples)\n",
    "eps4 = normal(0, 1.5, n_samples)\n",
    "eps5 = normal(0, 1, n_samples)\n",
    "\n",
    "x1 = eps1\n",
    "x2 = eps2\n",
    "x3 = x1 + x2 + eps3\n",
    "x4 = 2 * x1 + eps4\n",
    "x5 = 3 * x3 + eps5\n",
    "\n",
    "# we can plot scatter plots between any two variables \n",
    "plt.scatter(x1, x2)"
   ]
  },
  {
   "cell_type": "code",
   "execution_count": 3,
   "id": "70a7e45c",
   "metadata": {},
   "outputs": [
    {
     "data": {
      "text/html": [
       "<div>\n",
       "<style scoped>\n",
       "    .dataframe tbody tr th:only-of-type {\n",
       "        vertical-align: middle;\n",
       "    }\n",
       "\n",
       "    .dataframe tbody tr th {\n",
       "        vertical-align: top;\n",
       "    }\n",
       "\n",
       "    .dataframe thead th {\n",
       "        text-align: right;\n",
       "    }\n",
       "</style>\n",
       "<table border=\"1\" class=\"dataframe\">\n",
       "  <thead>\n",
       "    <tr style=\"text-align: right;\">\n",
       "      <th></th>\n",
       "      <th>x1</th>\n",
       "      <th>x2</th>\n",
       "      <th>x3</th>\n",
       "      <th>x4</th>\n",
       "      <th>x5</th>\n",
       "    </tr>\n",
       "  </thead>\n",
       "  <tbody>\n",
       "    <tr>\n",
       "      <th>0</th>\n",
       "      <td>-0.361016</td>\n",
       "      <td>2.006556</td>\n",
       "      <td>1.023768</td>\n",
       "      <td>-1.170294</td>\n",
       "      <td>3.516368</td>\n",
       "    </tr>\n",
       "    <tr>\n",
       "      <th>1</th>\n",
       "      <td>-0.594926</td>\n",
       "      <td>1.125349</td>\n",
       "      <td>2.342521</td>\n",
       "      <td>-0.578092</td>\n",
       "      <td>7.181731</td>\n",
       "    </tr>\n",
       "    <tr>\n",
       "      <th>2</th>\n",
       "      <td>-0.024329</td>\n",
       "      <td>2.023354</td>\n",
       "      <td>0.783932</td>\n",
       "      <td>-0.829285</td>\n",
       "      <td>1.107970</td>\n",
       "    </tr>\n",
       "    <tr>\n",
       "      <th>3</th>\n",
       "      <td>0.381976</td>\n",
       "      <td>-1.201039</td>\n",
       "      <td>-0.288224</td>\n",
       "      <td>-0.449758</td>\n",
       "      <td>0.328643</td>\n",
       "    </tr>\n",
       "    <tr>\n",
       "      <th>4</th>\n",
       "      <td>0.875133</td>\n",
       "      <td>-0.343821</td>\n",
       "      <td>-0.563934</td>\n",
       "      <td>3.293262</td>\n",
       "      <td>-0.823724</td>\n",
       "    </tr>\n",
       "  </tbody>\n",
       "</table>\n",
       "</div>"
      ],
      "text/plain": [
       "         x1        x2        x3        x4        x5\n",
       "0 -0.361016  2.006556  1.023768 -1.170294  3.516368\n",
       "1 -0.594926  1.125349  2.342521 -0.578092  7.181731\n",
       "2 -0.024329  2.023354  0.783932 -0.829285  1.107970\n",
       "3  0.381976 -1.201039 -0.288224 -0.449758  0.328643\n",
       "4  0.875133 -0.343821 -0.563934  3.293262 -0.823724"
      ]
     },
     "execution_count": 3,
     "metadata": {},
     "output_type": "execute_result"
    }
   ],
   "source": [
    "df = pd.DataFrame({'x1': x1,'x2': x2,'x3': x3,'x4': x4,'x5': x5})\n",
    "df.head()"
   ]
  },
  {
   "cell_type": "markdown",
   "id": "425512bb",
   "metadata": {},
   "source": [
    "From the data simulation, we know the true underlying graph, while normally we do not have access. The true causal graph is as follows:"
   ]
  },
  {
   "cell_type": "code",
   "execution_count": 4,
   "id": "d83780f9",
   "metadata": {},
   "outputs": [
    {
     "data": {
      "image/png": "[encoded data removed]",
      "text/plain": [
       "<Figure size 432x288 with 1 Axes>"
      ]
     },
     "metadata": {},
     "output_type": "display_data"
    }
   ],
   "source": [
    "nodes = [\"x1\", \"x2\", \"x3\", \"x4\", \"x5\"]\n",
    "pos = {'x2': (-1, 1),              'x1': (1, 1),\n",
    "       'x3': (0, 0.5),          'x4': (1, -1), \n",
    "       'x5': (-1, -1),}\n",
    "\n",
    "true_graph = nx.DiGraph()\n",
    "true_graph.add_nodes_from(nodes)\n",
    "true_graph.add_edges_from([('x1', 'x3'), ('x2', 'x3'), ('x1', 'x4'), ('x3', 'x5')])\n",
    "\n",
    "nx.draw(true_graph, with_labels=True, node_size=500, node_color='w', edgecolors ='black', pos=pos)"
   ]
  },
  {
   "cell_type": "markdown",
   "id": "4eb02bb6",
   "metadata": {},
   "source": [
    "### Determine the skeleton\n",
    "The first step is to determine the skeleton. We start with the complete graph with the number of nodes $p$. Then for $k = 0,1,...,p-2$, consider all pairs of vertices $(i, j)$, and remove the edge between them if $X_i$ and $X_j$ are conditionally independent given some subset of size $k$ of $p\\setminus(i, j)$."
   ]
  },
  {
   "cell_type": "markdown",
   "id": "1c4b551d",
   "metadata": {},
   "source": [
    "We start with a fully connected undirected graph with number of nodes 5."
   ]
  },
  {
   "cell_type": "code",
   "execution_count": 5,
   "id": "1f0b3554",
   "metadata": {},
   "outputs": [
    {
     "data": {
      "image/png": "[encoded data removed]",
      "text/plain": [
       "<Figure size 432x288 with 1 Axes>"
      ]
     },
     "metadata": {},
     "output_type": "display_data"
    }
   ],
   "source": [
    "edges = combinations(nodes, 2)\n",
    "G = nx.Graph()\n",
    "G.add_nodes_from(nodes)\n",
    "G.add_edges_from(edges)\n",
    "\n",
    "nx.draw(G, with_labels=True, node_size=500, node_color='w', edgecolors ='black', pos=pos)"
   ]
  },
  {
   "cell_type": "markdown",
   "id": "a521b8ab",
   "metadata": {},
   "source": [
    "In **round 1**, We use partial correlation that we introduced in Tutorial 2 to do conditional independence testing. For the first round we test independence between any pair of variables with a conditioning set with size of 0."
   ]
  },
  {
   "cell_type": "markdown",
   "id": "59927368",
   "metadata": {},
   "source": [
    "By default we use the significance level of 0.05. The Null hypothesis H0 is: $X \\!\\perp\\!\\!\\!\\perp Y$. The alternative hypothesis H1 is: $X \\not \\!\\perp\\!\\!\\!\\perp Y$. "
   ]
  },
  {
   "cell_type": "code",
   "execution_count": 6,
   "id": "50f12a05",
   "metadata": {},
   "outputs": [
    {
     "data": {
      "text/html": [
       "<div>\n",
       "<style scoped>\n",
       "    .dataframe tbody tr th:only-of-type {\n",
       "        vertical-align: middle;\n",
       "    }\n",
       "\n",
       "    .dataframe tbody tr th {\n",
       "        vertical-align: top;\n",
       "    }\n",
       "\n",
       "    .dataframe thead th {\n",
       "        text-align: right;\n",
       "    }\n",
       "</style>\n",
       "<table border=\"1\" class=\"dataframe\">\n",
       "  <thead>\n",
       "    <tr style=\"text-align: right;\">\n",
       "      <th></th>\n",
       "      <th>n</th>\n",
       "      <th>r</th>\n",
       "      <th>CI95%</th>\n",
       "      <th>p-val</th>\n",
       "    </tr>\n",
       "  </thead>\n",
       "  <tbody>\n",
       "    <tr>\n",
       "      <th>pearson</th>\n",
       "      <td>10000</td>\n",
       "      <td>-0.023</td>\n",
       "      <td>[-0.04, -0.0]</td>\n",
       "      <td>0.02</td>\n",
       "    </tr>\n",
       "  </tbody>\n",
       "</table>\n",
       "</div>"
      ],
      "text/plain": [
       "             n      r          CI95%  p-val\n",
       "pearson  10000 -0.023  [-0.04, -0.0]   0.02"
      ]
     },
     "execution_count": 6,
     "metadata": {},
     "output_type": "execute_result"
    },
    {
     "data": {
      "image/png": "[encoded data removed]",
      "text/plain": [
       "<Figure size 432x288 with 1 Axes>"
      ]
     },
     "metadata": {
      "needs_background": "light"
     },
     "output_type": "display_data"
    }
   ],
   "source": [
    "import pingouin as pg\n",
    "alpha=0.05 # significance level\n",
    "\n",
    "plt.scatter(x1, x2)\n",
    "# you can also use R packages such as ppcor\n",
    "pg.partial_corr(data=df, x='x1', y='x2', covar=[]).round(3) "
   ]
  },
  {
   "cell_type": "markdown",
   "id": "3ad8b065",
   "metadata": {},
   "source": [
    "The non-significant p-value shows that we fail to reject H0 and therefore we remove the edge between x1 and x2. From the scatter plot we can also see that x1 and x2 are likely to be independent."
   ]
  },
  {
   "cell_type": "code",
   "execution_count": 7,
   "id": "72f3590f",
   "metadata": {},
   "outputs": [
    {
     "data": {
      "image/png": "[encoded data removed]",
      "text/plain": [
       "<Figure size 432x288 with 1 Axes>"
      ]
     },
     "metadata": {},
     "output_type": "display_data"
    }
   ],
   "source": [
    "G.remove_edge('x1', 'x2')\n",
    "nx.draw(G, with_labels=True, node_size=500, node_color='w', edgecolors ='black', pos=pos)"
   ]
  },
  {
   "cell_type": "code",
   "execution_count": 8,
   "id": "606659e5",
   "metadata": {},
   "outputs": [
    {
     "data": {
      "text/html": [
       "<div>\n",
       "<style scoped>\n",
       "    .dataframe tbody tr th:only-of-type {\n",
       "        vertical-align: middle;\n",
       "    }\n",
       "\n",
       "    .dataframe tbody tr th {\n",
       "        vertical-align: top;\n",
       "    }\n",
       "\n",
       "    .dataframe thead th {\n",
       "        text-align: right;\n",
       "    }\n",
       "</style>\n",
       "<table border=\"1\" class=\"dataframe\">\n",
       "  <thead>\n",
       "    <tr style=\"text-align: right;\">\n",
       "      <th></th>\n",
       "      <th>n</th>\n",
       "      <th>r</th>\n",
       "      <th>CI95%</th>\n",
       "      <th>p-val</th>\n",
       "    </tr>\n",
       "  </thead>\n",
       "  <tbody>\n",
       "    <tr>\n",
       "      <th>pearson</th>\n",
       "      <td>10000</td>\n",
       "      <td>0.628</td>\n",
       "      <td>[0.62, 0.64]</td>\n",
       "      <td>0.0</td>\n",
       "    </tr>\n",
       "  </tbody>\n",
       "</table>\n",
       "</div>"
      ],
      "text/plain": [
       "             n      r         CI95%  p-val\n",
       "pearson  10000  0.628  [0.62, 0.64]    0.0"
      ]
     },
     "execution_count": 8,
     "metadata": {},
     "output_type": "execute_result"
    },
    {
     "data": {
      "image/png": "[encoded data removed]",
      "text/plain": [
       "<Figure size 432x288 with 1 Axes>"
      ]
     },
     "metadata": {
      "needs_background": "light"
     },
     "output_type": "display_data"
    }
   ],
   "source": [
    "plt.scatter(x1, x3)\n",
    "\n",
    "pg.partial_corr(data=df, x='x1', y='x3', covar=[]).round(3)"
   ]
  },
  {
   "cell_type": "markdown",
   "id": "e098087a",
   "metadata": {},
   "source": [
    "The p-value is smaller than 0.05 so we reject H0 and therefore the data favors $X1 \\not \\!\\perp\\!\\!\\!\\perp X3$, and so we keep the edge between them. The plot also shows a correlation tendency."
   ]
  },
  {
   "cell_type": "markdown",
   "id": "a208418d",
   "metadata": {},
   "source": [
    "We go through the whole edge list and remove the edges when two nodes are independent."
   ]
  },
  {
   "cell_type": "code",
   "execution_count": 9,
   "id": "5a00b47e",
   "metadata": {},
   "outputs": [
    {
     "name": "stdout",
     "output_type": "stream",
     "text": [
      "removing edge:  ('x2', 'x4')\n"
     ]
    },
    {
     "data": {
      "image/png": "[encoded data removed]",
      "text/plain": [
       "<Figure size 432x288 with 1 Axes>"
      ]
     },
     "metadata": {},
     "output_type": "display_data"
    }
   ],
   "source": [
    "first_round_removed_edges = []\n",
    "for (u, v) in combinations(nodes, 2):\n",
    "    res = pg.partial_corr(data=df, x=u, y=v, covar=[]).round(3)\n",
    "    p_val = res['p-val'].item()\n",
    "    if p_val > alpha:\n",
    "        first_round_removed_edges.append((u, v))\n",
    "        print(\"removing edge: \", (u, v))\n",
    "        # reject H0, indicating u and v are independent\n",
    "        # we then remove the edge\n",
    "        if G.has_edge(u, v): # safety check\n",
    "            G.remove_edge(u, v)\n",
    "nx.draw(G, with_labels=True, node_size=500, node_color='w', edgecolors ='black', pos=pos)"
   ]
  },
  {
   "cell_type": "markdown",
   "id": "f2e3eadd",
   "metadata": {},
   "source": [
    "Next in **round 2**, we have conditioning set of size one. Let's start with the set {x3}."
   ]
  },
  {
   "cell_type": "code",
   "execution_count": 10,
   "id": "8c31f97c",
   "metadata": {},
   "outputs": [
    {
     "data": {
      "text/html": [
       "<div>\n",
       "<style scoped>\n",
       "    .dataframe tbody tr th:only-of-type {\n",
       "        vertical-align: middle;\n",
       "    }\n",
       "\n",
       "    .dataframe tbody tr th {\n",
       "        vertical-align: top;\n",
       "    }\n",
       "\n",
       "    .dataframe thead th {\n",
       "        text-align: right;\n",
       "    }\n",
       "</style>\n",
       "<table border=\"1\" class=\"dataframe\">\n",
       "  <thead>\n",
       "    <tr style=\"text-align: right;\">\n",
       "      <th></th>\n",
       "      <th>n</th>\n",
       "      <th>r</th>\n",
       "      <th>CI95%</th>\n",
       "      <th>p-val</th>\n",
       "    </tr>\n",
       "  </thead>\n",
       "  <tbody>\n",
       "    <tr>\n",
       "      <th>pearson</th>\n",
       "      <td>10000</td>\n",
       "      <td>-0.009</td>\n",
       "      <td>[-0.03, 0.01]</td>\n",
       "      <td>0.377</td>\n",
       "    </tr>\n",
       "  </tbody>\n",
       "</table>\n",
       "</div>"
      ],
      "text/plain": [
       "             n      r          CI95%  p-val\n",
       "pearson  10000 -0.009  [-0.03, 0.01]  0.377"
      ]
     },
     "execution_count": 10,
     "metadata": {},
     "output_type": "execute_result"
    }
   ],
   "source": [
    "pg.partial_corr(data=df, x='x1', y='x5', covar=['x3']).round(3)"
   ]
  },
  {
   "cell_type": "markdown",
   "id": "883aca35",
   "metadata": {},
   "source": [
    "The non-significant p-value shows that we fail to reject H0. We then remove the edge between x1 and x5."
   ]
  },
  {
   "cell_type": "code",
   "execution_count": 11,
   "id": "3e71c449",
   "metadata": {},
   "outputs": [
    {
     "data": {
      "image/png": "[encoded data removed]",
      "text/plain": [
       "<Figure size 432x288 with 1 Axes>"
      ]
     },
     "metadata": {},
     "output_type": "display_data"
    }
   ],
   "source": [
    "if G.has_edge('x1', 'x5'): # safety check\n",
    "    G.remove_edge('x1', 'x5')\n",
    "nx.draw(G, with_labels=True, node_size=500, node_color='w', edgecolors ='black', pos=pos)"
   ]
  },
  {
   "cell_type": "markdown",
   "id": "3373bea9",
   "metadata": {},
   "source": [
    "We go through all combinations of nodes with different conditioning sets and remove edges. "
   ]
  },
  {
   "cell_type": "code",
   "execution_count": 12,
   "id": "c664bf43",
   "metadata": {},
   "outputs": [
    {
     "name": "stdout",
     "output_type": "stream",
     "text": [
      "removing edge:  ('x2', 'x4')\n",
      "removing edge:  ('x3', 'x4')\n",
      "removing edge:  ('x4', 'x5')\n",
      "removing edge:  ('x1', 'x5')\n",
      "removing edge:  ('x2', 'x5')\n",
      "removing edge:  ('x4', 'x5')\n",
      "removing edge:  ('x1', 'x2')\n"
     ]
    },
    {
     "data": {
      "image/png": "[encoded data removed]",
      "text/plain": [
       "<Figure size 432x288 with 1 Axes>"
      ]
     },
     "metadata": {},
     "output_type": "display_data"
    }
   ],
   "source": [
    "for z in nodes:\n",
    "    for (x, y) in combinations([node for node in nodes if node != z], 2):\n",
    "        res = pg.partial_corr(data=df, x=x, y=y, covar=[z]).round(3)\n",
    "        p_val = res['p-val'].item()\n",
    "        if p_val > alpha:\n",
    "            print(\"removing edge: \", (x, y))\n",
    "            # edge removal\n",
    "            if G.has_edge(x, y): # safety check\n",
    "                G.remove_edge(x, y)\n",
    "                \n",
    "nx.draw(G, with_labels=True, node_size=500, node_color='w', edgecolors ='black', pos=pos)"
   ]
  },
  {
   "cell_type": "markdown",
   "id": "aa31b254",
   "metadata": {},
   "source": [
    "We can continue performing the conditional independence testing with larger and larger conditioning sets. In this example, we don't have any other independences found. The full algorithm is below."
   ]
  },
  {
   "cell_type": "code",
   "execution_count": 13,
   "id": "45e073e0",
   "metadata": {},
   "outputs": [],
   "source": [
    "def sgs_algo(nodes, G, df, alpha=0.05):\n",
    "    for size in range(len(nodes)-1):\n",
    "        for z in combinations(nodes, size):\n",
    "            for (x, y) in combinations([node for node in nodes if node not in z], 2):\n",
    "                res = pg.partial_corr(data=df, x=x, y=y, covar=[z]).round(3)\n",
    "                p_val = res['p-val'].item()\n",
    "                if p_val > alpha:\n",
    "                    print(\"removing edge: \", (x, y))\n",
    "                    # edge removal\n",
    "                    if G.has_edge(x, y): # safety check\n",
    "                        G.remove_edge(x, y)\n",
    "    return G"
   ]
  },
  {
   "cell_type": "markdown",
   "id": "2607234f",
   "metadata": {},
   "source": [
    "### Determine the v-structures\n",
    "\n",
    "networkX does not support mixed graphs, so we convert the undirected graph to a directed graph. We use **black** edges to indicate directed edges and **red** bi-directional edges to indicate undirected edges.\n",
    "\n",
    "Here we manully check the v-strucures. You can also implement an algorithm with Meek rules (http://proceedings.mlr.press/v89/katz19a/katz19a-supp.pdf) to find a complete orientation."
   ]
  },
  {
   "cell_type": "code",
   "execution_count": 14,
   "id": "d91d0415",
   "metadata": {},
   "outputs": [],
   "source": [
    "# utility function to transfer undirected graph to directed graph \n",
    "# with bi-directional edges with red-color to indicate undirected edges\n",
    "def to_directed(H):\n",
    "    D = nx.DiGraph()\n",
    "    nodes = list(H.nodes())\n",
    "    edges = []\n",
    "    for (u, v) in H.edges():\n",
    "        edges.append((u, v, {\"directed\": False}))\n",
    "        edges.append((v, u, {\"directed\": False}))\n",
    "    D.add_nodes_from(nodes)\n",
    "    D.add_edges_from(edges)\n",
    "    return D"
   ]
  },
  {
   "cell_type": "code",
   "execution_count": 15,
   "id": "a86b5ee5",
   "metadata": {},
   "outputs": [
    {
     "data": {
      "image/png": "[encoded data removed]",
      "text/plain": [
       "<Figure size 432x288 with 1 Axes>"
      ]
     },
     "metadata": {},
     "output_type": "display_data"
    }
   ],
   "source": [
    "G_directed = to_directed(G)\n",
    "colors = ['black' if G_directed[u][v]['directed']==True else 'r' for u,v in G_directed.edges()]\n",
    "nx.draw(G_directed, with_labels=True, node_size=500, node_color='w', edgecolors ='black', pos=pos, edge_color=colors)"
   ]
  },
  {
   "cell_type": "markdown",
   "id": "21cc9383",
   "metadata": {},
   "source": [
    "From the first round we removed edges between x1 and x2, and between x2 and x4, so we know $X1 \\!\\perp\\!\\!\\!\\perp X2$. Because there is a node x3 that has undirected edges to x1 and x2, we can determine a v-structure for x2 -> x3 <- x1. "
   ]
  },
  {
   "cell_type": "code",
   "execution_count": 16,
   "id": "91c1b764",
   "metadata": {},
   "outputs": [
    {
     "data": {
      "text/plain": [
       "[('x2', 'x4')]"
      ]
     },
     "execution_count": 16,
     "metadata": {},
     "output_type": "execute_result"
    }
   ],
   "source": [
    "first_round_removed_edges"
   ]
  },
  {
   "cell_type": "markdown",
   "id": "3c88d6d6",
   "metadata": {},
   "source": [
    "Based on the v-structure, we orient the directed edges (x2 -> x3) and (x1 -> x3)."
   ]
  },
  {
   "cell_type": "code",
   "execution_count": 17,
   "id": "d89a1a6a",
   "metadata": {},
   "outputs": [],
   "source": [
    "def edge_removal(edges, G):\n",
    "    for (x, y) in edges:\n",
    "        if G.has_edge(x, y):\n",
    "            G.remove_edge(x, y)\n",
    "        nx.set_edge_attributes(G, {(y, x): {\"directed\": True}})\n",
    "    colors = ['black' if G_directed[u][v]['directed']==True else 'r' for u,v in G_directed.edges()]\n",
    "    return G, colors"
   ]
  },
  {
   "cell_type": "code",
   "execution_count": 18,
   "id": "af62eb85",
   "metadata": {},
   "outputs": [
    {
     "data": {
      "image/png": "[encoded data removed]",
      "text/plain": [
       "<Figure size 432x288 with 1 Axes>"
      ]
     },
     "metadata": {},
     "output_type": "display_data"
    }
   ],
   "source": [
    "G_directed, colors = edge_removal([('x3', 'x2'), ('x3', 'x1')], G_directed)\n",
    "nx.draw(G_directed, with_labels=True, node_size=500, node_color='w', edgecolors ='black', pos=pos, edge_color=colors)"
   ]
  },
  {
   "cell_type": "markdown",
   "id": "e805ee04",
   "metadata": {},
   "source": [
    "### Direct more edges if possible\n",
    "\n",
    "Because there are no other v-structures, we know the edge direction (x5 -> x3) should not exist since it will bring additional v-structure. We thus orient the directed edge (x3 -> x5)."
   ]
  },
  {
   "cell_type": "code",
   "execution_count": 19,
   "id": "9c05de47",
   "metadata": {},
   "outputs": [
    {
     "data": {
      "image/png": "[encoded data removed]",
      "text/plain": [
       "<Figure size 432x288 with 1 Axes>"
      ]
     },
     "metadata": {},
     "output_type": "display_data"
    }
   ],
   "source": [
    "G_directed, colors = edge_removal([('x5', 'x3')], G_directed)\n",
    "nx.draw(G_directed, with_labels=True, node_size=500, node_color='w', edgecolors ='black', pos=pos, edge_color=colors)"
   ]
  },
  {
   "cell_type": "markdown",
   "id": "d04d4018",
   "metadata": {},
   "source": [
    "We then run directly the PC algorithm from the CausalDiscoveryTool package and see the results. \n",
    "The default CItest we use here is Gaussion CI test. There is also a list of options possible for different CI tests.\n",
    "```CI_test = {'binary': \"pcalg::binCItest\", \n",
    "             'discrete': \"pcalg::disCItest\",\n",
    "             'hsic_gamma': \"kpcalg::kernelCItest\",\n",
    "             'hsic_perm': \"kpcalg::kernelCItest\",\n",
    "             'hsic_clust': \"kpcalg::kernelCItest\",\n",
    "             'gaussian': \"pcalg::gaussCItest\",\n",
    "             'rcit': \"RCIT:::CItest\",\n",
    "             'rcot': \"RCIT:::CItest\"}```"
   ]
  },
  {
   "cell_type": "code",
   "execution_count": 20,
   "id": "1460e7f6",
   "metadata": {},
   "outputs": [],
   "source": [
    "def get_colors(G):\n",
    "    edges = G.edges()\n",
    "    for (x, y) in G.edges():\n",
    "        if (y, x) in edges:\n",
    "            # bi-directional edge\n",
    "            nx.set_edge_attributes(G, {(x, y): {\"directed\": False}})\n",
    "        else:\n",
    "            nx.set_edge_attributes(G, {(x, y): {\"directed\": True}})\n",
    "    colors = ['black' if G_directed[u][v]['directed']==True else 'r' for u,v in G_directed.edges()]\n",
    "    return colors"
   ]
  },
  {
   "cell_type": "code",
   "execution_count": 21,
   "id": "16e5e8c3",
   "metadata": {},
   "outputs": [
    {
     "data": {
      "image/png": "[encoded data removed]",
      "text/plain": [
       "<Figure size 432x288 with 1 Axes>"
      ]
     },
     "metadata": {},
     "output_type": "display_data"
    }
   ],
   "source": [
    "model_pc = cdt.causality.graph.PC(CItest=\"gaussian\", alpha=alpha)\n",
    "created_graph = model_pc.create_graph_from_data(df)\n",
    "colors = get_colors(created_graph)\n",
    "nx.draw(created_graph, with_labels=True, node_size=500, node_color='w', edgecolors ='black', pos=pos, edge_color=colors)"
   ]
  },
  {
   "cell_type": "markdown",
   "id": "f0c8fa09",
   "metadata": {},
   "source": [
    "The results from the PC algorithm match the result that we manually constructed. In general, the PC algorithm works well with the number of nodes smaller than 200. Also, the PC algorithm is sensitive to conditional independence tests and the number of samples."
   ]
  },
  {
   "cell_type": "markdown",
   "id": "3e567125",
   "metadata": {},
   "source": [
    "The result is a Markov equivalence class that contains two valid DAGs. We are not able to orient the edge between x1 and x4 based on the conditional independence tests."
   ]
  },
  {
   "cell_type": "markdown",
   "id": "473ae7ab",
   "metadata": {},
   "source": [
    "### Background knowledge\n",
    "\n",
    "In many applications background knowledge of the causal system is available.\n",
    "This information is typically of two kinds: Either it is known that a certain edge must or must not be present, or the orientation of a certain edge is known.\n",
    "\n",
    "Within the PC() algorithm in CDT, we can provide a graph with prior knowledge as part of the input."
   ]
  },
  {
   "cell_type": "markdown",
   "id": "76fdd953",
   "metadata": {},
   "source": [
    "For the example above, if we have the knowledge that x4 cannot cause x1, then we are able to orient the edge and therefore obtain the DAG."
   ]
  },
  {
   "cell_type": "code",
   "execution_count": 43,
   "id": "f5ef94ff",
   "metadata": {},
   "outputs": [
    {
     "data": {
      "image/png": "[encoded data removed]",
      "text/plain": [
       "<Figure size 432x288 with 1 Axes>"
      ]
     },
     "metadata": {},
     "output_type": "display_data"
    }
   ],
   "source": [
    "G_directed, colors = edge_removal([('x4', 'x1')], G_directed)\n",
    "nx.draw(G_directed, with_labels=True, node_size=500, node_color='w', edgecolors ='black', pos=pos, edge_color=colors)\n",
    "nx.write_gml(G_directed, \"pc_graph.gml\")"
   ]
  },
  {
   "cell_type": "markdown",
   "id": "e4e758dc",
   "metadata": {},
   "source": [
    "### Estimating in DoWhy"
   ]
  },
  {
   "cell_type": "markdown",
   "id": "317038d7",
   "metadata": {},
   "source": [
    "We can then use this graph in DoWhy and carry on causal effect estimation. Note that we can only use DAGs in DoWhy for the causal model. If the outputs from the PC algorithm are not DAGs then we are not able to use them directly in DoWhy."
   ]
  },
  {
   "cell_type": "code",
   "execution_count": 44,
   "id": "dbdfa1cc",
   "metadata": {},
   "outputs": [
    {
     "data": {
      "image/png": "[encoded data removed]",
      "text/plain": [
       "<IPython.core.display.Image object>"
      ]
     },
     "metadata": {
      "image/png": {
       "height": 100,
       "width": 200
      }
     },
     "output_type": "display_data"
    },
    {
     "data": {
      "image/png": "[encoded data removed]",
      "text/plain": [
       "<Figure size 576x432 with 1 Axes>"
      ]
     },
     "metadata": {},
     "output_type": "display_data"
    }
   ],
   "source": [
    "# a utility function to parse the .gml file to string\n",
    "def gml_to_string(file):\n",
    "    gml_str = ''\n",
    "    with open(file, 'r') as file:\n",
    "        for line in file:\n",
    "            gml_str += line.rstrip()\n",
    "    return gml_str\n",
    "\n",
    "from IPython.display import Image, display\n",
    "\n",
    "gml_graph = gml_to_string('pc_graph.gml')\n",
    "# With GML string\n",
    "model=CausalModel(\n",
    "        data = df,\n",
    "        treatment='x2',\n",
    "        outcome='x5',\n",
    "        graph=gml_graph\n",
    "        )\n",
    "model.view_model()\n",
    "\n",
    "display(Image(filename=\"causal_model.png\", width = 200, height = 100))"
   ]
  },
  {
   "cell_type": "code",
   "execution_count": 45,
   "id": "d2853ca8",
   "metadata": {},
   "outputs": [
    {
     "name": "stdout",
     "output_type": "stream",
     "text": [
      "Estimand type: nonparametric-ate\n",
      "\n",
      "### Estimand : 1\n",
      "Estimand name: backdoor\n",
      "Estimand expression:\n",
      "  d                   \n",
      "─────(Expectation(x5))\n",
      "d[x₂]                 \n",
      "Estimand assumption 1, Unconfoundedness: If U→{x2} and U→x5 then P(x5|x2,,U) = P(x5|x2,)\n",
      "\n",
      "### Estimand : 2\n",
      "Estimand name: iv\n",
      "No such variable(s) found!\n",
      "\n",
      "### Estimand : 3\n",
      "Estimand name: frontdoor\n",
      "Estimand expression:\n",
      "Expectation(Derivative(x5, [x3])*Derivative([x3], [x2]))\n",
      "Estimand assumption 1, Full-mediation: x3 intercepts (blocks) all directed paths from x2 to x,5.\n",
      "Estimand assumption 2, First-stage-unconfoundedness: If U→{x2} and U→{x3} then P(x3|x2,U) = P(x3|x2)\n",
      "Estimand assumption 3, Second-stage-unconfoundedness: If U→{x3} and U→x5 then P(x5|x3, x2, U) = P(x5|x3, x2)\n",
      "\n"
     ]
    }
   ],
   "source": [
    "identified_estimand = model.identify_effect()\n",
    "print(identified_estimand)"
   ]
  },
  {
   "cell_type": "code",
   "execution_count": 46,
   "id": "82053d0b",
   "metadata": {},
   "outputs": [
    {
     "name": "stdout",
     "output_type": "stream",
     "text": [
      "Causal Estimate is 2.8996778886072128\n"
     ]
    }
   ],
   "source": [
    "estimate = model.estimate_effect(identified_estimand,\n",
    "        method_name=\"backdoor.linear_regression\")\n",
    "print(\"Causal Estimate is \" + str(estimate.value))"
   ]
  }
 ],
 "metadata": {
  "interpreter": {
   "hash": "34d7d7721f0477721de4e9b22685ddef832fd9dea0e23f8e06aa09513dc810b8"
  },
  "kernelspec": {
   "display_name": "cds",
   "language": "python",
   "name": "python3"
  },
  "language_info": {
   "codemirror_mode": {
    "name": "ipython",
    "version": 3
   },
   "file_extension": ".py",
   "mimetype": "text/x-python",
   "name": "python",
   "nbconvert_exporter": "python",
   "pygments_lexer": "ipython3",
   "version": "3.9.7"
  }
 },
 "nbformat": 4,
 "nbformat_minor": 5
}
